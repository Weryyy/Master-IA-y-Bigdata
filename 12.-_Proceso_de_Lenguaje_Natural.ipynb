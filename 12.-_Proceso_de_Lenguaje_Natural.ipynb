{
 "cells": [
  {
   "cell_type": "markdown",
   "id": "8337f114-60c5-4763-b70a-593ec4e11315",
   "metadata": {},
   "source": [
    "# 12.- Procesamiento de Lenguaje Natural"
   ]
  },
  {
   "cell_type": "markdown",
   "id": "a85a16d9-3142-4a20-b505-269b53b7e1bb",
   "metadata": {},
   "source": [
    "### 12.0.1.- Instalando TextBlob"
   ]
  },
  {
   "cell_type": "markdown",
   "id": "2c5bfff5-b074-47a4-b71e-43c9a827371c",
   "metadata": {},
   "source": [
    "Lo primero será instalar TextBlob desde el prompt de anaconda\n",
    "\n",
    "conda install -c confa-forge textblob"
   ]
  },
  {
   "cell_type": "markdown",
   "id": "4bcfe69e-244b-4aef-8927-8a23d6967a77",
   "metadata": {},
   "source": [
    "Una vez ejecutado, corre el siguiente comando\n",
    "\n",
    "ipython -m textblob.download_corpora"
   ]
  },
  {
   "cell_type": "markdown",
   "id": "8c85e0dc-11c9-495d-b55e-4a40c2eec460",
   "metadata": {},
   "source": [
    "## 12.2.- TextBlob"
   ]
  },
  {
   "cell_type": "markdown",
   "id": "b50cce96-bd24-46d9-9c6d-ab23a19088cb",
   "metadata": {},
   "source": [
    "### 12.2.2.- Crear un TextBlob"
   ]
  },
  {
   "cell_type": "markdown",
   "id": "4462e2c3-4d35-4628-a8e8-85e5b2a7af4e",
   "metadata": {},
   "source": [
    "Vamos a crear un textblob con el texto 'Y cuando despertó. Todo a su alrededor era luminoso'"
   ]
  },
  {
   "cell_type": "code",
   "execution_count": 1,
   "id": "d4ffc636-d99a-4565-95ba-0a4236ef4084",
   "metadata": {},
   "outputs": [],
   "source": [
    "from textblob import TextBlob"
   ]
  },
  {
   "cell_type": "code",
   "execution_count": 2,
   "id": "59f8d266-efde-4346-9d00-7bbc572cc1d6",
   "metadata": {},
   "outputs": [],
   "source": [
    "texto = 'Y cuando despertó. Todo a su alrededor era luminoso'"
   ]
  },
  {
   "cell_type": "code",
   "execution_count": 3,
   "id": "392a28b9-1c04-4796-84a7-3eb5f1ed7cfd",
   "metadata": {},
   "outputs": [],
   "source": [
    "blob = TextBlob(texto) # es mas o menos un string"
   ]
  },
  {
   "cell_type": "code",
   "execution_count": 4,
   "id": "53531a8b-16a3-455b-836b-da404faf1359",
   "metadata": {},
   "outputs": [
    {
     "data": {
      "text/plain": [
       "TextBlob(\"Y cuando despertó. Todo a su alrededor era luminoso\")"
      ]
     },
     "execution_count": 4,
     "metadata": {},
     "output_type": "execute_result"
    }
   ],
   "source": [
    "blob"
   ]
  },
  {
   "cell_type": "markdown",
   "id": "1a198156-2de3-43b2-a09e-8f6a89c6d0d5",
   "metadata": {},
   "source": [
    "### 12.2.3.- Tokenizar"
   ]
  },
  {
   "cell_type": "markdown",
   "id": "c47c93b8-5742-4028-9af6-7e5d67e36021",
   "metadata": {},
   "source": [
    "Ahora vamos a obtener una lista de oraciones"
   ]
  },
  {
   "cell_type": "code",
   "execution_count": 10,
   "id": "5f1a57ec-0a5d-465d-aacd-1e36f4c54c89",
   "metadata": {},
   "outputs": [
    {
     "data": {
      "text/plain": [
       "[Sentence(\"Y cuando despertó.\"), Sentence(\"Todo a su alrededor era luminoso\")]"
      ]
     },
     "execution_count": 10,
     "metadata": {},
     "output_type": "execute_result"
    }
   ],
   "source": [
    "#import nltk\n",
    "#nltk.download(\"punkt_tab\")\n",
    "\n",
    "blob.sentences"
   ]
  },
  {
   "cell_type": "markdown",
   "id": "1546196d-9a34-4196-bf51-a2439d80b569",
   "metadata": {},
   "source": [
    "Y una lista de palabras"
   ]
  },
  {
   "cell_type": "code",
   "execution_count": 11,
   "id": "af5a3fc1-91e5-4bf9-bca3-992dd90191f5",
   "metadata": {},
   "outputs": [
    {
     "data": {
      "text/plain": [
       "WordList(['Y', 'cuando', 'despertó', 'Todo', 'a', 'su', 'alrededor', 'era', 'luminoso'])"
      ]
     },
     "execution_count": 11,
     "metadata": {},
     "output_type": "execute_result"
    }
   ],
   "source": [
    "blob.words"
   ]
  },
  {
   "cell_type": "code",
   "execution_count": null,
   "id": "6b0b72db-bd0a-4de4-a770-718b9314eab3",
   "metadata": {},
   "outputs": [],
   "source": []
  },
  {
   "cell_type": "markdown",
   "id": "bded994a-b85c-4ad4-8674-bded8ff559f8",
   "metadata": {},
   "source": [
    "Repetimos para 'I have good discipline to study. In the future I will be a great engineer'"
   ]
  },
  {
   "cell_type": "code",
   "execution_count": 13,
   "id": "50e4942a-6b36-45d1-bd11-6ff4108cfe4e",
   "metadata": {},
   "outputs": [
    {
     "data": {
      "text/plain": [
       "[Sentence(\"I have good discipline to study.\"),\n",
       " Sentence(\"In the future I will be a great engineer\")]"
      ]
     },
     "execution_count": 13,
     "metadata": {},
     "output_type": "execute_result"
    }
   ],
   "source": [
    "blob2 = TextBlob('I have good discipline to study. In the future I will be a great engineer')\n",
    "blob2.sentences"
   ]
  },
  {
   "cell_type": "code",
   "execution_count": 14,
   "id": "c72bfb91-4026-4175-aeaa-ecc313df93b3",
   "metadata": {},
   "outputs": [
    {
     "data": {
      "text/plain": [
       "WordList(['I', 'have', 'good', 'discipline', 'to', 'study', 'In', 'the', 'future', 'I', 'will', 'be', 'a', 'great', 'engineer'])"
      ]
     },
     "execution_count": 14,
     "metadata": {},
     "output_type": "execute_result"
    }
   ],
   "source": [
    "blob2.words"
   ]
  },
  {
   "cell_type": "code",
   "execution_count": null,
   "id": "ad74406d-cc58-4e75-8a0f-479388029c01",
   "metadata": {},
   "outputs": [],
   "source": []
  },
  {
   "cell_type": "code",
   "execution_count": null,
   "id": "027a5b94-dbe1-48cb-bc5c-0dcfb6008009",
   "metadata": {},
   "outputs": [],
   "source": []
  },
  {
   "cell_type": "markdown",
   "id": "ca188e35-2893-41f3-9d8d-9828afc90bd7",
   "metadata": {},
   "source": [
    "### 12.2.4.- Parte del habla"
   ]
  },
  {
   "cell_type": "markdown",
   "id": "83c8ff74-4e75-4918-99bd-6df285ea5636",
   "metadata": {},
   "source": [
    "Ahora vamos a etiquetar cada parte de la oración en su categoría de sustantivo, pronotmbre, verbo, etc"
   ]
  },
  {
   "cell_type": "code",
   "execution_count": 17,
   "id": "38a2d638-3bd5-4706-9467-fd17cf263582",
   "metadata": {},
   "outputs": [
    {
     "data": {
      "text/plain": [
       "\u001b[1;31mType:\u001b[0m        list\n",
       "\u001b[1;31mString form:\u001b[0m [('I', 'PRP'), ('have', 'VBP'), ('good', 'JJ'), ('discipline', 'NN'), ('to', 'TO'), ('study', 'VB <...> '), ('I', 'PRP'), ('will', 'MD'), ('be', 'VB'), ('a', 'DT'), ('great', 'JJ'), ('engineer', 'NN')]\n",
       "\u001b[1;31mLength:\u001b[0m      15\n",
       "\u001b[1;31mDocstring:\u001b[0m  \n",
       "Built-in mutable sequence.\n",
       "\n",
       "If no argument is given, the constructor creates a new empty list.\n",
       "The argument must be an iterable if specified."
      ]
     },
     "metadata": {},
     "output_type": "display_data"
    }
   ],
   "source": [
    "#import nltk\n",
    "#nltk.download('averaged_perceptron_tagger_eng')\n",
    "\n",
    "blob2.tags?\n"
   ]
  },
  {
   "cell_type": "markdown",
   "id": "c7a3a9f4-4ebe-4bb9-b6f5-4ed48fb93de1",
   "metadata": {},
   "source": [
    "### 12.2.5.- Frases de sustantivos"
   ]
  },
  {
   "cell_type": "markdown",
   "id": "12344c57-80c8-42dd-a61c-3f99f016cb09",
   "metadata": {},
   "source": [
    "Le podemos pedir noun phrases a nuestro textblob"
   ]
  },
  {
   "cell_type": "code",
   "execution_count": 18,
   "id": "4ac21387-1a05-4bc3-9892-cb1ea05ab9e2",
   "metadata": {},
   "outputs": [
    {
     "data": {
      "text/plain": [
       "WordList(['good discipline', 'great engineer'])"
      ]
     },
     "execution_count": 18,
     "metadata": {},
     "output_type": "execute_result"
    }
   ],
   "source": [
    "blob2.noun_phrases"
   ]
  },
  {
   "cell_type": "markdown",
   "id": "d36d1e1b-b203-47ff-a983-b8ae794d011f",
   "metadata": {},
   "source": [
    "### 12.2.6.- Analisis de sentimientos"
   ]
  },
  {
   "cell_type": "markdown",
   "id": "1c3075c6-e3e6-4c7f-a248-ccdb6bf0afd4",
   "metadata": {},
   "source": [
    "También podemos analizar el sentimento de una oración. Vamos dandole con l oración que traiamos"
   ]
  },
  {
   "cell_type": "markdown",
   "id": "f29c3a15-53ae-4b0f-ad33-3dbc0ba9d230",
   "metadata": {},
   "source": [
    "Ahora otro ejemplo = 'I am a bad student. I will not be able to finish my studies'"
   ]
  },
  {
   "cell_type": "code",
   "execution_count": 46,
   "id": "51f5babf-3f70-4f49-9839-238c1cd21623",
   "metadata": {},
   "outputs": [],
   "source": [
    "texto =\"I am a bad student. I will not be able to finish my studies\"\n",
    "blob3 = TextBlob(texto)"
   ]
  },
  {
   "cell_type": "code",
   "execution_count": 47,
   "id": "065c0dcc-0f55-4a8e-99d0-8609c48f8b1e",
   "metadata": {},
   "outputs": [
    {
     "data": {
      "text/plain": [
       "Sentiment(polarity=-0.09999999999999992, subjectivity=0.6458333333333333)"
      ]
     },
     "execution_count": 47,
     "metadata": {},
     "output_type": "execute_result"
    }
   ],
   "source": [
    "blob3.sentiment\n",
    "# polaridad negativa malo, positiva bueno representao en porcentaje\n",
    "# subjetividad porque cuesta procesarlo todo entero(frases juntas) = % de que tanto seguro esta de su decision "
   ]
  },
  {
   "cell_type": "code",
   "execution_count": null,
   "id": "232aefab-9ea4-4d0c-ad5a-1dad08e2e8ff",
   "metadata": {},
   "outputs": [],
   "source": []
  },
  {
   "cell_type": "markdown",
   "id": "7fc7dd12-c2b0-4f97-8dda-620d7e9f021f",
   "metadata": {},
   "source": [
    "Y lo repetimos para el mismo ejemplo pero frase por frase"
   ]
  },
  {
   "cell_type": "code",
   "execution_count": 48,
   "id": "e07bcfe4-31bb-4166-95f0-52fad911f89b",
   "metadata": {},
   "outputs": [
    {
     "data": {
      "text/plain": [
       "[Sentiment(polarity=-0.09999999999999992, subjectivity=0.6458333333333333),\n",
       " Sentiment(polarity=-0.09999999999999992, subjectivity=0.6458333333333333)]"
      ]
     },
     "execution_count": 48,
     "metadata": {},
     "output_type": "execute_result"
    }
   ],
   "source": [
    "[blob3.sentiment for s in blob3.sentences]"
   ]
  },
  {
   "cell_type": "markdown",
   "id": "3f42f2d2-cddc-4fe7-af05-981d8f15196b",
   "metadata": {},
   "source": [
    "Se puede hacer lo mismo mediante NaiveBayes (en vez de el default pattern)"
   ]
  },
  {
   "cell_type": "code",
   "execution_count": 51,
   "id": "7a598b15-1cc2-4d68-920b-4264a5a4ee6b",
   "metadata": {},
   "outputs": [],
   "source": [
    "from textblob.sentiments import NaiveBayesAnalyzer"
   ]
  },
  {
   "cell_type": "code",
   "execution_count": 52,
   "id": "bbaf535a-9452-481f-82b4-85d78137e75c",
   "metadata": {},
   "outputs": [],
   "source": [
    "blob3 = TextBlob(texto, analyzer = NaiveBayesAnalyzer())"
   ]
  },
  {
   "cell_type": "code",
   "execution_count": 53,
   "id": "03283945-4a6a-4568-b87b-1fdc17dc6631",
   "metadata": {},
   "outputs": [
    {
     "data": {
      "text/plain": [
       "TextBlob(\"I am a bad student. I will not be able to finish my studies\")"
      ]
     },
     "execution_count": 53,
     "metadata": {},
     "output_type": "execute_result"
    }
   ],
   "source": [
    "blob3"
   ]
  },
  {
   "cell_type": "code",
   "execution_count": 54,
   "id": "075589c4-a9c4-4525-909d-3afc28570115",
   "metadata": {},
   "outputs": [
    {
     "data": {
      "text/plain": [
       "Sentiment(classification='pos', p_pos=0.9111144935259595, p_neg=0.08888550647403913)"
      ]
     },
     "execution_count": 54,
     "metadata": {},
     "output_type": "execute_result"
    }
   ],
   "source": [
    "blob3.sentiment"
   ]
  },
  {
   "cell_type": "code",
   "execution_count": null,
   "id": "316cc161-3c38-4843-9dd5-9ecd52300269",
   "metadata": {},
   "outputs": [],
   "source": []
  },
  {
   "cell_type": "markdown",
   "id": "b40f753a-41cb-4b95-90d1-bae927b4ece5",
   "metadata": {},
   "source": [
    "## 12.3.- Detección de lenguaje y traducción"
   ]
  },
  {
   "cell_type": "markdown",
   "id": "c321b6c2-824b-43f5-a17e-becefcc40aa6",
   "metadata": {},
   "source": [
    "Escribe Bonjour y determina el lenguaje usando textblob"
   ]
  },
  {
   "cell_type": "code",
   "execution_count": 65,
   "id": "80f4a8a0-0440-4e96-baaf-5050d3b41652",
   "metadata": {},
   "outputs": [],
   "source": [
    "texto = \"hola\""
   ]
  },
  {
   "cell_type": "code",
   "execution_count": 66,
   "id": "87a2513b-379b-49ee-a9c5-fdc6283b718c",
   "metadata": {},
   "outputs": [],
   "source": [
    "blob = TextBlob(texto)"
   ]
  },
  {
   "cell_type": "code",
   "execution_count": 63,
   "id": "121204c3-5db5-4d6e-aa48-0e1ae366b260",
   "metadata": {
    "scrolled": true
   },
   "outputs": [
    {
     "ename": "HTTPError",
     "evalue": "HTTP Error 400: Bad Request",
     "output_type": "error",
     "traceback": [
      "\u001b[1;31m---------------------------------------------------------------------------\u001b[0m",
      "\u001b[1;31mHTTPError\u001b[0m                                 Traceback (most recent call last)",
      "Cell \u001b[1;32mIn[63], line 1\u001b[0m\n\u001b[1;32m----> 1\u001b[0m blob\u001b[38;5;241m.\u001b[39mdetect_language()\n",
      "File \u001b[1;32m~\\anaconda3\\Lib\\site-packages\\textblob\\blob.py:568\u001b[0m, in \u001b[0;36mBaseBlob.detect_language\u001b[1;34m(self)\u001b[0m\n\u001b[0;32m    549\u001b[0m \u001b[38;5;28;01mdef\u001b[39;00m\u001b[38;5;250m \u001b[39m\u001b[38;5;21mdetect_language\u001b[39m(\u001b[38;5;28mself\u001b[39m):\n\u001b[0;32m    550\u001b[0m \u001b[38;5;250m    \u001b[39m\u001b[38;5;124;03m\"\"\"Detect the blob's language using the Google Translate API.\u001b[39;00m\n\u001b[0;32m    551\u001b[0m \n\u001b[0;32m    552\u001b[0m \u001b[38;5;124;03m    Requires an internet connection.\u001b[39;00m\n\u001b[1;32m   (...)\u001b[0m\n\u001b[0;32m    566\u001b[0m \u001b[38;5;124;03m    :rtype: str\u001b[39;00m\n\u001b[0;32m    567\u001b[0m \u001b[38;5;124;03m    \"\"\"\u001b[39;00m\n\u001b[1;32m--> 568\u001b[0m     \u001b[38;5;28;01mreturn\u001b[39;00m \u001b[38;5;28mself\u001b[39m\u001b[38;5;241m.\u001b[39mtranslator\u001b[38;5;241m.\u001b[39mdetect(\u001b[38;5;28mself\u001b[39m\u001b[38;5;241m.\u001b[39mraw)\n",
      "File \u001b[1;32m~\\anaconda3\\Lib\\site-packages\\textblob\\translate.py:72\u001b[0m, in \u001b[0;36mTranslator.detect\u001b[1;34m(self, source, host, type_)\u001b[0m\n\u001b[0;32m     70\u001b[0m data \u001b[38;5;241m=\u001b[39m {\u001b[38;5;124m\"\u001b[39m\u001b[38;5;124mq\u001b[39m\u001b[38;5;124m\"\u001b[39m: source}\n\u001b[0;32m     71\u001b[0m url \u001b[38;5;241m=\u001b[39m \u001b[38;5;124mu\u001b[39m\u001b[38;5;124m'\u001b[39m\u001b[38;5;132;01m{url}\u001b[39;00m\u001b[38;5;124m&sl=auto&tk=\u001b[39m\u001b[38;5;132;01m{tk}\u001b[39;00m\u001b[38;5;124m'\u001b[39m\u001b[38;5;241m.\u001b[39mformat(url\u001b[38;5;241m=\u001b[39m\u001b[38;5;28mself\u001b[39m\u001b[38;5;241m.\u001b[39murl, tk\u001b[38;5;241m=\u001b[39m_calculate_tk(source))\n\u001b[1;32m---> 72\u001b[0m response \u001b[38;5;241m=\u001b[39m \u001b[38;5;28mself\u001b[39m\u001b[38;5;241m.\u001b[39m_request(url, host\u001b[38;5;241m=\u001b[39mhost, type_\u001b[38;5;241m=\u001b[39mtype_, data\u001b[38;5;241m=\u001b[39mdata)\n\u001b[0;32m     73\u001b[0m result, language \u001b[38;5;241m=\u001b[39m json\u001b[38;5;241m.\u001b[39mloads(response)\n\u001b[0;32m     74\u001b[0m \u001b[38;5;28;01mreturn\u001b[39;00m language\n",
      "File \u001b[1;32m~\\anaconda3\\Lib\\site-packages\\textblob\\translate.py:92\u001b[0m, in \u001b[0;36mTranslator._request\u001b[1;34m(self, url, host, type_, data)\u001b[0m\n\u001b[0;32m     90\u001b[0m \u001b[38;5;28;01mif\u001b[39;00m host \u001b[38;5;129;01mor\u001b[39;00m type_:\n\u001b[0;32m     91\u001b[0m     req\u001b[38;5;241m.\u001b[39mset_proxy(host\u001b[38;5;241m=\u001b[39mhost, \u001b[38;5;28mtype\u001b[39m\u001b[38;5;241m=\u001b[39mtype_)\n\u001b[1;32m---> 92\u001b[0m resp \u001b[38;5;241m=\u001b[39m request\u001b[38;5;241m.\u001b[39murlopen(req)\n\u001b[0;32m     93\u001b[0m content \u001b[38;5;241m=\u001b[39m resp\u001b[38;5;241m.\u001b[39mread()\n\u001b[0;32m     94\u001b[0m \u001b[38;5;28;01mreturn\u001b[39;00m content\u001b[38;5;241m.\u001b[39mdecode(\u001b[38;5;124m'\u001b[39m\u001b[38;5;124mutf-8\u001b[39m\u001b[38;5;124m'\u001b[39m)\n",
      "File \u001b[1;32m~\\anaconda3\\Lib\\urllib\\request.py:189\u001b[0m, in \u001b[0;36murlopen\u001b[1;34m(url, data, timeout, context)\u001b[0m\n\u001b[0;32m    187\u001b[0m \u001b[38;5;28;01melse\u001b[39;00m:\n\u001b[0;32m    188\u001b[0m     opener \u001b[38;5;241m=\u001b[39m _opener\n\u001b[1;32m--> 189\u001b[0m \u001b[38;5;28;01mreturn\u001b[39;00m opener\u001b[38;5;241m.\u001b[39mopen(url, data, timeout)\n",
      "File \u001b[1;32m~\\anaconda3\\Lib\\urllib\\request.py:495\u001b[0m, in \u001b[0;36mOpenerDirector.open\u001b[1;34m(self, fullurl, data, timeout)\u001b[0m\n\u001b[0;32m    493\u001b[0m \u001b[38;5;28;01mfor\u001b[39;00m processor \u001b[38;5;129;01min\u001b[39;00m \u001b[38;5;28mself\u001b[39m\u001b[38;5;241m.\u001b[39mprocess_response\u001b[38;5;241m.\u001b[39mget(protocol, []):\n\u001b[0;32m    494\u001b[0m     meth \u001b[38;5;241m=\u001b[39m \u001b[38;5;28mgetattr\u001b[39m(processor, meth_name)\n\u001b[1;32m--> 495\u001b[0m     response \u001b[38;5;241m=\u001b[39m meth(req, response)\n\u001b[0;32m    497\u001b[0m \u001b[38;5;28;01mreturn\u001b[39;00m response\n",
      "File \u001b[1;32m~\\anaconda3\\Lib\\urllib\\request.py:604\u001b[0m, in \u001b[0;36mHTTPErrorProcessor.http_response\u001b[1;34m(self, request, response)\u001b[0m\n\u001b[0;32m    601\u001b[0m \u001b[38;5;66;03m# According to RFC 2616, \"2xx\" code indicates that the client's\u001b[39;00m\n\u001b[0;32m    602\u001b[0m \u001b[38;5;66;03m# request was successfully received, understood, and accepted.\u001b[39;00m\n\u001b[0;32m    603\u001b[0m \u001b[38;5;28;01mif\u001b[39;00m \u001b[38;5;129;01mnot\u001b[39;00m (\u001b[38;5;241m200\u001b[39m \u001b[38;5;241m<\u001b[39m\u001b[38;5;241m=\u001b[39m code \u001b[38;5;241m<\u001b[39m \u001b[38;5;241m300\u001b[39m):\n\u001b[1;32m--> 604\u001b[0m     response \u001b[38;5;241m=\u001b[39m \u001b[38;5;28mself\u001b[39m\u001b[38;5;241m.\u001b[39mparent\u001b[38;5;241m.\u001b[39merror(\n\u001b[0;32m    605\u001b[0m         \u001b[38;5;124m'\u001b[39m\u001b[38;5;124mhttp\u001b[39m\u001b[38;5;124m'\u001b[39m, request, response, code, msg, hdrs)\n\u001b[0;32m    607\u001b[0m \u001b[38;5;28;01mreturn\u001b[39;00m response\n",
      "File \u001b[1;32m~\\anaconda3\\Lib\\urllib\\request.py:533\u001b[0m, in \u001b[0;36mOpenerDirector.error\u001b[1;34m(self, proto, *args)\u001b[0m\n\u001b[0;32m    531\u001b[0m \u001b[38;5;28;01mif\u001b[39;00m http_err:\n\u001b[0;32m    532\u001b[0m     args \u001b[38;5;241m=\u001b[39m (\u001b[38;5;28mdict\u001b[39m, \u001b[38;5;124m'\u001b[39m\u001b[38;5;124mdefault\u001b[39m\u001b[38;5;124m'\u001b[39m, \u001b[38;5;124m'\u001b[39m\u001b[38;5;124mhttp_error_default\u001b[39m\u001b[38;5;124m'\u001b[39m) \u001b[38;5;241m+\u001b[39m orig_args\n\u001b[1;32m--> 533\u001b[0m     \u001b[38;5;28;01mreturn\u001b[39;00m \u001b[38;5;28mself\u001b[39m\u001b[38;5;241m.\u001b[39m_call_chain(\u001b[38;5;241m*\u001b[39margs)\n",
      "File \u001b[1;32m~\\anaconda3\\Lib\\urllib\\request.py:466\u001b[0m, in \u001b[0;36mOpenerDirector._call_chain\u001b[1;34m(self, chain, kind, meth_name, *args)\u001b[0m\n\u001b[0;32m    464\u001b[0m \u001b[38;5;28;01mfor\u001b[39;00m handler \u001b[38;5;129;01min\u001b[39;00m handlers:\n\u001b[0;32m    465\u001b[0m     func \u001b[38;5;241m=\u001b[39m \u001b[38;5;28mgetattr\u001b[39m(handler, meth_name)\n\u001b[1;32m--> 466\u001b[0m     result \u001b[38;5;241m=\u001b[39m func(\u001b[38;5;241m*\u001b[39margs)\n\u001b[0;32m    467\u001b[0m     \u001b[38;5;28;01mif\u001b[39;00m result \u001b[38;5;129;01mis\u001b[39;00m \u001b[38;5;129;01mnot\u001b[39;00m \u001b[38;5;28;01mNone\u001b[39;00m:\n\u001b[0;32m    468\u001b[0m         \u001b[38;5;28;01mreturn\u001b[39;00m result\n",
      "File \u001b[1;32m~\\anaconda3\\Lib\\urllib\\request.py:613\u001b[0m, in \u001b[0;36mHTTPDefaultErrorHandler.http_error_default\u001b[1;34m(self, req, fp, code, msg, hdrs)\u001b[0m\n\u001b[0;32m    612\u001b[0m \u001b[38;5;28;01mdef\u001b[39;00m\u001b[38;5;250m \u001b[39m\u001b[38;5;21mhttp_error_default\u001b[39m(\u001b[38;5;28mself\u001b[39m, req, fp, code, msg, hdrs):\n\u001b[1;32m--> 613\u001b[0m     \u001b[38;5;28;01mraise\u001b[39;00m HTTPError(req\u001b[38;5;241m.\u001b[39mfull_url, code, msg, hdrs, fp)\n",
      "\u001b[1;31mHTTPError\u001b[0m: HTTP Error 400: Bad Request"
     ]
    }
   ],
   "source": [
    "blob.detect_language() # solo funciona si tienes conexion a internet"
   ]
  },
  {
   "cell_type": "code",
   "execution_count": 59,
   "id": "cde966ec-411d-4a8d-8b8c-5916b1bbfa15",
   "metadata": {},
   "outputs": [
    {
     "name": "stdout",
     "output_type": "stream",
     "text": [
      "Collecting langdetect\n",
      "  Downloading langdetect-1.0.9.tar.gz (981 kB)\n",
      "     ---------------------------------------- 0.0/981.5 kB ? eta -:--:--\n",
      "     ------------------------------------- 981.5/981.5 kB 11.5 MB/s eta 0:00:00\n",
      "  Preparing metadata (setup.py): started\n",
      "  Preparing metadata (setup.py): finished with status 'done'\n",
      "Requirement already satisfied: six in c:\\users\\techie3\\anaconda3\\lib\\site-packages (from langdetect) (1.17.0)\n",
      "Building wheels for collected packages: langdetect\n",
      "  Building wheel for langdetect (setup.py): started\n",
      "  Building wheel for langdetect (setup.py): finished with status 'done'\n",
      "  Created wheel for langdetect: filename=langdetect-1.0.9-py3-none-any.whl size=993250 sha256=9121ab912ff0d6226c4be8fc75c57f987424fb4804d36a7f466294715342c7c1\n",
      "  Stored in directory: c:\\users\\techie3\\appdata\\local\\pip\\cache\\wheels\\eb\\87\\25\\2dddf1c94e1786054e25022ec5530bfed52bad86d882999c48\n",
      "Successfully built langdetect\n",
      "Installing collected packages: langdetect\n",
      "Successfully installed langdetect-1.0.9\n"
     ]
    },
    {
     "name": "stderr",
     "output_type": "stream",
     "text": [
      "  DEPRECATION: Building 'langdetect' using the legacy setup.py bdist_wheel mechanism, which will be removed in a future version. pip 25.3 will enforce this behaviour change. A possible replacement is to use the standardized build interface by setting the `--use-pep517` option, (possibly combined with `--no-build-isolation`), or adding a `pyproject.toml` file to the source tree of 'langdetect'. Discussion can be found at https://github.com/pypa/pip/issues/6334\n"
     ]
    }
   ],
   "source": [
    "!pip install langdetect\n",
    "from langdetect import detect\n"
   ]
  },
  {
   "cell_type": "code",
   "execution_count": 67,
   "id": "d8a57a7d-65d3-4518-83ec-e73f030d8e38",
   "metadata": {},
   "outputs": [
    {
     "name": "stdout",
     "output_type": "stream",
     "text": [
      "cy\n"
     ]
    }
   ],
   "source": [
    "print(detect(texto))"
   ]
  },
  {
   "cell_type": "markdown",
   "id": "aa6cb571-6e04-4721-8c10-f71883ea2c6e",
   "metadata": {},
   "source": [
    "Ahora usa textblob para traducir \"I have good discipline to study. In the future I will be a great engineer'"
   ]
  },
  {
   "cell_type": "code",
   "execution_count": 68,
   "id": "f19f00aa-3053-4760-8b26-7179087b25e3",
   "metadata": {},
   "outputs": [],
   "source": [
    "blob = TextBlob(\"I have good discipline to study. In the future I will be a great engineer\")"
   ]
  },
  {
   "cell_type": "code",
   "execution_count": 69,
   "id": "512bf770-fc26-4147-829d-6b364336d1f7",
   "metadata": {},
   "outputs": [
    {
     "ename": "InvalidURL",
     "evalue": "URL can't contain control characters. '/translate_a/t?client=webapp&dt=bd&dt=ex&dt=ld&dt=md&dt=qca&dt=rw&dt=rm&dt=ss&dt=t&dt=at&ie=UTF-8&oe=UTF-8&otf=2&ssel=0&tsel=0&kc=1&sl=I have good discipline to study. In the future I will be a great engineer&tl=en&hl=en&tk=787765.669259' (found at least ' ')",
     "output_type": "error",
     "traceback": [
      "\u001b[1;31m---------------------------------------------------------------------------\u001b[0m",
      "\u001b[1;31mInvalidURL\u001b[0m                                Traceback (most recent call last)",
      "Cell \u001b[1;32mIn[69], line 1\u001b[0m\n\u001b[1;32m----> 1\u001b[0m mifrese \u001b[38;5;241m=\u001b[39m blob\u001b[38;5;241m.\u001b[39mtranslate(blob)\n",
      "File \u001b[1;32m~\\anaconda3\\Lib\\site-packages\\textblob\\blob.py:546\u001b[0m, in \u001b[0;36mBaseBlob.translate\u001b[1;34m(self, from_lang, to)\u001b[0m\n\u001b[0;32m    523\u001b[0m \u001b[38;5;28;01mdef\u001b[39;00m\u001b[38;5;250m \u001b[39m\u001b[38;5;21mtranslate\u001b[39m(\u001b[38;5;28mself\u001b[39m, from_lang\u001b[38;5;241m=\u001b[39m\u001b[38;5;124m\"\u001b[39m\u001b[38;5;124mauto\u001b[39m\u001b[38;5;124m\"\u001b[39m, to\u001b[38;5;241m=\u001b[39m\u001b[38;5;124m\"\u001b[39m\u001b[38;5;124men\u001b[39m\u001b[38;5;124m\"\u001b[39m):\n\u001b[0;32m    524\u001b[0m \u001b[38;5;250m    \u001b[39m\u001b[38;5;124;03m\"\"\"Translate the blob to another language.\u001b[39;00m\n\u001b[0;32m    525\u001b[0m \u001b[38;5;124;03m    Uses the Google Translate API. Returns a new TextBlob.\u001b[39;00m\n\u001b[0;32m    526\u001b[0m \n\u001b[1;32m   (...)\u001b[0m\n\u001b[0;32m    544\u001b[0m \u001b[38;5;124;03m    :rtype: :class:`BaseBlob <BaseBlob>`\u001b[39;00m\n\u001b[0;32m    545\u001b[0m \u001b[38;5;124;03m    \"\"\"\u001b[39;00m\n\u001b[1;32m--> 546\u001b[0m     \u001b[38;5;28;01mreturn\u001b[39;00m \u001b[38;5;28mself\u001b[39m\u001b[38;5;241m.\u001b[39m\u001b[38;5;18m__class__\u001b[39m(\u001b[38;5;28mself\u001b[39m\u001b[38;5;241m.\u001b[39mtranslator\u001b[38;5;241m.\u001b[39mtranslate(\u001b[38;5;28mself\u001b[39m\u001b[38;5;241m.\u001b[39mraw,\n\u001b[0;32m    547\u001b[0m                           from_lang\u001b[38;5;241m=\u001b[39mfrom_lang, to_lang\u001b[38;5;241m=\u001b[39mto))\n",
      "File \u001b[1;32m~\\anaconda3\\Lib\\site-packages\\textblob\\translate.py:54\u001b[0m, in \u001b[0;36mTranslator.translate\u001b[1;34m(self, source, from_lang, to_lang, host, type_)\u001b[0m\n\u001b[0;32m     47\u001b[0m data \u001b[38;5;241m=\u001b[39m {\u001b[38;5;124m\"\u001b[39m\u001b[38;5;124mq\u001b[39m\u001b[38;5;124m\"\u001b[39m: source}\n\u001b[0;32m     48\u001b[0m url \u001b[38;5;241m=\u001b[39m \u001b[38;5;124mu\u001b[39m\u001b[38;5;124m'\u001b[39m\u001b[38;5;132;01m{url}\u001b[39;00m\u001b[38;5;124m&sl=\u001b[39m\u001b[38;5;132;01m{from_lang}\u001b[39;00m\u001b[38;5;124m&tl=\u001b[39m\u001b[38;5;132;01m{to_lang}\u001b[39;00m\u001b[38;5;124m&hl=\u001b[39m\u001b[38;5;132;01m{to_lang}\u001b[39;00m\u001b[38;5;124m&tk=\u001b[39m\u001b[38;5;132;01m{tk}\u001b[39;00m\u001b[38;5;124m'\u001b[39m\u001b[38;5;241m.\u001b[39mformat(\n\u001b[0;32m     49\u001b[0m     url\u001b[38;5;241m=\u001b[39m\u001b[38;5;28mself\u001b[39m\u001b[38;5;241m.\u001b[39murl,\n\u001b[0;32m     50\u001b[0m     from_lang\u001b[38;5;241m=\u001b[39mfrom_lang,\n\u001b[0;32m     51\u001b[0m     to_lang\u001b[38;5;241m=\u001b[39mto_lang,\n\u001b[0;32m     52\u001b[0m     tk\u001b[38;5;241m=\u001b[39m_calculate_tk(source),\n\u001b[0;32m     53\u001b[0m )\n\u001b[1;32m---> 54\u001b[0m response \u001b[38;5;241m=\u001b[39m \u001b[38;5;28mself\u001b[39m\u001b[38;5;241m.\u001b[39m_request(url, host\u001b[38;5;241m=\u001b[39mhost, type_\u001b[38;5;241m=\u001b[39mtype_, data\u001b[38;5;241m=\u001b[39mdata)\n\u001b[0;32m     55\u001b[0m result \u001b[38;5;241m=\u001b[39m json\u001b[38;5;241m.\u001b[39mloads(response)\n\u001b[0;32m     56\u001b[0m \u001b[38;5;28;01mif\u001b[39;00m \u001b[38;5;28misinstance\u001b[39m(result, \u001b[38;5;28mlist\u001b[39m):\n",
      "File \u001b[1;32m~\\anaconda3\\Lib\\site-packages\\textblob\\translate.py:92\u001b[0m, in \u001b[0;36mTranslator._request\u001b[1;34m(self, url, host, type_, data)\u001b[0m\n\u001b[0;32m     90\u001b[0m \u001b[38;5;28;01mif\u001b[39;00m host \u001b[38;5;129;01mor\u001b[39;00m type_:\n\u001b[0;32m     91\u001b[0m     req\u001b[38;5;241m.\u001b[39mset_proxy(host\u001b[38;5;241m=\u001b[39mhost, \u001b[38;5;28mtype\u001b[39m\u001b[38;5;241m=\u001b[39mtype_)\n\u001b[1;32m---> 92\u001b[0m resp \u001b[38;5;241m=\u001b[39m request\u001b[38;5;241m.\u001b[39murlopen(req)\n\u001b[0;32m     93\u001b[0m content \u001b[38;5;241m=\u001b[39m resp\u001b[38;5;241m.\u001b[39mread()\n\u001b[0;32m     94\u001b[0m \u001b[38;5;28;01mreturn\u001b[39;00m content\u001b[38;5;241m.\u001b[39mdecode(\u001b[38;5;124m'\u001b[39m\u001b[38;5;124mutf-8\u001b[39m\u001b[38;5;124m'\u001b[39m)\n",
      "File \u001b[1;32m~\\anaconda3\\Lib\\urllib\\request.py:189\u001b[0m, in \u001b[0;36murlopen\u001b[1;34m(url, data, timeout, context)\u001b[0m\n\u001b[0;32m    187\u001b[0m \u001b[38;5;28;01melse\u001b[39;00m:\n\u001b[0;32m    188\u001b[0m     opener \u001b[38;5;241m=\u001b[39m _opener\n\u001b[1;32m--> 189\u001b[0m \u001b[38;5;28;01mreturn\u001b[39;00m opener\u001b[38;5;241m.\u001b[39mopen(url, data, timeout)\n",
      "File \u001b[1;32m~\\anaconda3\\Lib\\urllib\\request.py:489\u001b[0m, in \u001b[0;36mOpenerDirector.open\u001b[1;34m(self, fullurl, data, timeout)\u001b[0m\n\u001b[0;32m    486\u001b[0m     req \u001b[38;5;241m=\u001b[39m meth(req)\n\u001b[0;32m    488\u001b[0m sys\u001b[38;5;241m.\u001b[39maudit(\u001b[38;5;124m'\u001b[39m\u001b[38;5;124murllib.Request\u001b[39m\u001b[38;5;124m'\u001b[39m, req\u001b[38;5;241m.\u001b[39mfull_url, req\u001b[38;5;241m.\u001b[39mdata, req\u001b[38;5;241m.\u001b[39mheaders, req\u001b[38;5;241m.\u001b[39mget_method())\n\u001b[1;32m--> 489\u001b[0m response \u001b[38;5;241m=\u001b[39m \u001b[38;5;28mself\u001b[39m\u001b[38;5;241m.\u001b[39m_open(req, data)\n\u001b[0;32m    491\u001b[0m \u001b[38;5;66;03m# post-process response\u001b[39;00m\n\u001b[0;32m    492\u001b[0m meth_name \u001b[38;5;241m=\u001b[39m protocol\u001b[38;5;241m+\u001b[39m\u001b[38;5;124m\"\u001b[39m\u001b[38;5;124m_response\u001b[39m\u001b[38;5;124m\"\u001b[39m\n",
      "File \u001b[1;32m~\\anaconda3\\Lib\\urllib\\request.py:506\u001b[0m, in \u001b[0;36mOpenerDirector._open\u001b[1;34m(self, req, data)\u001b[0m\n\u001b[0;32m    503\u001b[0m     \u001b[38;5;28;01mreturn\u001b[39;00m result\n\u001b[0;32m    505\u001b[0m protocol \u001b[38;5;241m=\u001b[39m req\u001b[38;5;241m.\u001b[39mtype\n\u001b[1;32m--> 506\u001b[0m result \u001b[38;5;241m=\u001b[39m \u001b[38;5;28mself\u001b[39m\u001b[38;5;241m.\u001b[39m_call_chain(\u001b[38;5;28mself\u001b[39m\u001b[38;5;241m.\u001b[39mhandle_open, protocol, protocol \u001b[38;5;241m+\u001b[39m\n\u001b[0;32m    507\u001b[0m                           \u001b[38;5;124m'\u001b[39m\u001b[38;5;124m_open\u001b[39m\u001b[38;5;124m'\u001b[39m, req)\n\u001b[0;32m    508\u001b[0m \u001b[38;5;28;01mif\u001b[39;00m result:\n\u001b[0;32m    509\u001b[0m     \u001b[38;5;28;01mreturn\u001b[39;00m result\n",
      "File \u001b[1;32m~\\anaconda3\\Lib\\urllib\\request.py:466\u001b[0m, in \u001b[0;36mOpenerDirector._call_chain\u001b[1;34m(self, chain, kind, meth_name, *args)\u001b[0m\n\u001b[0;32m    464\u001b[0m \u001b[38;5;28;01mfor\u001b[39;00m handler \u001b[38;5;129;01min\u001b[39;00m handlers:\n\u001b[0;32m    465\u001b[0m     func \u001b[38;5;241m=\u001b[39m \u001b[38;5;28mgetattr\u001b[39m(handler, meth_name)\n\u001b[1;32m--> 466\u001b[0m     result \u001b[38;5;241m=\u001b[39m func(\u001b[38;5;241m*\u001b[39margs)\n\u001b[0;32m    467\u001b[0m     \u001b[38;5;28;01mif\u001b[39;00m result \u001b[38;5;129;01mis\u001b[39;00m \u001b[38;5;129;01mnot\u001b[39;00m \u001b[38;5;28;01mNone\u001b[39;00m:\n\u001b[0;32m    468\u001b[0m         \u001b[38;5;28;01mreturn\u001b[39;00m result\n",
      "File \u001b[1;32m~\\anaconda3\\Lib\\urllib\\request.py:1348\u001b[0m, in \u001b[0;36mHTTPHandler.http_open\u001b[1;34m(self, req)\u001b[0m\n\u001b[0;32m   1347\u001b[0m \u001b[38;5;28;01mdef\u001b[39;00m\u001b[38;5;250m \u001b[39m\u001b[38;5;21mhttp_open\u001b[39m(\u001b[38;5;28mself\u001b[39m, req):\n\u001b[1;32m-> 1348\u001b[0m     \u001b[38;5;28;01mreturn\u001b[39;00m \u001b[38;5;28mself\u001b[39m\u001b[38;5;241m.\u001b[39mdo_open(http\u001b[38;5;241m.\u001b[39mclient\u001b[38;5;241m.\u001b[39mHTTPConnection, req)\n",
      "File \u001b[1;32m~\\anaconda3\\Lib\\urllib\\request.py:1319\u001b[0m, in \u001b[0;36mAbstractHTTPHandler.do_open\u001b[1;34m(self, http_class, req, **http_conn_args)\u001b[0m\n\u001b[0;32m   1317\u001b[0m \u001b[38;5;28;01mtry\u001b[39;00m:\n\u001b[0;32m   1318\u001b[0m     \u001b[38;5;28;01mtry\u001b[39;00m:\n\u001b[1;32m-> 1319\u001b[0m         h\u001b[38;5;241m.\u001b[39mrequest(req\u001b[38;5;241m.\u001b[39mget_method(), req\u001b[38;5;241m.\u001b[39mselector, req\u001b[38;5;241m.\u001b[39mdata, headers,\n\u001b[0;32m   1320\u001b[0m                   encode_chunked\u001b[38;5;241m=\u001b[39mreq\u001b[38;5;241m.\u001b[39mhas_header(\u001b[38;5;124m'\u001b[39m\u001b[38;5;124mTransfer-encoding\u001b[39m\u001b[38;5;124m'\u001b[39m))\n\u001b[0;32m   1321\u001b[0m     \u001b[38;5;28;01mexcept\u001b[39;00m \u001b[38;5;167;01mOSError\u001b[39;00m \u001b[38;5;28;01mas\u001b[39;00m err: \u001b[38;5;66;03m# timeout error\u001b[39;00m\n\u001b[0;32m   1322\u001b[0m         \u001b[38;5;28;01mraise\u001b[39;00m URLError(err)\n",
      "File \u001b[1;32m~\\anaconda3\\Lib\\http\\client.py:1338\u001b[0m, in \u001b[0;36mHTTPConnection.request\u001b[1;34m(self, method, url, body, headers, encode_chunked)\u001b[0m\n\u001b[0;32m   1335\u001b[0m \u001b[38;5;28;01mdef\u001b[39;00m\u001b[38;5;250m \u001b[39m\u001b[38;5;21mrequest\u001b[39m(\u001b[38;5;28mself\u001b[39m, method, url, body\u001b[38;5;241m=\u001b[39m\u001b[38;5;28;01mNone\u001b[39;00m, headers\u001b[38;5;241m=\u001b[39m{}, \u001b[38;5;241m*\u001b[39m,\n\u001b[0;32m   1336\u001b[0m             encode_chunked\u001b[38;5;241m=\u001b[39m\u001b[38;5;28;01mFalse\u001b[39;00m):\n\u001b[0;32m   1337\u001b[0m \u001b[38;5;250m    \u001b[39m\u001b[38;5;124;03m\"\"\"Send a complete request to the server.\"\"\"\u001b[39;00m\n\u001b[1;32m-> 1338\u001b[0m     \u001b[38;5;28mself\u001b[39m\u001b[38;5;241m.\u001b[39m_send_request(method, url, body, headers, encode_chunked)\n",
      "File \u001b[1;32m~\\anaconda3\\Lib\\http\\client.py:1349\u001b[0m, in \u001b[0;36mHTTPConnection._send_request\u001b[1;34m(self, method, url, body, headers, encode_chunked)\u001b[0m\n\u001b[0;32m   1346\u001b[0m \u001b[38;5;28;01mif\u001b[39;00m \u001b[38;5;124m'\u001b[39m\u001b[38;5;124maccept-encoding\u001b[39m\u001b[38;5;124m'\u001b[39m \u001b[38;5;129;01min\u001b[39;00m header_names:\n\u001b[0;32m   1347\u001b[0m     skips[\u001b[38;5;124m'\u001b[39m\u001b[38;5;124mskip_accept_encoding\u001b[39m\u001b[38;5;124m'\u001b[39m] \u001b[38;5;241m=\u001b[39m \u001b[38;5;241m1\u001b[39m\n\u001b[1;32m-> 1349\u001b[0m \u001b[38;5;28mself\u001b[39m\u001b[38;5;241m.\u001b[39mputrequest(method, url, \u001b[38;5;241m*\u001b[39m\u001b[38;5;241m*\u001b[39mskips)\n\u001b[0;32m   1351\u001b[0m \u001b[38;5;66;03m# chunked encoding will happen if HTTP/1.1 is used and either\u001b[39;00m\n\u001b[0;32m   1352\u001b[0m \u001b[38;5;66;03m# the caller passes encode_chunked=True or the following\u001b[39;00m\n\u001b[0;32m   1353\u001b[0m \u001b[38;5;66;03m# conditions hold:\u001b[39;00m\n\u001b[0;32m   1354\u001b[0m \u001b[38;5;66;03m# 1. content-length has not been explicitly set\u001b[39;00m\n\u001b[0;32m   1355\u001b[0m \u001b[38;5;66;03m# 2. the body is a file or iterable, but not a str or bytes-like\u001b[39;00m\n\u001b[0;32m   1356\u001b[0m \u001b[38;5;66;03m# 3. Transfer-Encoding has NOT been explicitly set by the caller\u001b[39;00m\n\u001b[0;32m   1358\u001b[0m \u001b[38;5;28;01mif\u001b[39;00m \u001b[38;5;124m'\u001b[39m\u001b[38;5;124mcontent-length\u001b[39m\u001b[38;5;124m'\u001b[39m \u001b[38;5;129;01mnot\u001b[39;00m \u001b[38;5;129;01min\u001b[39;00m header_names:\n\u001b[0;32m   1359\u001b[0m     \u001b[38;5;66;03m# only chunk body if not explicitly set for backwards\u001b[39;00m\n\u001b[0;32m   1360\u001b[0m     \u001b[38;5;66;03m# compatibility, assuming the client code is already handling the\u001b[39;00m\n\u001b[0;32m   1361\u001b[0m     \u001b[38;5;66;03m# chunking\u001b[39;00m\n",
      "File \u001b[1;32m~\\anaconda3\\Lib\\http\\client.py:1183\u001b[0m, in \u001b[0;36mHTTPConnection.putrequest\u001b[1;34m(self, method, url, skip_host, skip_accept_encoding)\u001b[0m\n\u001b[0;32m   1180\u001b[0m \u001b[38;5;28mself\u001b[39m\u001b[38;5;241m.\u001b[39m_method \u001b[38;5;241m=\u001b[39m method\n\u001b[0;32m   1182\u001b[0m url \u001b[38;5;241m=\u001b[39m url \u001b[38;5;129;01mor\u001b[39;00m \u001b[38;5;124m'\u001b[39m\u001b[38;5;124m/\u001b[39m\u001b[38;5;124m'\u001b[39m\n\u001b[1;32m-> 1183\u001b[0m \u001b[38;5;28mself\u001b[39m\u001b[38;5;241m.\u001b[39m_validate_path(url)\n\u001b[0;32m   1185\u001b[0m request \u001b[38;5;241m=\u001b[39m \u001b[38;5;124m'\u001b[39m\u001b[38;5;132;01m%s\u001b[39;00m\u001b[38;5;124m \u001b[39m\u001b[38;5;132;01m%s\u001b[39;00m\u001b[38;5;124m \u001b[39m\u001b[38;5;132;01m%s\u001b[39;00m\u001b[38;5;124m'\u001b[39m \u001b[38;5;241m%\u001b[39m (method, url, \u001b[38;5;28mself\u001b[39m\u001b[38;5;241m.\u001b[39m_http_vsn_str)\n\u001b[0;32m   1187\u001b[0m \u001b[38;5;28mself\u001b[39m\u001b[38;5;241m.\u001b[39m_output(\u001b[38;5;28mself\u001b[39m\u001b[38;5;241m.\u001b[39m_encode_request(request))\n",
      "File \u001b[1;32m~\\anaconda3\\Lib\\http\\client.py:1283\u001b[0m, in \u001b[0;36mHTTPConnection._validate_path\u001b[1;34m(self, url)\u001b[0m\n\u001b[0;32m   1281\u001b[0m match \u001b[38;5;241m=\u001b[39m _contains_disallowed_url_pchar_re\u001b[38;5;241m.\u001b[39msearch(url)\n\u001b[0;32m   1282\u001b[0m \u001b[38;5;28;01mif\u001b[39;00m match:\n\u001b[1;32m-> 1283\u001b[0m     \u001b[38;5;28;01mraise\u001b[39;00m InvalidURL(\u001b[38;5;124mf\u001b[39m\u001b[38;5;124m\"\u001b[39m\u001b[38;5;124mURL can\u001b[39m\u001b[38;5;124m'\u001b[39m\u001b[38;5;124mt contain control characters. \u001b[39m\u001b[38;5;132;01m{\u001b[39;00murl\u001b[38;5;132;01m!r}\u001b[39;00m\u001b[38;5;124m \u001b[39m\u001b[38;5;124m\"\u001b[39m\n\u001b[0;32m   1284\u001b[0m                      \u001b[38;5;124mf\u001b[39m\u001b[38;5;124m\"\u001b[39m\u001b[38;5;124m(found at least \u001b[39m\u001b[38;5;132;01m{\u001b[39;00mmatch\u001b[38;5;241m.\u001b[39mgroup()\u001b[38;5;132;01m!r}\u001b[39;00m\u001b[38;5;124m)\u001b[39m\u001b[38;5;124m\"\u001b[39m)\n",
      "\u001b[1;31mInvalidURL\u001b[0m: URL can't contain control characters. '/translate_a/t?client=webapp&dt=bd&dt=ex&dt=ld&dt=md&dt=qca&dt=rw&dt=rm&dt=ss&dt=t&dt=at&ie=UTF-8&oe=UTF-8&otf=2&ssel=0&tsel=0&kc=1&sl=I have good discipline to study. In the future I will be a great engineer&tl=en&hl=en&tk=787765.669259' (found at least ' ')"
     ]
    }
   ],
   "source": [
    "mifrese = blob.translate(blob)"
   ]
  },
  {
   "cell_type": "code",
   "execution_count": 70,
   "id": "8cb235e0-652e-4a57-8efd-69fe1bd76d36",
   "metadata": {},
   "outputs": [
    {
     "name": "stdout",
     "output_type": "stream",
     "text": [
      "Collecting deep-translator\n",
      "  Downloading deep_translator-1.11.4-py3-none-any.whl.metadata (30 kB)\n",
      "Requirement already satisfied: beautifulsoup4<5.0.0,>=4.9.1 in c:\\users\\techie3\\anaconda3\\lib\\site-packages (from deep-translator) (4.13.5)\n",
      "Requirement already satisfied: requests<3.0.0,>=2.23.0 in c:\\users\\techie3\\anaconda3\\lib\\site-packages (from deep-translator) (2.32.3)\n",
      "Requirement already satisfied: soupsieve>1.2 in c:\\users\\techie3\\anaconda3\\lib\\site-packages (from beautifulsoup4<5.0.0,>=4.9.1->deep-translator) (2.5)\n",
      "Requirement already satisfied: typing-extensions>=4.0.0 in c:\\users\\techie3\\anaconda3\\lib\\site-packages (from beautifulsoup4<5.0.0,>=4.9.1->deep-translator) (4.12.2)\n",
      "Requirement already satisfied: charset-normalizer<4,>=2 in c:\\users\\techie3\\anaconda3\\lib\\site-packages (from requests<3.0.0,>=2.23.0->deep-translator) (3.3.2)\n",
      "Requirement already satisfied: idna<4,>=2.5 in c:\\users\\techie3\\anaconda3\\lib\\site-packages (from requests<3.0.0,>=2.23.0->deep-translator) (3.7)\n",
      "Requirement already satisfied: urllib3<3,>=1.21.1 in c:\\users\\techie3\\anaconda3\\lib\\site-packages (from requests<3.0.0,>=2.23.0->deep-translator) (2.3.0)\n",
      "Requirement already satisfied: certifi>=2017.4.17 in c:\\users\\techie3\\anaconda3\\lib\\site-packages (from requests<3.0.0,>=2.23.0->deep-translator) (2025.10.5)\n",
      "Downloading deep_translator-1.11.4-py3-none-any.whl (42 kB)\n",
      "Installing collected packages: deep-translator\n",
      "Successfully installed deep-translator-1.11.4\n"
     ]
    }
   ],
   "source": [
    "!pip install deep-translator\n",
    "from deep_translator import GoogleTranslator"
   ]
  },
  {
   "cell_type": "code",
   "execution_count": 72,
   "id": "25aaa0f0-a199-41a9-8509-f69e360bb30c",
   "metadata": {},
   "outputs": [],
   "source": [
    "texto = \"I have good discipline to study. In the future I will be a great engineer\"\n",
    "traduccion = GoogleTranslator(source = \"en\", target=\"es\").translate(texto)"
   ]
  },
  {
   "cell_type": "code",
   "execution_count": 73,
   "id": "4822abd5-f486-4f42-a92f-945679cc2b0d",
   "metadata": {},
   "outputs": [
    {
     "name": "stdout",
     "output_type": "stream",
     "text": [
      "Tengo buena disciplina para estudiar. En el futuro seré un gran ingeniero.\n"
     ]
    }
   ],
   "source": [
    "print(traduccion)"
   ]
  },
  {
   "cell_type": "markdown",
   "id": "c0c595d9-b2ad-4d21-ad3a-e20436af338b",
   "metadata": {},
   "source": [
    "### 12.3.1.- Inflección - pluralización y singularización"
   ]
  },
  {
   "cell_type": "markdown",
   "id": "ef5aab0f-846a-48c0-a2f1-408bb400d121",
   "metadata": {},
   "source": [
    "Textblob también entiende de singulares y plurales, obten el plural de party y el singular de lives"
   ]
  },
  {
   "cell_type": "code",
   "execution_count": 74,
   "id": "5718bc60-eddc-48e8-8d5e-dc2a767ed7f1",
   "metadata": {},
   "outputs": [],
   "source": [
    "from textblob import Word"
   ]
  },
  {
   "cell_type": "markdown",
   "id": "6743d383-bafe-477d-913c-bf54da25bf7d",
   "metadata": {},
   "source": [
    "Pluraliza Potato, Tomato, Carrot"
   ]
  },
  {
   "cell_type": "code",
   "execution_count": 75,
   "id": "eef662b6-dcb0-4fbd-9348-4dda023d7294",
   "metadata": {},
   "outputs": [
    {
     "data": {
      "text/plain": [
       "'potatoes'"
      ]
     },
     "execution_count": 75,
     "metadata": {},
     "output_type": "execute_result"
    }
   ],
   "source": [
    "vegetal = Word(\"potato\")\n",
    "vegetal.pluralize()"
   ]
  },
  {
   "cell_type": "code",
   "execution_count": 76,
   "id": "a13bd1a3-f560-4b72-8ea4-31d703ff30af",
   "metadata": {},
   "outputs": [
    {
     "data": {
      "text/plain": [
       "'Tomatoes'"
      ]
     },
     "execution_count": 76,
     "metadata": {},
     "output_type": "execute_result"
    }
   ],
   "source": [
    "vegetal = Word(\"Tomato\")\n",
    "vegetal.pluralize()"
   ]
  },
  {
   "cell_type": "code",
   "execution_count": 83,
   "id": "872a3c8a-e48c-4cfe-b348-e56dd08188ae",
   "metadata": {},
   "outputs": [
    {
     "data": {
      "text/plain": [
       "'carrots'"
      ]
     },
     "execution_count": 83,
     "metadata": {},
     "output_type": "execute_result"
    }
   ],
   "source": [
    "vegetal = Word(\"carrot\")\n",
    "vegetal.pluralize()"
   ]
  },
  {
   "cell_type": "markdown",
   "id": "f5d5d59e-bbd6-4de2-b58f-1428519b4c11",
   "metadata": {},
   "source": [
    "### 12.3.2.- Spell Check"
   ]
  },
  {
   "cell_type": "markdown",
   "id": "8ca1a7cd-17a7-42f7-bd54-caf1b07d97c6",
   "metadata": {},
   "source": [
    "Python tambien puede revisar ortografia, revisa que opina de la palabra whife"
   ]
  },
  {
   "cell_type": "code",
   "execution_count": 85,
   "id": "823191f0-a1d7-40d1-84ad-24a7d73ca319",
   "metadata": {},
   "outputs": [],
   "source": [
    "palabra = Word(\"nife\")"
   ]
  },
  {
   "cell_type": "code",
   "execution_count": 86,
   "id": "ef6e6641-f4b5-4791-848e-6f8eaf902093",
   "metadata": {},
   "outputs": [
    {
     "data": {
      "text/plain": [
       "[('life', 0.6231369765791341),\n",
       " ('wife', 0.2604684173172463),\n",
       " ('nine', 0.0454222853087296),\n",
       " ('nice', 0.03761533002129169),\n",
       " ('knife', 0.029808374733853796),\n",
       " ('nile', 0.0021291696238466998),\n",
       " ('rife', 0.0014194464158978)]"
      ]
     },
     "execution_count": 86,
     "metadata": {},
     "output_type": "execute_result"
    }
   ],
   "source": [
    "palabra.spellcheck()"
   ]
  },
  {
   "cell_type": "markdown",
   "id": "ff5a0ced-cacb-4350-a43f-2e7a79f03fcc",
   "metadata": {},
   "source": [
    "También puedes revisar ortografía de una oración completa como 'Yestarday was a bab dai'"
   ]
  },
  {
   "cell_type": "code",
   "execution_count": 88,
   "id": "004538b9-28d1-4747-9d93-22694ab5e8a6",
   "metadata": {},
   "outputs": [],
   "source": [
    "fras = TextBlob(\"Yestarday was a bab dai\")"
   ]
  },
  {
   "cell_type": "code",
   "execution_count": 89,
   "id": "c1e1b6f3-a805-44e5-b13c-12e5322babaf",
   "metadata": {},
   "outputs": [
    {
     "data": {
      "text/plain": [
       "TextBlob(\"Yesterday was a bad day\")"
      ]
     },
     "execution_count": 89,
     "metadata": {},
     "output_type": "execute_result"
    }
   ],
   "source": [
    "fras.correct()"
   ]
  },
  {
   "cell_type": "code",
   "execution_count": null,
   "id": "64711ced-c682-41a1-abaa-ee34455dc1aa",
   "metadata": {},
   "outputs": [],
   "source": [
    "fras = TextBlob(\"Yestarday was a bab dai\")"
   ]
  },
  {
   "cell_type": "code",
   "execution_count": 92,
   "id": "b56843b5-16de-46e8-8c38-5a2c5a0e8686",
   "metadata": {},
   "outputs": [],
   "source": [
    "fras = TextBlob(\"nowadais wi wont kave gud gaimes\")"
   ]
  },
  {
   "cell_type": "code",
   "execution_count": 93,
   "id": "5772d1f2-d641-49c7-a884-4203e988d0b6",
   "metadata": {},
   "outputs": [
    {
     "data": {
      "text/plain": [
       "TextBlob(\"nowadays i wont have god games\")"
      ]
     },
     "execution_count": 93,
     "metadata": {},
     "output_type": "execute_result"
    }
   ],
   "source": [
    "fras.correct()"
   ]
  },
  {
   "cell_type": "code",
   "execution_count": null,
   "id": "7f3669fb-8add-408c-b626-bd577b9ed17b",
   "metadata": {},
   "outputs": [],
   "source": []
  },
  {
   "cell_type": "markdown",
   "id": "c21e533a-2efa-4aba-9a03-a28ef5de4d47",
   "metadata": {},
   "source": [
    "### 12.3.3.- Normalización"
   ]
  },
  {
   "cell_type": "markdown",
   "id": "2ac94f19-ad82-4099-bc91-24c05531a37f",
   "metadata": {},
   "source": [
    "Se puede obtener  el stem y lemma de una palabra plural como dormitories"
   ]
  },
  {
   "cell_type": "code",
   "execution_count": 97,
   "id": "7dabc216-3f35-481d-b815-ea821a64520f",
   "metadata": {},
   "outputs": [
    {
     "name": "stdout",
     "output_type": "stream",
     "text": [
      "Word men\n",
      "Singuralize man\n",
      "\n",
      "Word running\n"
     ]
    },
    {
     "ename": "TypeError",
     "evalue": "Word.singularize() takes 1 positional argument but 2 were given",
     "output_type": "error",
     "traceback": [
      "\u001b[1;31m---------------------------------------------------------------------------\u001b[0m",
      "\u001b[1;31mTypeError\u001b[0m                                 Traceback (most recent call last)",
      "Cell \u001b[1;32mIn[97], line 7\u001b[0m\n\u001b[0;32m      5\u001b[0m w2 \u001b[38;5;241m=\u001b[39m Word(\u001b[38;5;124m\"\u001b[39m\u001b[38;5;124mrunning\u001b[39m\u001b[38;5;124m\"\u001b[39m)\n\u001b[0;32m      6\u001b[0m \u001b[38;5;28mprint\u001b[39m(\u001b[38;5;124m\"\u001b[39m\u001b[38;5;130;01m\\n\u001b[39;00m\u001b[38;5;124mWord\u001b[39m\u001b[38;5;124m\"\u001b[39m,w2)\n\u001b[1;32m----> 7\u001b[0m \u001b[38;5;28mprint\u001b[39m(\u001b[38;5;124m\"\u001b[39m\u001b[38;5;124mLemmatize\u001b[39m\u001b[38;5;124m\"\u001b[39m,w1\u001b[38;5;241m.\u001b[39msingularize(\u001b[38;5;124m\"\u001b[39m\u001b[38;5;124mv\u001b[39m\u001b[38;5;124m\"\u001b[39m))\n",
      "\u001b[1;31mTypeError\u001b[0m: Word.singularize() takes 1 positional argument but 2 were given"
     ]
    }
   ],
   "source": [
    "w1 = Word(\"men\")\n",
    "print(\"Word\",w1)\n",
    "print(\"Singuralize\",w1.singularize())\n",
    "\n",
    "w2 = Word(\"running\")\n",
    "print(\"\\nWord\",w2)\n",
    "print(\"Lemmatize\",w1.singularize(\"v\"))\n"
   ]
  },
  {
   "cell_type": "markdown",
   "id": "10f9d9a5-bdba-494e-90fd-a49cc8ad211e",
   "metadata": {},
   "source": [
    "### 12.3.4.- Frecuencias de Palabras"
   ]
  },
  {
   "cell_type": "markdown",
   "id": "7ed806aa-5db4-4347-a02f-ff9fdb3db73c",
   "metadata": {},
   "source": [
    "Que pasa si quieres conocer la frecuencia de una palabra?\n",
    "\n",
    "Importa el texto de dracula.txt y cuenta las veces que aparece la palabra crucifix, dracula, blood"
   ]
  },
  {
   "cell_type": "code",
   "execution_count": 98,
   "id": "53fe7f79-cfdc-4de0-a296-25dfbc20f294",
   "metadata": {},
   "outputs": [],
   "source": [
    "from pathlib import Path"
   ]
  },
  {
   "cell_type": "code",
   "execution_count": 100,
   "id": "b9075baa-cad4-4e6b-b0e6-c7d4b11f718b",
   "metadata": {},
   "outputs": [],
   "source": [
    "texto = open(\"dracula.txt\", encoding=\"utf-8\")"
   ]
  },
  {
   "cell_type": "code",
   "execution_count": 102,
   "id": "2d562946-ca57-4cdd-a077-e1e83d4edb0a",
   "metadata": {},
   "outputs": [],
   "source": [
    "libro_drac = TextBlob(texto.read())"
   ]
  },
  {
   "cell_type": "code",
   "execution_count": 140,
   "id": "d3478d35-3e38-4dcd-9baf-00a660fd3e2b",
   "metadata": {},
   "outputs": [
    {
     "data": {
      "text/plain": [
       "8035"
      ]
     },
     "execution_count": 140,
     "metadata": {},
     "output_type": "execute_result"
    }
   ],
   "source": [
    "libro_drac.words.count(\"the\")"
   ]
  },
  {
   "cell_type": "code",
   "execution_count": null,
   "id": "8d599dc3-077f-47b4-9d90-29dc02de19c6",
   "metadata": {},
   "outputs": [],
   "source": []
  },
  {
   "cell_type": "code",
   "execution_count": null,
   "id": "eef8e01a-8758-4f52-a7f0-6bec33c8dc32",
   "metadata": {},
   "outputs": [],
   "source": []
  },
  {
   "cell_type": "code",
   "execution_count": null,
   "id": "ff8fa5b7-3070-47ad-b51b-324b464c873d",
   "metadata": {},
   "outputs": [],
   "source": []
  },
  {
   "cell_type": "markdown",
   "id": "508c91f4-bfa0-4e8f-a6d4-ba3de6097b1f",
   "metadata": {},
   "source": [
    "O puedes contar las frases especificas mediante el metodo count en un archivo ya tokenizado, intentalo con la frase \"lady capulet\""
   ]
  },
  {
   "cell_type": "markdown",
   "id": "d6a24a6a-4d99-49bf-aea2-e0a07637ffb0",
   "metadata": {},
   "source": [
    "### 12.3.5.- Definiciones, sinonimos y antonimos"
   ]
  },
  {
   "cell_type": "markdown",
   "id": "0984558b-22e1-4a02-8cd9-cefd7367cb5a",
   "metadata": {},
   "source": [
    "Puedes buscar definiciones desde textblob\n",
    "\n",
    "Prueba con la definición de \"worker\""
   ]
  },
  {
   "cell_type": "code",
   "execution_count": 122,
   "id": "abb22f78-7d0e-4a1d-b400-7ee2b674a29f",
   "metadata": {},
   "outputs": [],
   "source": [
    "prueba = Word(\"communist\")"
   ]
  },
  {
   "cell_type": "code",
   "execution_count": 123,
   "id": "31bf308c-06c1-4343-8054-de1072535c32",
   "metadata": {},
   "outputs": [
    {
     "data": {
      "text/plain": [
       "['a member of the communist party',\n",
       " 'a socialist who advocates communism',\n",
       " 'relating to or marked by communism']"
      ]
     },
     "execution_count": 123,
     "metadata": {},
     "output_type": "execute_result"
    }
   ],
   "source": [
    "prueba.definitions"
   ]
  },
  {
   "cell_type": "code",
   "execution_count": null,
   "id": "5e6a5752-de27-4ff0-a621-51db913a8291",
   "metadata": {},
   "outputs": [],
   "source": []
  },
  {
   "cell_type": "markdown",
   "id": "ee031c36-9d71-4c9f-9ef2-257da78b1aad",
   "metadata": {},
   "source": [
    "O sinonimos también, con synsets"
   ]
  },
  {
   "cell_type": "code",
   "execution_count": 124,
   "id": "e9ea27eb-2ddd-438e-a10a-9a66cbfff057",
   "metadata": {},
   "outputs": [
    {
     "data": {
      "text/plain": [
       "[Synset('communist.n.01'), Synset('communist.n.02'), Synset('communist.a.01')]"
      ]
     },
     "execution_count": 124,
     "metadata": {},
     "output_type": "execute_result"
    }
   ],
   "source": [
    "prueba.synsets"
   ]
  },
  {
   "cell_type": "code",
   "execution_count": null,
   "id": "48e67be8-4224-4ee4-b90b-4f30bfc9f3af",
   "metadata": {},
   "outputs": [],
   "source": []
  },
  {
   "cell_type": "markdown",
   "id": "8e87a862-2232-43fc-a696-51008b6546b4",
   "metadata": {},
   "source": [
    "### 12.3.6.- Stop Words"
   ]
  },
  {
   "cell_type": "markdown",
   "id": "73491293-8524-4065-b7d6-5e4e5aed7f4c",
   "metadata": {},
   "source": [
    "Las stop words son palabras que generalmente no aportan información útil para un analisis de machine learning. \n",
    "\n",
    "Hay que traerlas desde ntlk"
   ]
  },
  {
   "cell_type": "code",
   "execution_count": 125,
   "id": "76750563-a848-4bf0-84da-7681e43a04bd",
   "metadata": {},
   "outputs": [],
   "source": [
    "import nltk"
   ]
  },
  {
   "cell_type": "code",
   "execution_count": 126,
   "id": "6d3a9e5a-f9a7-4f3e-b887-a3821e7b68c3",
   "metadata": {},
   "outputs": [
    {
     "name": "stderr",
     "output_type": "stream",
     "text": [
      "[nltk_data] Downloading package stopwords to\n",
      "[nltk_data]     C:\\Users\\Techie3\\AppData\\Roaming\\nltk_data...\n",
      "[nltk_data]   Unzipping corpora\\stopwords.zip.\n"
     ]
    },
    {
     "data": {
      "text/plain": [
       "True"
      ]
     },
     "execution_count": 126,
     "metadata": {},
     "output_type": "execute_result"
    }
   ],
   "source": [
    "nltk.download(\"stopwords\")"
   ]
  },
  {
   "cell_type": "code",
   "execution_count": 128,
   "id": "89f5696b-d42f-4679-b6d8-5071bfb727e2",
   "metadata": {},
   "outputs": [],
   "source": [
    "from nltk.corpus import stopwords"
   ]
  },
  {
   "cell_type": "code",
   "execution_count": 129,
   "id": "e5883195-e051-4d1c-bd41-c08a1ee0ce73",
   "metadata": {},
   "outputs": [],
   "source": [
    "stops = stopwords.words(\"english\")"
   ]
  },
  {
   "cell_type": "code",
   "execution_count": 130,
   "id": "0eb72b77-8961-48d9-bb1a-b57a732efa9f",
   "metadata": {},
   "outputs": [
    {
     "name": "stdout",
     "output_type": "stream",
     "text": [
      "['a', 'about', 'above', 'after', 'again', 'against', 'ain', 'all', 'am', 'an', 'and', 'any', 'are', 'aren', \"aren't\", 'as', 'at', 'be', 'because', 'been', 'before', 'being', 'below', 'between', 'both', 'but', 'by', 'can', 'couldn', \"couldn't\", 'd', 'did', 'didn', \"didn't\", 'do', 'does', 'doesn', \"doesn't\", 'doing', 'don', \"don't\", 'down', 'during', 'each', 'few', 'for', 'from', 'further', 'had', 'hadn', \"hadn't\", 'has', 'hasn', \"hasn't\", 'have', 'haven', \"haven't\", 'having', 'he', \"he'd\", \"he'll\", 'her', 'here', 'hers', 'herself', \"he's\", 'him', 'himself', 'his', 'how', 'i', \"i'd\", 'if', \"i'll\", \"i'm\", 'in', 'into', 'is', 'isn', \"isn't\", 'it', \"it'd\", \"it'll\", \"it's\", 'its', 'itself', \"i've\", 'just', 'll', 'm', 'ma', 'me', 'mightn', \"mightn't\", 'more', 'most', 'mustn', \"mustn't\", 'my', 'myself', 'needn', \"needn't\", 'no', 'nor', 'not', 'now', 'o', 'of', 'off', 'on', 'once', 'only', 'or', 'other', 'our', 'ours', 'ourselves', 'out', 'over', 'own', 're', 's', 'same', 'shan', \"shan't\", 'she', \"she'd\", \"she'll\", \"she's\", 'should', 'shouldn', \"shouldn't\", \"should've\", 'so', 'some', 'such', 't', 'than', 'that', \"that'll\", 'the', 'their', 'theirs', 'them', 'themselves', 'then', 'there', 'these', 'they', \"they'd\", \"they'll\", \"they're\", \"they've\", 'this', 'those', 'through', 'to', 'too', 'under', 'until', 'up', 've', 'very', 'was', 'wasn', \"wasn't\", 'we', \"we'd\", \"we'll\", \"we're\", 'were', 'weren', \"weren't\", \"we've\", 'what', 'when', 'where', 'which', 'while', 'who', 'whom', 'why', 'will', 'with', 'won', \"won't\", 'wouldn', \"wouldn't\", 'y', 'you', \"you'd\", \"you'll\", 'your', \"you're\", 'yours', 'yourself', 'yourselves', \"you've\"]\n"
     ]
    }
   ],
   "source": [
    "print(stops)"
   ]
  },
  {
   "cell_type": "code",
   "execution_count": null,
   "id": "a51468fd-76a7-490a-ae78-deb2780a8e89",
   "metadata": {},
   "outputs": [],
   "source": []
  },
  {
   "cell_type": "code",
   "execution_count": null,
   "id": "8ce7a090-4e62-42c1-917d-38513df32416",
   "metadata": {},
   "outputs": [],
   "source": []
  },
  {
   "cell_type": "markdown",
   "id": "c295a011-8cf9-45c8-9902-9fbc5a4ca2ec",
   "metadata": {},
   "source": [
    "Vamos a crear un texto como I have a beautiful day"
   ]
  },
  {
   "cell_type": "code",
   "execution_count": 169,
   "id": "aa680268-1287-4771-8940-ddaf7f1b714f",
   "metadata": {},
   "outputs": [],
   "source": [
    "blob = TextBlob(\"I have a beautiful day\")"
   ]
  },
  {
   "cell_type": "code",
   "execution_count": null,
   "id": "24266fe2-d07b-4e61-98fa-9630dd66a73b",
   "metadata": {},
   "outputs": [],
   "source": []
  },
  {
   "cell_type": "markdown",
   "id": "efa01ab3-282e-46ce-b3f2-1f686b6d6a7d",
   "metadata": {},
   "source": [
    "Y eliminar su stop words"
   ]
  },
  {
   "cell_type": "code",
   "execution_count": 170,
   "id": "cd1a22fe-271a-444d-9de2-b28adc2ad8a1",
   "metadata": {},
   "outputs": [],
   "source": [
    "blob = [i for i in blob.words if (i.lower() not in stops)]"
   ]
  },
  {
   "cell_type": "code",
   "execution_count": 174,
   "id": "a8fb9762-1552-47ee-8620-99653a058f43",
   "metadata": {},
   "outputs": [
    {
     "data": {
      "text/plain": [
       "TextBlob(\"['beautiful', 'day']\")"
      ]
     },
     "execution_count": 174,
     "metadata": {},
     "output_type": "execute_result"
    }
   ],
   "source": [
    "blob = TextBlob(str(blob))\n",
    "blob"
   ]
  },
  {
   "cell_type": "markdown",
   "id": "23489048-92d5-4cbb-8da8-f6d40af8933c",
   "metadata": {},
   "source": [
    "## 12.4.- Visualizando frecuencias de palabras"
   ]
  },
  {
   "cell_type": "markdown",
   "id": "c720242c-68d1-4ebf-a93a-97a6d5856b90",
   "metadata": {},
   "source": [
    "Vamos a armar un word cloud de dracula, comencemos volviendo a cargar dracula"
   ]
  },
  {
   "cell_type": "code",
   "execution_count": 175,
   "id": "8dd6fdee-856c-4e3f-b6c5-e28939e75802",
   "metadata": {},
   "outputs": [],
   "source": [
    "# lo que entra en el examen del lunes\n",
    "#ejericios 6 de logicas de programacion\n",
    "#pista son ejercicios que se usan en entrevistas de trabajo\n",
    "# como lo del iterativo\n",
    "#mismo ejercicio de webscraping\n",
    "#otro de orientada a objetos\n"
   ]
  },
  {
   "cell_type": "code",
   "execution_count": null,
   "id": "f800a2e7-cce0-4807-a2ac-2e72596b432b",
   "metadata": {},
   "outputs": [],
   "source": [
    "import spacy"
   ]
  },
  {
   "cell_type": "code",
   "execution_count": null,
   "id": "0dae5489-d191-4f35-9d88-95c300106fa4",
   "metadata": {},
   "outputs": [],
   "source": [
    "nlp = spacy.load(\"en_core_web_sm\")"
   ]
  },
  {
   "cell_type": "code",
   "execution_count": null,
   "id": "1548a24d-dec4-4262-8a98-2e9f76f9cf9a",
   "metadata": {},
   "outputs": [],
   "source": []
  },
  {
   "cell_type": "markdown",
   "id": "c45fb09e-ce43-4d66-bd89-8ef7d47b325d",
   "metadata": {},
   "source": [
    "Ahora vamos cargando las stop words de inglés"
   ]
  },
  {
   "cell_type": "code",
   "execution_count": null,
   "id": "5a85f8c9-7397-480c-9687-bb0f135a4942",
   "metadata": {},
   "outputs": [],
   "source": []
  },
  {
   "cell_type": "code",
   "execution_count": null,
   "id": "2ef7e3cb-1a84-43af-823e-f20019705b76",
   "metadata": {},
   "outputs": [],
   "source": []
  },
  {
   "cell_type": "code",
   "execution_count": null,
   "id": "15de9bea-5c1d-4faa-b4bc-97e302f86e96",
   "metadata": {},
   "outputs": [],
   "source": []
  },
  {
   "cell_type": "code",
   "execution_count": null,
   "id": "0d8224ca-64dc-4a9d-8cf0-24bb2a65a8bb",
   "metadata": {},
   "outputs": [],
   "source": []
  },
  {
   "cell_type": "markdown",
   "id": "86a25660-1985-4ef1-93aa-9d1fff2bf7cd",
   "metadata": {},
   "source": [
    "Vamos a obtener las frecuencias de palabras"
   ]
  },
  {
   "cell_type": "code",
   "execution_count": null,
   "id": "f2879a73-a7c4-4574-bbec-8bb18e0a8727",
   "metadata": {},
   "outputs": [],
   "source": []
  },
  {
   "cell_type": "markdown",
   "id": "5c827250-a521-44c8-88e5-a7d3fa6d04ab",
   "metadata": {},
   "source": [
    "Ahor avamos a eliminar las stop words"
   ]
  },
  {
   "cell_type": "code",
   "execution_count": null,
   "id": "5305ddf9-78d2-4232-9718-9d6978e8bc07",
   "metadata": {},
   "outputs": [],
   "source": []
  },
  {
   "cell_type": "markdown",
   "id": "190b716c-9513-47f2-88ec-1e815749bb64",
   "metadata": {},
   "source": [
    "Ordenamos las palabras restantes por frecuencia"
   ]
  },
  {
   "cell_type": "code",
   "execution_count": null,
   "id": "f1724d9d-f244-4ae6-8f60-232adbde0103",
   "metadata": {},
   "outputs": [],
   "source": []
  },
  {
   "cell_type": "code",
   "execution_count": null,
   "id": "19faa7a8-58c2-45dc-b418-88b0cfd90668",
   "metadata": {},
   "outputs": [],
   "source": []
  },
  {
   "cell_type": "markdown",
   "id": "8e9f35a5-832a-4cf2-a87b-b351d54fc6a7",
   "metadata": {},
   "source": [
    "Conseguimos las top 20 palabras"
   ]
  },
  {
   "cell_type": "code",
   "execution_count": null,
   "id": "657c489b-2a85-4622-ad5a-6239c1369d07",
   "metadata": {},
   "outputs": [],
   "source": []
  },
  {
   "cell_type": "markdown",
   "id": "2e29de74-5fc7-4078-bb5e-1dce08f0a888",
   "metadata": {},
   "source": [
    "Luego convertimos el top 20 a un dataframe"
   ]
  },
  {
   "cell_type": "code",
   "execution_count": null,
   "id": "9179be06-2018-42d7-9f23-2f0bd71b41f0",
   "metadata": {},
   "outputs": [],
   "source": []
  },
  {
   "cell_type": "code",
   "execution_count": null,
   "id": "40b14a31-d9aa-492f-bf64-28a74db404c2",
   "metadata": {},
   "outputs": [],
   "source": []
  },
  {
   "cell_type": "code",
   "execution_count": null,
   "id": "1357758b-a890-42d1-90fa-cfdf12a15d96",
   "metadata": {},
   "outputs": [],
   "source": []
  },
  {
   "cell_type": "code",
   "execution_count": null,
   "id": "e1e2d70d-3ee7-42da-803b-57bd75e423ae",
   "metadata": {},
   "outputs": [],
   "source": []
  },
  {
   "cell_type": "code",
   "execution_count": null,
   "id": "7383c18c-194f-458d-a2ec-f3ec4c8a6508",
   "metadata": {},
   "outputs": [],
   "source": []
  },
  {
   "cell_type": "code",
   "execution_count": null,
   "id": "44b4a72e-3816-4b81-ae4b-bdbc96be5633",
   "metadata": {},
   "outputs": [],
   "source": []
  },
  {
   "cell_type": "markdown",
   "id": "80b11ddd-51f8-48ae-aa9a-b720b0dd2b2d",
   "metadata": {},
   "source": [
    "Y visualizamos el dataframe en una grafica de barras sencillita"
   ]
  },
  {
   "cell_type": "code",
   "execution_count": null,
   "id": "a41d3ce2-1878-4adc-bcf4-f8290ba8c885",
   "metadata": {},
   "outputs": [],
   "source": []
  },
  {
   "cell_type": "code",
   "execution_count": null,
   "id": "bd9e1ad7-f1e8-4dcd-9afe-1515bbbeed94",
   "metadata": {},
   "outputs": [],
   "source": []
  },
  {
   "cell_type": "markdown",
   "id": "ba55c327-cdb1-4b2b-89ad-a13ab5859a53",
   "metadata": {},
   "source": [
    "### 12.4.1.- Word Cloud"
   ]
  },
  {
   "cell_type": "markdown",
   "id": "e7f4a5b0-6410-4bf6-abc0-43585d660371",
   "metadata": {},
   "source": [
    "Ahora necesitamos instalar el módulo WordCloud"
   ]
  },
  {
   "cell_type": "code",
   "execution_count": null,
   "id": "08bd4c00-1f78-4e04-8c23-14c5f7b55613",
   "metadata": {},
   "outputs": [],
   "source": []
  },
  {
   "cell_type": "markdown",
   "id": "4f36f4d0-dcbf-46f9-8885-90bcba9b5504",
   "metadata": {},
   "source": [
    "Cargamos las librerias que nos importan"
   ]
  },
  {
   "cell_type": "markdown",
   "id": "985e95a1-e1e5-4ef4-ac99-54a2f871b2cb",
   "metadata": {},
   "source": [
    "Vamos a cargar el texto de tracua y las palabras stop"
   ]
  },
  {
   "cell_type": "code",
   "execution_count": null,
   "id": "124a9599-e258-485f-bb62-3b7f91f715dc",
   "metadata": {},
   "outputs": [],
   "source": []
  },
  {
   "cell_type": "code",
   "execution_count": null,
   "id": "dcfdd768-f707-4132-a521-984230ebd366",
   "metadata": {},
   "outputs": [],
   "source": []
  },
  {
   "cell_type": "markdown",
   "id": "b73b6b70-587b-4328-88cc-943e33f76544",
   "metadata": {},
   "source": [
    "Vamos a crear una mascara para la nube usando la funcion impread"
   ]
  },
  {
   "cell_type": "code",
   "execution_count": null,
   "id": "2db8b70b-f8a4-46d6-84cb-738f7788fda9",
   "metadata": {},
   "outputs": [],
   "source": []
  },
  {
   "cell_type": "code",
   "execution_count": null,
   "id": "31bd26c7-2793-4713-a4c3-b909d6532694",
   "metadata": {},
   "outputs": [],
   "source": []
  },
  {
   "cell_type": "code",
   "execution_count": null,
   "id": "96e0441d-12af-40ba-8be1-90d20a49a29a",
   "metadata": {},
   "outputs": [],
   "source": []
  },
  {
   "cell_type": "markdown",
   "id": "9b1c989e-54a6-4bb0-a7e2-48e2b58bf838",
   "metadata": {},
   "source": [
    "OK, ahora ponemos algunas caracteristicas especifcas de la nube a crear"
   ]
  },
  {
   "cell_type": "markdown",
   "id": "d5f07cfe-c905-46c3-a48c-3a3674425fce",
   "metadata": {},
   "source": [
    "Luego se aplica el metodo de generar wordcloud"
   ]
  },
  {
   "cell_type": "markdown",
   "id": "4a75eaa7-c016-4e16-b273-6718bb51753e",
   "metadata": {},
   "source": [
    "Y la guardas como imagen"
   ]
  },
  {
   "cell_type": "markdown",
   "id": "5a9672b9-a21a-4973-8e0c-2d7311fe7cc5",
   "metadata": {},
   "source": [
    "## 12.4.- Reconocimiento de Entidades Nombradas con spaCy"
   ]
  },
  {
   "cell_type": "markdown",
   "id": "2fad47b9-eb18-4845-ab2b-255fc7310340",
   "metadata": {},
   "source": [
    "Instala Spacy desde Prompt"
   ]
  },
  {
   "cell_type": "markdown",
   "id": "d844b342-963c-48f0-bbd5-74d8be4158c0",
   "metadata": {},
   "source": [
    "Carga el modelo de lenguaje"
   ]
  },
  {
   "cell_type": "code",
   "execution_count": 176,
   "id": "8e017568-4208-4356-ba08-994af724e3b4",
   "metadata": {},
   "outputs": [],
   "source": [
    "import spacy"
   ]
  },
  {
   "cell_type": "code",
   "execution_count": 177,
   "id": "0f4d4e22-4dbf-4be0-b1ce-8b29b514d8e3",
   "metadata": {},
   "outputs": [],
   "source": [
    "nlp = spacy.load(\"en_core_web_sm\")"
   ]
  },
  {
   "cell_type": "code",
   "execution_count": null,
   "id": "bbe4f362-5750-415c-8c81-275dbff831d5",
   "metadata": {},
   "outputs": [],
   "source": []
  },
  {
   "cell_type": "markdown",
   "id": "de91b834-01b8-4026-a932-ebbe52d48113",
   "metadata": {},
   "source": [
    "Crea un documento de spacy con el texto airbnb is an American company that operates an online marketplace for lodging, primarily homestays for vacation rentals, and tourism activities. Based in San Francisco, California, the platform is accessible via website and mobile app. Airbnb does not own any of the listed properties; instead, it profits by receiving commission from each booking. The company was founded in 2008 by Brian Chesky, Nathan Blecharczyk and Joe Gebbia. Airbnb is a shortened version of its original name, AirBedandBreakfast.com"
   ]
  },
  {
   "cell_type": "markdown",
   "id": "d9deeb9a-0202-4fcf-9fe0-3ed7e15b5032",
   "metadata": {},
   "source": [
    "Obten las entidades nombradas"
   ]
  },
  {
   "cell_type": "code",
   "execution_count": 178,
   "id": "17a00311-99fc-40c4-95ad-31d5a906fdf6",
   "metadata": {},
   "outputs": [],
   "source": [
    "doc= nlp(\"Crea un documento de spacy con el texto airbnb is an American company that operates an online marketplace for lodging, primarily homestays for vacation rentals, and tourism activities. Based in San Francisco, California, the platform is accessible via website and mobile app. Airbnb does not own any of the listed properties; instead, it profits by receiving commission from each booking. The company was founded in 2008 by Brian Chesky, Nathan Blecharczyk and Joe Gebbia. Airbnb is a shortened version of its original name, AirBedandBreakfast.com\")"
   ]
  },
  {
   "cell_type": "code",
   "execution_count": 179,
   "id": "c21607a4-f63b-4750-8001-69dbdc9cedab",
   "metadata": {},
   "outputs": [
    {
     "name": "stdout",
     "output_type": "stream",
     "text": [
      "el texto airbnb:ORG\n",
      "American:NORP\n",
      "San Francisco:GPE\n",
      "California:GPE\n",
      "2008:DATE\n",
      "Brian Chesky:PERSON\n",
      "Nathan Blecharczyk:PERSON\n",
      "Joe Gebbia:PERSON\n"
     ]
    }
   ],
   "source": [
    "for entity in doc.ents: #Capaz de sacar nombres propios con lenguaje natural\n",
    "    print(f'{entity.text}:{entity.label_}')"
   ]
  },
  {
   "cell_type": "code",
   "execution_count": null,
   "id": "c787c6cd-ca4d-48ed-b336-38ab24bf3d7f",
   "metadata": {},
   "outputs": [],
   "source": [
    "doc."
   ]
  }
 ],
 "metadata": {
  "kernelspec": {
   "display_name": "Python [conda env:base] *",
   "language": "python",
   "name": "conda-base-py"
  },
  "language_info": {
   "codemirror_mode": {
    "name": "ipython",
    "version": 3
   },
   "file_extension": ".py",
   "mimetype": "text/x-python",
   "name": "python",
   "nbconvert_exporter": "python",
   "pygments_lexer": "ipython3",
   "version": "3.13.5"
  }
 },
 "nbformat": 4,
 "nbformat_minor": 5
}
