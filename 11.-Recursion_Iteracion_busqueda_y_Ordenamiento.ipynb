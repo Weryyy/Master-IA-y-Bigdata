{
 "cells": [
  {
   "cell_type": "markdown",
   "id": "c62ad494-a83c-4813-b714-1de3c79b7fe8",
   "metadata": {},
   "source": [
    "# 11.-Recursión, Búsqueda, Ordenamiento, Iteración"
   ]
  },
  {
   "cell_type": "markdown",
   "id": "0ef859f9-42a3-4c99-acf6-4aef58fec780",
   "metadata": {},
   "source": [
    "## 11.2.- Algoritmos iterativos y Recursivos"
   ]
  },
  {
   "cell_type": "markdown",
   "id": "791ef129-54a0-40aa-9177-da4422d09c58",
   "metadata": {},
   "source": [
    "### 11.2.1.- Fibonacci"
   ]
  },
  {
   "cell_type": "markdown",
   "id": "46e9d8f2-9fd2-4f84-9fef-1d45fee9bcc1",
   "metadata": {},
   "source": [
    "Vamos a armar la sucesión de Fibonacci - Comenamos definiendola. Recuerda que los primeros 2 numeros, son 0 y 1, y los numeros subsecuentes son la suma de los 2 anteriores"
   ]
  },
  {
   "cell_type": "code",
   "execution_count": 1,
   "id": "7221f5f0-f2e3-4c4f-a036-b7c0477a8114",
   "metadata": {},
   "outputs": [],
   "source": [
    "def fibbonacci(n): # funcion recursiva (se llama a si misma)\n",
    "    if n in (0,1):\n",
    "        return n\n",
    "    else:\n",
    "        return fibbonacci(n-1)+fibbonacci(n-2)"
   ]
  },
  {
   "cell_type": "markdown",
   "id": "3c04859c-cf6d-4850-8e37-addd2a130a09",
   "metadata": {},
   "source": [
    "Ahora vamos a probarla, arma un for que muestre lo valores Fibonacci de 0 a 40. "
   ]
  },
  {
   "cell_type": "code",
   "execution_count": 2,
   "id": "39156c16-41fa-4aab-ad45-86cc1b8f9e99",
   "metadata": {},
   "outputs": [
    {
     "name": "stdout",
     "output_type": "stream",
     "text": [
      "k(0)=0\n",
      "k(1)=1\n",
      "k(2)=1\n",
      "k(3)=2\n",
      "k(4)=3\n",
      "k(5)=5\n",
      "k(6)=8\n",
      "k(7)=13\n",
      "k(8)=21\n",
      "k(9)=34\n",
      "k(10)=55\n",
      "k(11)=89\n",
      "k(12)=144\n",
      "k(13)=233\n",
      "k(14)=377\n",
      "k(15)=610\n",
      "k(16)=987\n",
      "k(17)=1597\n",
      "k(18)=2584\n",
      "k(19)=4181\n",
      "k(20)=6765\n",
      "k(21)=10946\n",
      "k(22)=17711\n",
      "k(23)=28657\n",
      "k(24)=46368\n",
      "k(25)=75025\n",
      "k(26)=121393\n",
      "k(27)=196418\n",
      "k(28)=317811\n",
      "k(29)=514229\n",
      "k(30)=832040\n",
      "k(31)=1346269\n",
      "k(32)=2178309\n",
      "k(33)=3524578\n",
      "k(34)=5702887\n",
      "k(35)=9227465\n",
      "k(36)=14930352\n",
      "k(37)=24157817\n",
      "k(38)=39088169\n",
      "k(39)=63245986\n",
      "k(40)=102334155\n"
     ]
    }
   ],
   "source": [
    "for n in range(41):\n",
    "    print(f'k({n})={fibbonacci(n)}')"
   ]
  },
  {
   "cell_type": "markdown",
   "id": "e6adabe9-b9f8-4b5c-b1c5-886630b83309",
   "metadata": {},
   "source": [
    "#### Por tu cuenta\n",
    "\n",
    "La versión iterativa de fibonacci es el siguiente programa. Usa %timeit para comparar la versión original vs la iterativa para los numeros 32,33 y 34"
   ]
  },
  {
   "cell_type": "markdown",
   "id": "ef2abe5f-a751-45b2-9893-12cf04b99497",
   "metadata": {},
   "source": [
    "def fibonacci_iterativo(n):\n",
    "    resultado = 0\n",
    "    temp = 1\n",
    "    for j in range(0,n):\n",
    "        temp, resultado = resultado, resultado + temp\n",
    "    return resultado"
   ]
  },
  {
   "cell_type": "code",
   "execution_count": 3,
   "id": "451e92ad-4c45-4cb3-b364-31f494e30289",
   "metadata": {},
   "outputs": [],
   "source": [
    "#misma funcion que la anterior pero de forma iterativa\n",
    "\n",
    "def fibonacci_iterativo(n): # funcion iterativa que se va a estar ejecutando dentro de un ciclo hasta que el bucle se rompa\n",
    "    resultado = 0\n",
    "    remp= 1\n",
    "    for j in range(0,n):\n",
    "        temp,resultado = resultado, resultado + temp\n",
    "    return resultado"
   ]
  },
  {
   "cell_type": "code",
   "execution_count": null,
   "id": "c2627128-e72a-4b18-b0e5-dcac10631f0e",
   "metadata": {},
   "outputs": [],
   "source": [
    "for n in range(41):\n",
    "    print(f'k({n})={fibonacci_iterativo(n)}')"
   ]
  },
  {
   "cell_type": "code",
   "execution_count": 5,
   "id": "ebe72ef3-0fdc-4808-8c44-668e9222fee4",
   "metadata": {},
   "outputs": [
    {
     "name": "stdout",
     "output_type": "stream",
     "text": [
      "479 μs ± 4.44 μs per loop (mean ± std. dev. of 7 runs, 1,000 loops each)\n"
     ]
    }
   ],
   "source": [
    "%timeit fibbonacci(17)"
   ]
  },
  {
   "cell_type": "code",
   "execution_count": 6,
   "id": "4f84143f-9d88-46cf-a8a9-4bf1c786ecfa",
   "metadata": {
    "scrolled": true
   },
   "outputs": [
    {
     "ename": "UnboundLocalError",
     "evalue": "cannot access local variable 'temp' where it is not associated with a value",
     "output_type": "error",
     "traceback": [
      "\u001b[1;31m---------------------------------------------------------------------------\u001b[0m",
      "\u001b[1;31mUnboundLocalError\u001b[0m                         Traceback (most recent call last)",
      "Cell \u001b[1;32mIn[6], line 1\u001b[0m\n\u001b[1;32m----> 1\u001b[0m get_ipython()\u001b[38;5;241m.\u001b[39mrun_line_magic(\u001b[38;5;124m'\u001b[39m\u001b[38;5;124mtimeit\u001b[39m\u001b[38;5;124m'\u001b[39m, \u001b[38;5;124m'\u001b[39m\u001b[38;5;124mfibonacci_iterativo(17)\u001b[39m\u001b[38;5;124m'\u001b[39m)\n",
      "File \u001b[1;32m~\\anaconda3\\Lib\\site-packages\\IPython\\core\\interactiveshell.py:2480\u001b[0m, in \u001b[0;36mInteractiveShell.run_line_magic\u001b[1;34m(self, magic_name, line, _stack_depth)\u001b[0m\n\u001b[0;32m   2478\u001b[0m     kwargs[\u001b[38;5;124m'\u001b[39m\u001b[38;5;124mlocal_ns\u001b[39m\u001b[38;5;124m'\u001b[39m] \u001b[38;5;241m=\u001b[39m \u001b[38;5;28mself\u001b[39m\u001b[38;5;241m.\u001b[39mget_local_scope(stack_depth)\n\u001b[0;32m   2479\u001b[0m \u001b[38;5;28;01mwith\u001b[39;00m \u001b[38;5;28mself\u001b[39m\u001b[38;5;241m.\u001b[39mbuiltin_trap:\n\u001b[1;32m-> 2480\u001b[0m     result \u001b[38;5;241m=\u001b[39m fn(\u001b[38;5;241m*\u001b[39margs, \u001b[38;5;241m*\u001b[39m\u001b[38;5;241m*\u001b[39mkwargs)\n\u001b[0;32m   2482\u001b[0m \u001b[38;5;66;03m# The code below prevents the output from being displayed\u001b[39;00m\n\u001b[0;32m   2483\u001b[0m \u001b[38;5;66;03m# when using magics with decorator @output_can_be_silenced\u001b[39;00m\n\u001b[0;32m   2484\u001b[0m \u001b[38;5;66;03m# when the last Python token in the expression is a ';'.\u001b[39;00m\n\u001b[0;32m   2485\u001b[0m \u001b[38;5;28;01mif\u001b[39;00m \u001b[38;5;28mgetattr\u001b[39m(fn, magic\u001b[38;5;241m.\u001b[39mMAGIC_OUTPUT_CAN_BE_SILENCED, \u001b[38;5;28;01mFalse\u001b[39;00m):\n",
      "File \u001b[1;32m~\\anaconda3\\Lib\\site-packages\\IPython\\core\\magics\\execution.py:1195\u001b[0m, in \u001b[0;36mExecutionMagics.timeit\u001b[1;34m(self, line, cell, local_ns)\u001b[0m\n\u001b[0;32m   1193\u001b[0m \u001b[38;5;28;01mfor\u001b[39;00m index \u001b[38;5;129;01min\u001b[39;00m \u001b[38;5;28mrange\u001b[39m(\u001b[38;5;241m0\u001b[39m, \u001b[38;5;241m10\u001b[39m):\n\u001b[0;32m   1194\u001b[0m     number \u001b[38;5;241m=\u001b[39m \u001b[38;5;241m10\u001b[39m \u001b[38;5;241m*\u001b[39m\u001b[38;5;241m*\u001b[39m index\n\u001b[1;32m-> 1195\u001b[0m     time_number \u001b[38;5;241m=\u001b[39m timer\u001b[38;5;241m.\u001b[39mtimeit(number)\n\u001b[0;32m   1196\u001b[0m     \u001b[38;5;28;01mif\u001b[39;00m time_number \u001b[38;5;241m>\u001b[39m\u001b[38;5;241m=\u001b[39m \u001b[38;5;241m0.2\u001b[39m:\n\u001b[0;32m   1197\u001b[0m         \u001b[38;5;28;01mbreak\u001b[39;00m\n",
      "File \u001b[1;32m~\\anaconda3\\Lib\\site-packages\\IPython\\core\\magics\\execution.py:173\u001b[0m, in \u001b[0;36mTimer.timeit\u001b[1;34m(self, number)\u001b[0m\n\u001b[0;32m    171\u001b[0m gc\u001b[38;5;241m.\u001b[39mdisable()\n\u001b[0;32m    172\u001b[0m \u001b[38;5;28;01mtry\u001b[39;00m:\n\u001b[1;32m--> 173\u001b[0m     timing \u001b[38;5;241m=\u001b[39m \u001b[38;5;28mself\u001b[39m\u001b[38;5;241m.\u001b[39minner(it, \u001b[38;5;28mself\u001b[39m\u001b[38;5;241m.\u001b[39mtimer)\n\u001b[0;32m    174\u001b[0m \u001b[38;5;28;01mfinally\u001b[39;00m:\n\u001b[0;32m    175\u001b[0m     \u001b[38;5;28;01mif\u001b[39;00m gcold:\n",
      "File \u001b[1;32m<magic-timeit>:1\u001b[0m, in \u001b[0;36minner\u001b[1;34m(_it, _timer)\u001b[0m\n",
      "Cell \u001b[1;32mIn[3], line 7\u001b[0m, in \u001b[0;36mfibonacci_iterativo\u001b[1;34m(n)\u001b[0m\n\u001b[0;32m      5\u001b[0m remp\u001b[38;5;241m=\u001b[39m \u001b[38;5;241m1\u001b[39m\n\u001b[0;32m      6\u001b[0m \u001b[38;5;28;01mfor\u001b[39;00m j \u001b[38;5;129;01min\u001b[39;00m \u001b[38;5;28mrange\u001b[39m(\u001b[38;5;241m0\u001b[39m,n):\n\u001b[1;32m----> 7\u001b[0m     temp,resultado \u001b[38;5;241m=\u001b[39m resultado, resultado \u001b[38;5;241m+\u001b[39m temp\n\u001b[0;32m      8\u001b[0m \u001b[38;5;28;01mreturn\u001b[39;00m resultado\n",
      "\u001b[1;31mUnboundLocalError\u001b[0m: cannot access local variable 'temp' where it is not associated with a value"
     ]
    }
   ],
   "source": [
    "%timeit fibonacci_iterativo(17)"
   ]
  },
  {
   "cell_type": "markdown",
   "id": "c1f5e086-b323-41b4-b4ec-efaa21e2c80a",
   "metadata": {},
   "source": [
    "### 11.2.2.- Series Geometricas"
   ]
  },
  {
   "cell_type": "markdown",
   "id": "cd84dea4-261c-46a9-8cd6-50e2ecd92e0f",
   "metadata": {},
   "source": [
    "Ahora vamos a armar series geometricas. Está tendra a=3, r=1/2 y n=20\n",
    "\n",
    "COmenzamos con la definicion de las variables a y r"
   ]
  },
  {
   "cell_type": "code",
   "execution_count": 7,
   "id": "66b25640-c0da-4d3e-8b8c-cf8627cf121a",
   "metadata": {},
   "outputs": [],
   "source": [
    "a = 3\n",
    "r = 1/2"
   ]
  },
  {
   "cell_type": "markdown",
   "id": "a461094b-66a3-43a9-8ec1-ff2501752f41",
   "metadata": {},
   "source": [
    "Ahora vamos a la definición de la función serie_geom(n)"
   ]
  },
  {
   "cell_type": "code",
   "execution_count": 8,
   "id": "2beb023a-1119-499f-b9e4-8d07f6e84bb3",
   "metadata": {},
   "outputs": [],
   "source": [
    "def serie_geom(n):\n",
    "    if n == 0:\n",
    "        return a\n",
    "    else:\n",
    "        return serie_geom(n-1)+a*r**(n-1) # serie geometrica: a+ar+ar^22+...+ar^(n-1)"
   ]
  },
  {
   "cell_type": "markdown",
   "id": "4631973e-445c-49a0-9f5e-3c941c8d476e",
   "metadata": {},
   "source": [
    "Y terminamos con la impresión de los resultados del 1 al 10"
   ]
  },
  {
   "cell_type": "code",
   "execution_count": 11,
   "id": "ff3fe2f4-4586-465a-a82d-e07a8764e742",
   "metadata": {},
   "outputs": [
    {
     "data": {
      "text/plain": [
       "[6.0,\n",
       " 7.5,\n",
       " 8.25,\n",
       " 8.625,\n",
       " 8.8125,\n",
       " 8.90625,\n",
       " 8.953125,\n",
       " 8.9765625,\n",
       " 8.98828125,\n",
       " 8.994140625]"
      ]
     },
     "execution_count": 11,
     "metadata": {},
     "output_type": "execute_result"
    }
   ],
   "source": [
    "[serie_geom(i) for i in list(range(1,11))]"
   ]
  },
  {
   "cell_type": "code",
   "execution_count": null,
   "id": "9cebeced-064a-41fb-9444-ae95a0f996e6",
   "metadata": {},
   "outputs": [],
   "source": [
    "    "
   ]
  },
  {
   "cell_type": "markdown",
   "id": "9f6abc8f-92e8-480e-8334-4f5d046e41e5",
   "metadata": {},
   "source": [
    "### 11.2.3.- Factorial"
   ]
  },
  {
   "cell_type": "markdown",
   "id": "88784460-c0f8-4893-9e0c-a1363de68e4a",
   "metadata": {},
   "source": [
    "Ahora vamos a ver factoriales, comenzamos definiendo la funcion factorial"
   ]
  },
  {
   "cell_type": "code",
   "execution_count": 38,
   "id": "074911c2-0ca5-4677-8391-7d77113803bd",
   "metadata": {},
   "outputs": [],
   "source": [
    "def factorial(n): # recursiva\n",
    "    if n <= 1:\n",
    "        return 1\n",
    "    else:\n",
    "        return n * factorial(n - 1)\n"
   ]
  },
  {
   "cell_type": "code",
   "execution_count": 39,
   "id": "f087e0b3-ba72-4ec6-ab70-be34ae7a5dff",
   "metadata": {
    "scrolled": true
   },
   "outputs": [
    {
     "name": "stdout",
     "output_type": "stream",
     "text": [
      "1\n",
      "2\n",
      "6\n",
      "24\n",
      "120\n",
      "720\n",
      "5040\n",
      "40320\n",
      "362880\n",
      "3628800\n",
      "39916800\n",
      "479001600\n",
      "6227020800\n",
      "87178291200\n",
      "1307674368000\n",
      "20922789888000\n",
      "355687428096000\n",
      "6402373705728000\n",
      "121645100408832000\n",
      "2432902008176640000\n"
     ]
    },
    {
     "data": {
      "text/plain": [
       "[None,\n",
       " None,\n",
       " None,\n",
       " None,\n",
       " None,\n",
       " None,\n",
       " None,\n",
       " None,\n",
       " None,\n",
       " None,\n",
       " None,\n",
       " None,\n",
       " None,\n",
       " None,\n",
       " None,\n",
       " None,\n",
       " None,\n",
       " None,\n",
       " None,\n",
       " None]"
      ]
     },
     "execution_count": 39,
     "metadata": {},
     "output_type": "execute_result"
    }
   ],
   "source": [
    "[print(factorial(n)) for n in list(range(1,21))]"
   ]
  },
  {
   "cell_type": "code",
   "execution_count": 44,
   "id": "166c3a23-365a-42fa-96d1-098af9de2ac5",
   "metadata": {},
   "outputs": [],
   "source": [
    "def factorial_iterativo(n): #iterativa\n",
    "    fin = n-1 # guardamos la posicion n-1\n",
    "    for i in range(fin,1,-1): #hacemos un rango desde 0-1 hasta 20-1 (posiciones) en sentido descendente iitando el concepto de factorial al contrario\n",
    "        n*=i #guardamos en \"n\" el dato de los valores multiplicados dentro del rango\n",
    "        return n\n",
    "        "
   ]
  },
  {
   "cell_type": "code",
   "execution_count": 46,
   "id": "1467b205-7fb3-4b71-bccc-e1a3477d7676",
   "metadata": {},
   "outputs": [
    {
     "name": "stdout",
     "output_type": "stream",
     "text": [
      "k(1)=None\n",
      "k(2)=None\n",
      "k(3)=6\n",
      "k(4)=12\n",
      "k(5)=20\n",
      "k(6)=30\n",
      "k(7)=42\n",
      "k(8)=56\n",
      "k(9)=72\n",
      "k(10)=90\n",
      "k(11)=110\n",
      "k(12)=132\n",
      "k(13)=156\n",
      "k(14)=182\n",
      "k(15)=210\n",
      "k(16)=240\n",
      "k(17)=272\n",
      "k(18)=306\n",
      "k(19)=342\n",
      "k(20)=380\n"
     ]
    }
   ],
   "source": [
    "for n in range(1,21):\n",
    "    print(f'k({n})={factorial_iterativo(n)}')\n",
    "\n"
   ]
  },
  {
   "cell_type": "markdown",
   "id": "0310758d-7f6b-4f2e-a6e3-13440bede434",
   "metadata": {},
   "source": [
    "E imprimimos del 1 al 20"
   ]
  },
  {
   "cell_type": "markdown",
   "id": "1c737631-a31f-4e71-8b0a-73b14db2ede0",
   "metadata": {},
   "source": [
    "Ahora intenta el factorial de forma iterativa"
   ]
  },
  {
   "cell_type": "code",
   "execution_count": 43,
   "id": "c52108f1-9148-45b7-9b91-de45ec1e8d82",
   "metadata": {},
   "outputs": [
    {
     "ename": "UnboundLocalError",
     "evalue": "cannot access local variable 'resultado' where it is not associated with a value",
     "output_type": "error",
     "traceback": [
      "\u001b[1;31m---------------------------------------------------------------------------\u001b[0m",
      "\u001b[1;31mUnboundLocalError\u001b[0m                         Traceback (most recent call last)",
      "Cell \u001b[1;32mIn[43], line 1\u001b[0m\n\u001b[1;32m----> 1\u001b[0m factorial_iterativo(\u001b[38;5;241m21\u001b[39m)\n",
      "Cell \u001b[1;32mIn[40], line 4\u001b[0m, in \u001b[0;36mfactorial_iterativo\u001b[1;34m(n)\u001b[0m\n\u001b[0;32m      2\u001b[0m ini \u001b[38;5;241m=\u001b[39m \u001b[38;5;241m1\u001b[39m\n\u001b[0;32m      3\u001b[0m \u001b[38;5;28;01mfor\u001b[39;00m i \u001b[38;5;129;01min\u001b[39;00m \u001b[38;5;28mrange\u001b[39m(\u001b[38;5;241m1\u001b[39m,\u001b[38;5;241m21\u001b[39m):\n\u001b[1;32m----> 4\u001b[0m     resultado \u001b[38;5;241m*\u001b[39m\u001b[38;5;241m=\u001b[39mi\n\u001b[0;32m      5\u001b[0m     \u001b[38;5;28;01mreturn\u001b[39;00m resultado\n",
      "\u001b[1;31mUnboundLocalError\u001b[0m: cannot access local variable 'resultado' where it is not associated with a value"
     ]
    }
   ],
   "source": []
  },
  {
   "cell_type": "code",
   "execution_count": null,
   "id": "0155899f-c75d-46a4-9545-c24f723a26b6",
   "metadata": {},
   "outputs": [],
   "source": []
  },
  {
   "cell_type": "code",
   "execution_count": null,
   "id": "d227fe94-d078-4e63-9407-054492dfe310",
   "metadata": {},
   "outputs": [],
   "source": []
  },
  {
   "cell_type": "markdown",
   "id": "f3787b88-147c-4214-a0a3-c54230f31b37",
   "metadata": {},
   "source": [
    "## 11.3.- Búsqueda"
   ]
  },
  {
   "cell_type": "markdown",
   "id": "a78f40fb-d33f-4cca-a8fc-8526fb3cc2c8",
   "metadata": {},
   "source": [
    "### 11.4.- Búsqueda lineal"
   ]
  },
  {
   "cell_type": "markdown",
   "id": "f8735ff0-47f5-400e-aafc-da969723bb96",
   "metadata": {},
   "source": [
    "La busqueda lineal es la mas sencilla y mensa, simplemente va elemento por elemento del arreglo viendo si es el indicado\n",
    "\n",
    "Vamos a comenzar haciendo una función sencilla de búsqueda lineal"
   ]
  },
  {
   "cell_type": "code",
   "execution_count": 48,
   "id": "73b1b365-8fb0-45eb-9662-f8d2de69afe0",
   "metadata": {},
   "outputs": [],
   "source": [
    "#metodo de busqueda de indice de un valor, de forma primitiva(lo que hace index basicamente)\n",
    "def busquedalineal(datos,dato_abuscar):\n",
    "    for indice,valor in enumerate(datos):\n",
    "        if valor == dato_abuscar:\n",
    "            return indice\n",
    "    return -1 # esto te lo devuelve si no esta en la lista\n",
    "\n",
    "\n",
    "    "
   ]
  },
  {
   "cell_type": "code",
   "execution_count": null,
   "id": "a00a757e-e4d8-44b4-bb02-f5b69d47aadf",
   "metadata": {},
   "outputs": [],
   "source": []
  },
  {
   "cell_type": "markdown",
   "id": "0f28350e-a1bc-4578-a979-375dce382971",
   "metadata": {},
   "source": [
    "Luego le damos los datos: \n",
    "    \n",
    "datos = [1.70, 1.65, 1.58, 1.81, 1.84, 1.78, 1.68, 1.72]"
   ]
  },
  {
   "cell_type": "code",
   "execution_count": 49,
   "id": "f55c176a-fa2c-489d-9b43-7c4ae5461292",
   "metadata": {},
   "outputs": [],
   "source": [
    "datos = [1.70, 1.65, 1.58, 1.81, 1.84, 1.78, 1.68, 1.72]"
   ]
  },
  {
   "cell_type": "code",
   "execution_count": null,
   "id": "e09c8066-3ad5-4bd6-82f1-7cd3c57df088",
   "metadata": {},
   "outputs": [],
   "source": []
  },
  {
   "cell_type": "markdown",
   "id": "13749123-5a5f-441c-804d-624c8fb74159",
   "metadata": {},
   "source": [
    "Y luego probamos"
   ]
  },
  {
   "cell_type": "code",
   "execution_count": 52,
   "id": "16209386-19da-4e5f-82a4-254118a790c2",
   "metadata": {},
   "outputs": [
    {
     "name": "stdout",
     "output_type": "stream",
     "text": [
      "El numero que buscas tiene indice 3\n"
     ]
    }
   ],
   "source": [
    "print(\"El numero que buscas tiene indice\",busquedalineal(datos,1.81))"
   ]
  },
  {
   "cell_type": "markdown",
   "id": "8c51e974-eacf-4cd7-96b5-620af95074c3",
   "metadata": {},
   "source": [
    "probamos uno fuera de la lista"
   ]
  },
  {
   "cell_type": "code",
   "execution_count": 54,
   "id": "6b006eb3-ffe0-4a8a-a2b9-4aca751afc0b",
   "metadata": {},
   "outputs": [
    {
     "name": "stdout",
     "output_type": "stream",
     "text": [
      "El numero que buscas tiene indice -1\n"
     ]
    }
   ],
   "source": [
    "print(\"El numero que buscas tiene indice\",busquedalineal(datos,2))"
   ]
  },
  {
   "cell_type": "code",
   "execution_count": 55,
   "id": "41ba6b49-4a6a-4338-81b8-21ea783f5818",
   "metadata": {},
   "outputs": [],
   "source": [
    "#buscar busqueda binaria, se ve interesante"
   ]
  },
  {
   "cell_type": "markdown",
   "id": "b72c7c8c-dae8-4004-a23f-c2858859867d",
   "metadata": {},
   "source": [
    "## 11.4.- Ordenamiento"
   ]
  },
  {
   "cell_type": "markdown",
   "id": "0f18e51a-df67-497a-96a9-e3e665f1d1d4",
   "metadata": {},
   "source": [
    "### 11.4.1.- Ordenamiento por Selección"
   ]
  },
  {
   "cell_type": "markdown",
   "id": "1a6d3ee0-7320-44ef-8bf5-d999a1ee561f",
   "metadata": {},
   "source": [
    "Vamos a comenzar con Ordenamiento por Selección\n",
    "\n",
    "En este ciclo, se reduce la cantidad de elementos, una vez que se ha encontrado el elemento más\n",
    "pequeño y se ubica en la primera posición."
   ]
  },
  {
   "cell_type": "code",
   "execution_count": 57,
   "id": "a1205ce9-172f-4584-b801-68832f93fbce",
   "metadata": {},
   "outputs": [
    {
     "name": "stdout",
     "output_type": "stream",
     "text": [
      "None\n"
     ]
    }
   ],
   "source": [
    "def ordenamiento_por_seleccion(estaturas):\n",
    "    longitud = len(estaturas)\n",
    "    for i in range(longitud-1):\n",
    "        for j in range(i+1, longitud):\n",
    "            if estaturas[i] < estaturas[j]:\n",
    "                estaturas[i], estaturas[j] = estaturas[j], estaturas[i]\n",
    "\n",
    "\n",
    "estaturas = [1.75, 1.60, 1.82, 1.55, 1.90, 1.68, 1.72, 1.85, 1.78]\n",
    "print(f'{}')"
   ]
  },
  {
   "cell_type": "code",
   "execution_count": 60,
   "id": "5a2a8ef5-0468-49ee-96e6-4ff6da99b41c",
   "metadata": {},
   "outputs": [],
   "source": [
    "# correccion profe\n",
    "\n",
    "def ordenamiento_sel(datos):\n",
    "    for indice1 in range(len(datos)-1):\n",
    "        peque = indice1\n",
    "        for indice2 in range(indice1+1,len(datos)):\n",
    "            if datos[indice2]<datos[peque]:\n",
    "                peque = indice2\n",
    "        datos[peque], datos[indice1] = datos[indice1], datos[peque] # intercambio el valor de los indices (el valor mas pequeño por el indice 1)\n",
    "\n",
    "#logica del sorted"
   ]
  },
  {
   "cell_type": "markdown",
   "id": "8d24352c-e131-41cb-afb0-fb1878127bea",
   "metadata": {},
   "source": [
    "En esta parte se identifica el elemento más pequeño, entre los elementos que quedan, y se intercambia de posición con el elemento que tiene el índice más bajo. "
   ]
  },
  {
   "cell_type": "code",
   "execution_count": null,
   "id": "58dfd13a-509d-4006-919d-b5489347001d",
   "metadata": {},
   "outputs": [],
   "source": []
  },
  {
   "cell_type": "markdown",
   "id": "c68a3d0a-aac2-4051-91f8-e85f7ae9049a",
   "metadata": {},
   "source": [
    "Y ahora apliquemos este algoritmo a auna lista que contiene la estatura de 9 personas\n",
    "\n",
    "1.85, 1.70, 1.58, 1.83, 1.80, 1.75, 1.70, 1.90, 1.65"
   ]
  },
  {
   "cell_type": "code",
   "execution_count": 58,
   "id": "94996880-1a0f-40a3-ad33-e97191c600a0",
   "metadata": {},
   "outputs": [],
   "source": [
    "import numpy as np\n"
   ]
  },
  {
   "cell_type": "code",
   "execution_count": 64,
   "id": "16111271-21a0-40ce-bbb4-b3758808d565",
   "metadata": {},
   "outputs": [],
   "source": [
    "datos = np.array([1.75, 1.60, 1.82, 1.55, 1.90, 1.68, 1.72, 1.85, 1.78])"
   ]
  },
  {
   "cell_type": "code",
   "execution_count": 65,
   "id": "71f56ca5-492d-4e01-949a-06fb868e2de8",
   "metadata": {},
   "outputs": [
    {
     "name": "stdout",
     "output_type": "stream",
     "text": [
      "Unsorted Array:[1.75 1.6  1.82 1.55 1.9  1.68 1.72 1.85 1.78]\n",
      "\n"
     ]
    }
   ],
   "source": [
    "print(f'Unsorted Array:{datos}\\n')"
   ]
  },
  {
   "cell_type": "code",
   "execution_count": 66,
   "id": "1f79dc76-a408-450e-a341-c89b90743b34",
   "metadata": {},
   "outputs": [],
   "source": [
    "ordenamiento_sel(datos)"
   ]
  },
  {
   "cell_type": "code",
   "execution_count": 67,
   "id": "6b3536e7-a97e-4722-875d-84d5a5207190",
   "metadata": {},
   "outputs": [
    {
     "name": "stdout",
     "output_type": "stream",
     "text": [
      "Sorted Array:[1.55 1.6  1.68 1.72 1.75 1.78 1.82 1.85 1.9 ]\n",
      "\n"
     ]
    }
   ],
   "source": [
    "print(f'Sorted Array:{datos}\\n')"
   ]
  },
  {
   "cell_type": "code",
   "execution_count": null,
   "id": "988cb82e-c928-4e39-9846-429d0474e8b3",
   "metadata": {},
   "outputs": [],
   "source": []
  }
 ],
 "metadata": {
  "kernelspec": {
   "display_name": "Python [conda env:base] *",
   "language": "python",
   "name": "conda-base-py"
  },
  "language_info": {
   "codemirror_mode": {
    "name": "ipython",
    "version": 3
   },
   "file_extension": ".py",
   "mimetype": "text/x-python",
   "name": "python",
   "nbconvert_exporter": "python",
   "pygments_lexer": "ipython3",
   "version": "3.13.5"
  }
 },
 "nbformat": 4,
 "nbformat_minor": 5
}
