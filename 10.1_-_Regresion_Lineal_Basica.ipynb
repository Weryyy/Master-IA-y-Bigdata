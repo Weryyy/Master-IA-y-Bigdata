{
 "cells": [
  {
   "cell_type": "markdown",
   "id": "c9da3374-9b71-4556-878d-9cab29b54a72",
   "metadata": {},
   "source": [
    "# Regresion Líneal sencilla con Stats"
   ]
  },
  {
   "cell_type": "markdown",
   "id": "75d28f35-3c6f-4ee5-8762-c85034db8363",
   "metadata": {},
   "source": [
    "## Relaciones lineales"
   ]
  },
  {
   "cell_type": "markdown",
   "id": "0786c0cc-1241-4e3a-ab75-7d127ada8d83",
   "metadata": {},
   "source": [
    "Armemos una relación entre Celsius y Farenheit"
   ]
  },
  {
   "cell_type": "code",
   "execution_count": 1,
   "id": "a1afcd5c-48be-4dec-8c97-bb32310a9869",
   "metadata": {},
   "outputs": [],
   "source": [
    "c = lambda f: 5/9*(f-32)"
   ]
  },
  {
   "cell_type": "markdown",
   "id": "6083c930-62bb-44b4-8d9d-59dd5be8b4f9",
   "metadata": {},
   "source": [
    "Armemos una comprensión de lista con esta función para todas las temeperaturas del 0 al 100 de 10 en 10"
   ]
  },
  {
   "cell_type": "code",
   "execution_count": 2,
   "id": "b85eba29-694a-4122-bddf-1e7a2d4a53c6",
   "metadata": {},
   "outputs": [
    {
     "data": {
      "text/plain": [
       "((0, 10),\n",
       " (1, 20),\n",
       " (2, 30),\n",
       " (3, 40),\n",
       " (4, 50),\n",
       " (5, 60),\n",
       " (6, 70),\n",
       " (7, 80),\n",
       " (8, 90),\n",
       " (9, 100))"
      ]
     },
     "execution_count": 2,
     "metadata": {},
     "output_type": "execute_result"
    }
   ],
   "source": [
    "temp = 0\n",
    "a_conv_tup =[]\n",
    "for i in range(0,10):\n",
    "    temp += 10\n",
    "    a_conv_tup.append(temp)\n",
    "\n",
    "tuple(enumerate(a_conv_tup))"
   ]
  },
  {
   "cell_type": "code",
   "execution_count": 4,
   "id": "b8b62623-8863-4d2f-9407-3818ea4d9fb1",
   "metadata": {},
   "outputs": [
    {
     "data": {
      "text/plain": [
       "[(0, -17.77777777777778),\n",
       " (10, -12.222222222222223),\n",
       " (20, -6.666666666666667),\n",
       " (30, -1.1111111111111112),\n",
       " (40, 4.444444444444445),\n",
       " (50, 10.0),\n",
       " (60, 15.555555555555557),\n",
       " (70, 21.11111111111111),\n",
       " (80, 26.666666666666668),\n",
       " (90, 32.22222222222222),\n",
       " (100, 37.77777777777778)]"
      ]
     },
     "execution_count": 4,
     "metadata": {},
     "output_type": "execute_result"
    }
   ],
   "source": [
    "#correccion profe\n",
    "\n",
    "relacion_temperaturas = [(f,c(f)) for f in range(0,101,10)]\n",
    "relacion_temperaturas"
   ]
  },
  {
   "cell_type": "markdown",
   "id": "ad35002f-86d6-4a26-9d34-41ba691e3693",
   "metadata": {},
   "source": [
    "Importa Pandas"
   ]
  },
  {
   "cell_type": "code",
   "execution_count": 5,
   "id": "fcb47d5b-d662-4a76-a7d9-df695d7bcb6f",
   "metadata": {},
   "outputs": [],
   "source": [
    "import pandas as pd"
   ]
  },
  {
   "cell_type": "markdown",
   "id": "0e1679bc-95ca-4753-bf17-c220a52db298",
   "metadata": {},
   "source": [
    "Creamos un DataFrame con las listas"
   ]
  },
  {
   "cell_type": "code",
   "execution_count": 6,
   "id": "43bc217d-9607-4b5f-abe7-89f4b271310e",
   "metadata": {},
   "outputs": [],
   "source": [
    "tenp_df = pd.DataFrame(relacion_temperaturas, columns = [\"Farenheit\",\"Celsius\"])"
   ]
  },
  {
   "cell_type": "code",
   "execution_count": 7,
   "id": "0e3c33b5-fd66-41cf-aa8b-f18585598444",
   "metadata": {},
   "outputs": [
    {
     "data": {
      "text/html": [
       "<div>\n",
       "<style scoped>\n",
       "    .dataframe tbody tr th:only-of-type {\n",
       "        vertical-align: middle;\n",
       "    }\n",
       "\n",
       "    .dataframe tbody tr th {\n",
       "        vertical-align: top;\n",
       "    }\n",
       "\n",
       "    .dataframe thead th {\n",
       "        text-align: right;\n",
       "    }\n",
       "</style>\n",
       "<table border=\"1\" class=\"dataframe\">\n",
       "  <thead>\n",
       "    <tr style=\"text-align: right;\">\n",
       "      <th></th>\n",
       "      <th>Farenheit</th>\n",
       "      <th>Celsius</th>\n",
       "    </tr>\n",
       "  </thead>\n",
       "  <tbody>\n",
       "    <tr>\n",
       "      <th>0</th>\n",
       "      <td>0</td>\n",
       "      <td>-17.777778</td>\n",
       "    </tr>\n",
       "    <tr>\n",
       "      <th>1</th>\n",
       "      <td>10</td>\n",
       "      <td>-12.222222</td>\n",
       "    </tr>\n",
       "    <tr>\n",
       "      <th>2</th>\n",
       "      <td>20</td>\n",
       "      <td>-6.666667</td>\n",
       "    </tr>\n",
       "    <tr>\n",
       "      <th>3</th>\n",
       "      <td>30</td>\n",
       "      <td>-1.111111</td>\n",
       "    </tr>\n",
       "    <tr>\n",
       "      <th>4</th>\n",
       "      <td>40</td>\n",
       "      <td>4.444444</td>\n",
       "    </tr>\n",
       "    <tr>\n",
       "      <th>5</th>\n",
       "      <td>50</td>\n",
       "      <td>10.000000</td>\n",
       "    </tr>\n",
       "    <tr>\n",
       "      <th>6</th>\n",
       "      <td>60</td>\n",
       "      <td>15.555556</td>\n",
       "    </tr>\n",
       "    <tr>\n",
       "      <th>7</th>\n",
       "      <td>70</td>\n",
       "      <td>21.111111</td>\n",
       "    </tr>\n",
       "    <tr>\n",
       "      <th>8</th>\n",
       "      <td>80</td>\n",
       "      <td>26.666667</td>\n",
       "    </tr>\n",
       "    <tr>\n",
       "      <th>9</th>\n",
       "      <td>90</td>\n",
       "      <td>32.222222</td>\n",
       "    </tr>\n",
       "    <tr>\n",
       "      <th>10</th>\n",
       "      <td>100</td>\n",
       "      <td>37.777778</td>\n",
       "    </tr>\n",
       "  </tbody>\n",
       "</table>\n",
       "</div>"
      ],
      "text/plain": [
       "    Farenheit    Celsius\n",
       "0           0 -17.777778\n",
       "1          10 -12.222222\n",
       "2          20  -6.666667\n",
       "3          30  -1.111111\n",
       "4          40   4.444444\n",
       "5          50  10.000000\n",
       "6          60  15.555556\n",
       "7          70  21.111111\n",
       "8          80  26.666667\n",
       "9          90  32.222222\n",
       "10        100  37.777778"
      ]
     },
     "execution_count": 7,
     "metadata": {},
     "output_type": "execute_result"
    }
   ],
   "source": [
    "tenp_df"
   ]
  },
  {
   "cell_type": "markdown",
   "id": "c4321779-3138-465c-9981-d733d9b8268e",
   "metadata": {},
   "source": [
    "Arma una gráfica que muestre esta relación"
   ]
  },
  {
   "cell_type": "code",
   "execution_count": 13,
   "id": "ed875b57-751e-459e-83cd-ad04740890ec",
   "metadata": {},
   "outputs": [
    {
     "data": {
      "image/png": "[encoded data removed]",
      "text/plain": [
       "<Figure size 640x480 with 1 Axes>"
      ]
     },
     "metadata": {},
     "output_type": "display_data"
    }
   ],
   "source": [
    "axes=tenp_df.plot(x=\"Farenheit\",y=\"Celsius\",style=\"-.\")\n",
    "ylabel = axes.set_ylabel(\"Celsius\")"
   ]
  },
  {
   "cell_type": "markdown",
   "id": "fd7e912b-26d8-4966-b1a0-8309c2a50523",
   "metadata": {},
   "source": [
    "Ponle etiquetas"
   ]
  },
  {
   "cell_type": "markdown",
   "id": "7eb9d488-3958-4271-8165-9175571498a9",
   "metadata": {},
   "source": [
    "## y = mx + b  formato general de formula de la regresion lineal\n",
    "### y = variable pendiente (variable que controla x)\n",
    "### x = variable independiente(variable que modificamos nosotros)\n",
    "### m pendiente de la recta\n",
    "###     - m>0: la recta sube\n",
    "###     - m=0: la recata es shorizontal\n",
    "###     - m<0: la recta baja\n",
    "### b = interseccion #punto donde se corta con el eje vertical (y)"
   ]
  },
  {
   "cell_type": "markdown",
   "id": "963e5eab-df38-4b17-b09b-24c78ae45bf5",
   "metadata": {},
   "source": [
    "## Regresión lineal con King_county"
   ]
  },
  {
   "cell_type": "markdown",
   "id": "f82ca1bc-aa78-49d6-bcee-ece001d49f56",
   "metadata": {},
   "source": [
    "Carga los datos de King county a un dataframe"
   ]
  },
  {
   "cell_type": "code",
   "execution_count": 18,
   "id": "47819b16-7f65-4615-9331-29d175567a32",
   "metadata": {},
   "outputs": [],
   "source": [
    "king_county_df = pd.read_csv(\"kc_house_data.csv\")"
   ]
  },
  {
   "cell_type": "markdown",
   "id": "bb895cbf-e072-48dd-876b-0e57fe4d65e1",
   "metadata": {},
   "source": [
    "Veamos el Head"
   ]
  },
  {
   "cell_type": "code",
   "execution_count": 19,
   "id": "a76d14e0-4b18-44b9-b692-42403fd2b3dc",
   "metadata": {},
   "outputs": [
    {
     "data": {
      "text/html": [
       "<div>\n",
       "<style scoped>\n",
       "    .dataframe tbody tr th:only-of-type {\n",
       "        vertical-align: middle;\n",
       "    }\n",
       "\n",
       "    .dataframe tbody tr th {\n",
       "        vertical-align: top;\n",
       "    }\n",
       "\n",
       "    .dataframe thead th {\n",
       "        text-align: right;\n",
       "    }\n",
       "</style>\n",
       "<table border=\"1\" class=\"dataframe\">\n",
       "  <thead>\n",
       "    <tr style=\"text-align: right;\">\n",
       "      <th></th>\n",
       "      <th>sqft</th>\n",
       "      <th>price</th>\n",
       "    </tr>\n",
       "  </thead>\n",
       "  <tbody>\n",
       "    <tr>\n",
       "      <th>0</th>\n",
       "      <td>1180</td>\n",
       "      <td>221900.0</td>\n",
       "    </tr>\n",
       "    <tr>\n",
       "      <th>1</th>\n",
       "      <td>2570</td>\n",
       "      <td>538000.0</td>\n",
       "    </tr>\n",
       "    <tr>\n",
       "      <th>2</th>\n",
       "      <td>770</td>\n",
       "      <td>180000.0</td>\n",
       "    </tr>\n",
       "    <tr>\n",
       "      <th>3</th>\n",
       "      <td>1960</td>\n",
       "      <td>604000.0</td>\n",
       "    </tr>\n",
       "    <tr>\n",
       "      <th>4</th>\n",
       "      <td>1680</td>\n",
       "      <td>510000.0</td>\n",
       "    </tr>\n",
       "  </tbody>\n",
       "</table>\n",
       "</div>"
      ],
      "text/plain": [
       "   sqft     price\n",
       "0  1180  221900.0\n",
       "1  2570  538000.0\n",
       "2   770  180000.0\n",
       "3  1960  604000.0\n",
       "4  1680  510000.0"
      ]
     },
     "execution_count": 19,
     "metadata": {},
     "output_type": "execute_result"
    }
   ],
   "source": [
    "king_county_df.head()"
   ]
  },
  {
   "cell_type": "markdown",
   "id": "50e4f509-a0d6-4985-8481-5674200f3563",
   "metadata": {},
   "source": [
    "Veamos el Tail"
   ]
  },
  {
   "cell_type": "code",
   "execution_count": 20,
   "id": "74a04255-9164-41ca-a3e4-06d76d0b36a4",
   "metadata": {},
   "outputs": [
    {
     "data": {
      "text/html": [
       "<div>\n",
       "<style scoped>\n",
       "    .dataframe tbody tr th:only-of-type {\n",
       "        vertical-align: middle;\n",
       "    }\n",
       "\n",
       "    .dataframe tbody tr th {\n",
       "        vertical-align: top;\n",
       "    }\n",
       "\n",
       "    .dataframe thead th {\n",
       "        text-align: right;\n",
       "    }\n",
       "</style>\n",
       "<table border=\"1\" class=\"dataframe\">\n",
       "  <thead>\n",
       "    <tr style=\"text-align: right;\">\n",
       "      <th></th>\n",
       "      <th>sqft</th>\n",
       "      <th>price</th>\n",
       "    </tr>\n",
       "  </thead>\n",
       "  <tbody>\n",
       "    <tr>\n",
       "      <th>21608</th>\n",
       "      <td>1530</td>\n",
       "      <td>360000.0</td>\n",
       "    </tr>\n",
       "    <tr>\n",
       "      <th>21609</th>\n",
       "      <td>2310</td>\n",
       "      <td>400000.0</td>\n",
       "    </tr>\n",
       "    <tr>\n",
       "      <th>21610</th>\n",
       "      <td>1020</td>\n",
       "      <td>402101.0</td>\n",
       "    </tr>\n",
       "    <tr>\n",
       "      <th>21611</th>\n",
       "      <td>1600</td>\n",
       "      <td>400000.0</td>\n",
       "    </tr>\n",
       "    <tr>\n",
       "      <th>21612</th>\n",
       "      <td>1020</td>\n",
       "      <td>325000.0</td>\n",
       "    </tr>\n",
       "  </tbody>\n",
       "</table>\n",
       "</div>"
      ],
      "text/plain": [
       "       sqft     price\n",
       "21608  1530  360000.0\n",
       "21609  2310  400000.0\n",
       "21610  1020  402101.0\n",
       "21611  1600  400000.0\n",
       "21612  1020  325000.0"
      ]
     },
     "execution_count": 20,
     "metadata": {},
     "output_type": "execute_result"
    }
   ],
   "source": [
    "king_county_df.tail()"
   ]
  },
  {
   "cell_type": "markdown",
   "id": "f57cac93-cc12-4ea1-9072-df076baf0ddc",
   "metadata": {},
   "source": [
    "Vamos cambiando los titulos de columnas"
   ]
  },
  {
   "cell_type": "code",
   "execution_count": 35,
   "id": "3de96060-d9ae-4f7e-aaf5-6dd90db6544a",
   "metadata": {},
   "outputs": [],
   "source": [
    "king_county_df=king_county_df.rename(columns={\"sqft\":\"cuadrado_pies\"})"
   ]
  },
  {
   "cell_type": "markdown",
   "id": "7cb81aec-3561-4bfc-8521-05402229b242",
   "metadata": {},
   "source": [
    "saca tu nuevo head"
   ]
  },
  {
   "cell_type": "code",
   "execution_count": 48,
   "id": "f6f746ab-b6eb-4eca-bf63-c66b9c19c4ff",
   "metadata": {},
   "outputs": [
    {
     "data": {
      "text/html": [
       "<div>\n",
       "<style scoped>\n",
       "    .dataframe tbody tr th:only-of-type {\n",
       "        vertical-align: middle;\n",
       "    }\n",
       "\n",
       "    .dataframe tbody tr th {\n",
       "        vertical-align: top;\n",
       "    }\n",
       "\n",
       "    .dataframe thead th {\n",
       "        text-align: right;\n",
       "    }\n",
       "</style>\n",
       "<table border=\"1\" class=\"dataframe\">\n",
       "  <thead>\n",
       "    <tr style=\"text-align: right;\">\n",
       "      <th></th>\n",
       "      <th>Sequela</th>\n",
       "      <th>price</th>\n",
       "    </tr>\n",
       "  </thead>\n",
       "  <tbody>\n",
       "    <tr>\n",
       "      <th>0</th>\n",
       "      <td>1180</td>\n",
       "      <td>221900.0</td>\n",
       "    </tr>\n",
       "    <tr>\n",
       "      <th>1</th>\n",
       "      <td>2570</td>\n",
       "      <td>538000.0</td>\n",
       "    </tr>\n",
       "    <tr>\n",
       "      <th>2</th>\n",
       "      <td>770</td>\n",
       "      <td>180000.0</td>\n",
       "    </tr>\n",
       "    <tr>\n",
       "      <th>3</th>\n",
       "      <td>1960</td>\n",
       "      <td>604000.0</td>\n",
       "    </tr>\n",
       "    <tr>\n",
       "      <th>4</th>\n",
       "      <td>1680</td>\n",
       "      <td>510000.0</td>\n",
       "    </tr>\n",
       "  </tbody>\n",
       "</table>\n",
       "</div>"
      ],
      "text/plain": [
       "   Sequela     price\n",
       "0     1180  221900.0\n",
       "1     2570  538000.0\n",
       "2      770  180000.0\n",
       "3     1960  604000.0\n",
       "4     1680  510000.0"
      ]
     },
     "execution_count": 48,
     "metadata": {},
     "output_type": "execute_result"
    }
   ],
   "source": [
    "king_county_df.head()"
   ]
  },
  {
   "cell_type": "markdown",
   "id": "f785d99a-12d8-4bec-8e46-efecbcebcb47",
   "metadata": {},
   "source": [
    "Importa stats de scipy"
   ]
  },
  {
   "cell_type": "code",
   "execution_count": 29,
   "id": "67375e80-acc2-4cc8-aa63-eb8d7847a94f",
   "metadata": {},
   "outputs": [],
   "source": [
    "from scipy import stats "
   ]
  },
  {
   "cell_type": "markdown",
   "id": "086469d3-aad9-4065-b51c-642cbfe30812",
   "metadata": {},
   "source": [
    "Arma un modelo de regresión lineal"
   ]
  },
  {
   "cell_type": "code",
   "execution_count": 38,
   "id": "15df757b-6d8d-40fd-b4d9-b9ee0733be24",
   "metadata": {},
   "outputs": [],
   "source": [
    "reglin = stats.linregress(x=king_county_df.Sequela, y = king_county_df.price)"
   ]
  },
  {
   "cell_type": "markdown",
   "id": "9d4a678c-9a42-470a-9943-4b95945aac0a",
   "metadata": {},
   "source": [
    "Chea la pendiente"
   ]
  },
  {
   "cell_type": "code",
   "execution_count": 39,
   "id": "038b036c-16bc-4570-b0d0-d07722cb95e7",
   "metadata": {},
   "outputs": [
    {
     "data": {
      "text/plain": [
       "LinregressResult(slope=np.float64(280.8066899295006), intercept=np.float64(-43867.60153385543), rvalue=np.float64(0.7020437212325269), pvalue=np.float64(0.0), stderr=np.float64(1.9376149902337942), intercept_stderr=np.float64(4405.4554432890345))"
      ]
     },
     "execution_count": 39,
     "metadata": {},
     "output_type": "execute_result"
    }
   ],
   "source": [
    "reglin"
   ]
  },
  {
   "cell_type": "code",
   "execution_count": 40,
   "id": "8aafe9f1-12e8-4c47-ab77-2c06e96ee18b",
   "metadata": {},
   "outputs": [
    {
     "data": {
      "text/plain": [
       "np.float64(280.8066899295006)"
      ]
     },
     "execution_count": 40,
     "metadata": {},
     "output_type": "execute_result"
    }
   ],
   "source": [
    "reglin.slope # saca la pendiente por cada pie^2 //^280 $"
   ]
  },
  {
   "cell_type": "markdown",
   "id": "7395ac42-8c15-491a-a6c5-790453f614e1",
   "metadata": {},
   "source": [
    "Checa la intercepción"
   ]
  },
  {
   "cell_type": "code",
   "execution_count": 41,
   "id": "055892b8-41c4-419f-8bb8-ee2af252867e",
   "metadata": {},
   "outputs": [
    {
     "data": {
      "text/plain": [
       "np.float64(-43867.60153385543)"
      ]
     },
     "execution_count": 41,
     "metadata": {},
     "output_type": "execute_result"
    }
   ],
   "source": [
    "reglin.intercept # si hubiera una casa con 0 pies cuadrados valdria eso"
   ]
  },
  {
   "cell_type": "markdown",
   "id": "8c4ed298-2c42-4f29-a859-48894c7c437b",
   "metadata": {},
   "source": [
    "PrecioVenta = 280.80*Areaft - 43,867.60"
   ]
  },
  {
   "cell_type": "markdown",
   "id": "b98323d6-14b9-4efa-9a84-c9928f081498",
   "metadata": {},
   "source": [
    "Vamos a predecir el precio de alguna casa"
   ]
  },
  {
   "cell_type": "code",
   "execution_count": 42,
   "id": "005c777d-4629-4b21-964a-16c570036089",
   "metadata": {},
   "outputs": [
    {
     "data": {
      "text/plain": [
       "np.float64(574592.2455006115)"
      ]
     },
     "execution_count": 42,
     "metadata": {},
     "output_type": "execute_result"
    }
   ],
   "source": [
    "casaFila_10 = reglin.slope*1890 - reglin.intercept\n",
    "casaFila_10"
   ]
  },
  {
   "cell_type": "markdown",
   "id": "c5c0b381-01e7-4379-a010-af05df0f8b90",
   "metadata": {},
   "source": [
    "Compara con la realidad"
   ]
  },
  {
   "cell_type": "code",
   "execution_count": 43,
   "id": "2552489b-a3a0-4392-a069-73835cdc2add",
   "metadata": {},
   "outputs": [
    {
     "data": {
      "text/plain": [
       "LinregressResult(slope=np.float64(280.8066899295006), intercept=np.float64(-43867.60153385543), rvalue=np.float64(0.7020437212325269), pvalue=np.float64(0.0), stderr=np.float64(1.9376149902337942), intercept_stderr=np.float64(4405.4554432890345))"
      ]
     },
     "execution_count": 43,
     "metadata": {},
     "output_type": "execute_result"
    }
   ],
   "source": [
    "reglin"
   ]
  },
  {
   "cell_type": "markdown",
   "id": "0c02da88-162e-4e55-8bb6-10614de1d604",
   "metadata": {},
   "source": [
    "R^2 = r ^ 2 (Coheficiente de determinacion)\n",
    "R^2 = 0.70 ^ 2 = 49% de la variacion de y se explica por x \n",
    "\n",
    "rvalue = 1 # correlacion perfecta positiva \n",
    "rvalue = 0 # no hay relacion lineal\n",
    "rvalue = -1 # correlacion perfecta negativa\n"
   ]
  },
  {
   "cell_type": "code",
   "execution_count": 44,
   "id": "913e64e3-26f7-4b05-a659-ca2eb46bc6dd",
   "metadata": {},
   "outputs": [],
   "source": []
  },
  {
   "cell_type": "code",
   "execution_count": null,
   "id": "681d5035-92d4-4fd5-809e-d58e9487d5d9",
   "metadata": {},
   "outputs": [],
   "source": []
  },
  {
   "cell_type": "markdown",
   "id": "98441dc1-4513-4588-bf1f-385414ca7d84",
   "metadata": {},
   "source": [
    "### Hacer la gráfica"
   ]
  },
  {
   "cell_type": "markdown",
   "id": "16c12841-88f2-4d6c-9323-eb6edc74d123",
   "metadata": {},
   "source": [
    "Importa Seaborn"
   ]
  },
  {
   "cell_type": "code",
   "execution_count": 45,
   "id": "dc24847c-c558-4f59-aa6f-f7658e6fe975",
   "metadata": {},
   "outputs": [],
   "source": [
    "import seaborn as sns"
   ]
  },
  {
   "cell_type": "markdown",
   "id": "aa689e3b-0791-4f50-bf2e-fede90d4dde1",
   "metadata": {},
   "source": [
    "Pon el estilo como Whitegrid"
   ]
  },
  {
   "cell_type": "code",
   "execution_count": 46,
   "id": "a4c1bb1b-61b1-4a83-b7ee-e0302b04c047",
   "metadata": {},
   "outputs": [],
   "source": [
    "sns.set_style(\"whitegrid\")"
   ]
  },
  {
   "cell_type": "markdown",
   "id": "7d99e5fc-1740-4870-827d-bbc2a41afc28",
   "metadata": {},
   "source": [
    "Arma una regplot de sns"
   ]
  },
  {
   "cell_type": "code",
   "execution_count": 49,
   "id": "810a2b21-1f83-4d0b-a03e-70971f522ef5",
   "metadata": {},
   "outputs": [
    {
     "data": {
      "image/png": "[encoded data removed]",
      "text/plain": [
       "<Figure size 640x480 with 1 Axes>"
      ]
     },
     "metadata": {},
     "output_type": "display_data"
    }
   ],
   "source": [
    "axes = sns.regplot(x=king_county_df.Sequela,y=king_county_df.price)"
   ]
  },
  {
   "cell_type": "code",
   "execution_count": 51,
   "id": "119d4803-8b63-4272-9282-11ddb49ae248",
   "metadata": {
    "scrolled": true
   },
   "outputs": [
    {
     "data": {
      "text/plain": [
       "\u001b[1;31mSignature:\u001b[0m\n",
       "\u001b[0msns\u001b[0m\u001b[1;33m.\u001b[0m\u001b[0mregplot\u001b[0m\u001b[1;33m(\u001b[0m\u001b[1;33m\n",
       "\u001b[0m    \u001b[0mdata\u001b[0m\u001b[1;33m=\u001b[0m\u001b[1;32mNone\u001b[0m\u001b[1;33m,\u001b[0m\u001b[1;33m\n",
       "\u001b[0m    \u001b[1;33m*\u001b[0m\u001b[1;33m,\u001b[0m\u001b[1;33m\n",
       "\u001b[0m    \u001b[0mx\u001b[0m\u001b[1;33m=\u001b[0m\u001b[1;32mNone\u001b[0m\u001b[1;33m,\u001b[0m\u001b[1;33m\n",
       "\u001b[0m    \u001b[0my\u001b[0m\u001b[1;33m=\u001b[0m\u001b[1;32mNone\u001b[0m\u001b[1;33m,\u001b[0m\u001b[1;33m\n",
       "\u001b[0m    \u001b[0mx_estimator\u001b[0m\u001b[1;33m=\u001b[0m\u001b[1;32mNone\u001b[0m\u001b[1;33m,\u001b[0m\u001b[1;33m\n",
       "\u001b[0m    \u001b[0mx_bins\u001b[0m\u001b[1;33m=\u001b[0m\u001b[1;32mNone\u001b[0m\u001b[1;33m,\u001b[0m\u001b[1;33m\n",
       "\u001b[0m    \u001b[0mx_ci\u001b[0m\u001b[1;33m=\u001b[0m\u001b[1;34m'ci'\u001b[0m\u001b[1;33m,\u001b[0m\u001b[1;33m\n",
       "\u001b[0m    \u001b[0mscatter\u001b[0m\u001b[1;33m=\u001b[0m\u001b[1;32mTrue\u001b[0m\u001b[1;33m,\u001b[0m\u001b[1;33m\n",
       "\u001b[0m    \u001b[0mfit_reg\u001b[0m\u001b[1;33m=\u001b[0m\u001b[1;32mTrue\u001b[0m\u001b[1;33m,\u001b[0m\u001b[1;33m\n",
       "\u001b[0m    \u001b[0mci\u001b[0m\u001b[1;33m=\u001b[0m\u001b[1;36m95\u001b[0m\u001b[1;33m,\u001b[0m\u001b[1;33m\n",
       "\u001b[0m    \u001b[0mn_boot\u001b[0m\u001b[1;33m=\u001b[0m\u001b[1;36m1000\u001b[0m\u001b[1;33m,\u001b[0m\u001b[1;33m\n",
       "\u001b[0m    \u001b[0munits\u001b[0m\u001b[1;33m=\u001b[0m\u001b[1;32mNone\u001b[0m\u001b[1;33m,\u001b[0m\u001b[1;33m\n",
       "\u001b[0m    \u001b[0mseed\u001b[0m\u001b[1;33m=\u001b[0m\u001b[1;32mNone\u001b[0m\u001b[1;33m,\u001b[0m\u001b[1;33m\n",
       "\u001b[0m    \u001b[0morder\u001b[0m\u001b[1;33m=\u001b[0m\u001b[1;36m1\u001b[0m\u001b[1;33m,\u001b[0m\u001b[1;33m\n",
       "\u001b[0m    \u001b[0mlogistic\u001b[0m\u001b[1;33m=\u001b[0m\u001b[1;32mFalse\u001b[0m\u001b[1;33m,\u001b[0m\u001b[1;33m\n",
       "\u001b[0m    \u001b[0mlowess\u001b[0m\u001b[1;33m=\u001b[0m\u001b[1;32mFalse\u001b[0m\u001b[1;33m,\u001b[0m\u001b[1;33m\n",
       "\u001b[0m    \u001b[0mrobust\u001b[0m\u001b[1;33m=\u001b[0m\u001b[1;32mFalse\u001b[0m\u001b[1;33m,\u001b[0m\u001b[1;33m\n",
       "\u001b[0m    \u001b[0mlogx\u001b[0m\u001b[1;33m=\u001b[0m\u001b[1;32mFalse\u001b[0m\u001b[1;33m,\u001b[0m\u001b[1;33m\n",
       "\u001b[0m    \u001b[0mx_partial\u001b[0m\u001b[1;33m=\u001b[0m\u001b[1;32mNone\u001b[0m\u001b[1;33m,\u001b[0m\u001b[1;33m\n",
       "\u001b[0m    \u001b[0my_partial\u001b[0m\u001b[1;33m=\u001b[0m\u001b[1;32mNone\u001b[0m\u001b[1;33m,\u001b[0m\u001b[1;33m\n",
       "\u001b[0m    \u001b[0mtruncate\u001b[0m\u001b[1;33m=\u001b[0m\u001b[1;32mTrue\u001b[0m\u001b[1;33m,\u001b[0m\u001b[1;33m\n",
       "\u001b[0m    \u001b[0mdropna\u001b[0m\u001b[1;33m=\u001b[0m\u001b[1;32mTrue\u001b[0m\u001b[1;33m,\u001b[0m\u001b[1;33m\n",
       "\u001b[0m    \u001b[0mx_jitter\u001b[0m\u001b[1;33m=\u001b[0m\u001b[1;32mNone\u001b[0m\u001b[1;33m,\u001b[0m\u001b[1;33m\n",
       "\u001b[0m    \u001b[0my_jitter\u001b[0m\u001b[1;33m=\u001b[0m\u001b[1;32mNone\u001b[0m\u001b[1;33m,\u001b[0m\u001b[1;33m\n",
       "\u001b[0m    \u001b[0mlabel\u001b[0m\u001b[1;33m=\u001b[0m\u001b[1;32mNone\u001b[0m\u001b[1;33m,\u001b[0m\u001b[1;33m\n",
       "\u001b[0m    \u001b[0mcolor\u001b[0m\u001b[1;33m=\u001b[0m\u001b[1;32mNone\u001b[0m\u001b[1;33m,\u001b[0m\u001b[1;33m\n",
       "\u001b[0m    \u001b[0mmarker\u001b[0m\u001b[1;33m=\u001b[0m\u001b[1;34m'o'\u001b[0m\u001b[1;33m,\u001b[0m\u001b[1;33m\n",
       "\u001b[0m    \u001b[0mscatter_kws\u001b[0m\u001b[1;33m=\u001b[0m\u001b[1;32mNone\u001b[0m\u001b[1;33m,\u001b[0m\u001b[1;33m\n",
       "\u001b[0m    \u001b[0mline_kws\u001b[0m\u001b[1;33m=\u001b[0m\u001b[1;32mNone\u001b[0m\u001b[1;33m,\u001b[0m\u001b[1;33m\n",
       "\u001b[0m    \u001b[0max\u001b[0m\u001b[1;33m=\u001b[0m\u001b[1;32mNone\u001b[0m\u001b[1;33m,\u001b[0m\u001b[1;33m\n",
       "\u001b[0m\u001b[1;33m)\u001b[0m\u001b[1;33m\u001b[0m\u001b[1;33m\u001b[0m\u001b[0m\n",
       "\u001b[1;31mDocstring:\u001b[0m\n",
       "Plot data and a linear regression model fit.\n",
       "\n",
       "There are a number of mutually exclusive options for estimating the\n",
       "regression model. See the :ref:`tutorial <regression_tutorial>` for more\n",
       "information.    \n",
       "\n",
       "Parameters\n",
       "----------\n",
       "x, y: string, series, or vector array\n",
       "    Input variables. If strings, these should correspond with column names\n",
       "    in ``data``. When pandas objects are used, axes will be labeled with\n",
       "    the series name.\n",
       "data : DataFrame\n",
       "    Tidy (\"long-form\") dataframe where each column is a variable and each\n",
       "    row is an observation.    \n",
       "x_estimator : callable that maps vector -> scalar, optional\n",
       "    Apply this function to each unique value of ``x`` and plot the\n",
       "    resulting estimate. This is useful when ``x`` is a discrete variable.\n",
       "    If ``x_ci`` is given, this estimate will be bootstrapped and a\n",
       "    confidence interval will be drawn.    \n",
       "x_bins : int or vector, optional\n",
       "    Bin the ``x`` variable into discrete bins and then estimate the central\n",
       "    tendency and a confidence interval. This binning only influences how\n",
       "    the scatterplot is drawn; the regression is still fit to the original\n",
       "    data.  This parameter is interpreted either as the number of\n",
       "    evenly-sized (not necessary spaced) bins or the positions of the bin\n",
       "    centers. When this parameter is used, it implies that the default of\n",
       "    ``x_estimator`` is ``numpy.mean``.    \n",
       "x_ci : \"ci\", \"sd\", int in [0, 100] or None, optional\n",
       "    Size of the confidence interval used when plotting a central tendency\n",
       "    for discrete values of ``x``. If ``\"ci\"``, defer to the value of the\n",
       "    ``ci`` parameter. If ``\"sd\"``, skip bootstrapping and show the\n",
       "    standard deviation of the observations in each bin.    \n",
       "scatter : bool, optional\n",
       "    If ``True``, draw a scatterplot with the underlying observations (or\n",
       "    the ``x_estimator`` values).    \n",
       "fit_reg : bool, optional\n",
       "    If ``True``, estimate and plot a regression model relating the ``x``\n",
       "    and ``y`` variables.    \n",
       "ci : int in [0, 100] or None, optional\n",
       "    Size of the confidence interval for the regression estimate. This will\n",
       "    be drawn using translucent bands around the regression line. The\n",
       "    confidence interval is estimated using a bootstrap; for large\n",
       "    datasets, it may be advisable to avoid that computation by setting\n",
       "    this parameter to None.    \n",
       "n_boot : int, optional\n",
       "    Number of bootstrap resamples used to estimate the ``ci``. The default\n",
       "    value attempts to balance time and stability; you may want to increase\n",
       "    this value for \"final\" versions of plots.    \n",
       "units : variable name in ``data``, optional\n",
       "    If the ``x`` and ``y`` observations are nested within sampling units,\n",
       "    those can be specified here. This will be taken into account when\n",
       "    computing the confidence intervals by performing a multilevel bootstrap\n",
       "    that resamples both units and observations (within unit). This does not\n",
       "    otherwise influence how the regression is estimated or drawn.    \n",
       "seed : int, numpy.random.Generator, or numpy.random.RandomState, optional\n",
       "    Seed or random number generator for reproducible bootstrapping.    \n",
       "order : int, optional\n",
       "    If ``order`` is greater than 1, use ``numpy.polyfit`` to estimate a\n",
       "    polynomial regression.    \n",
       "logistic : bool, optional\n",
       "    If ``True``, assume that ``y`` is a binary variable and use\n",
       "    ``statsmodels`` to estimate a logistic regression model. Note that this\n",
       "    is substantially more computationally intensive than linear regression,\n",
       "    so you may wish to decrease the number of bootstrap resamples\n",
       "    (``n_boot``) or set ``ci`` to None.    \n",
       "lowess : bool, optional\n",
       "    If ``True``, use ``statsmodels`` to estimate a nonparametric lowess\n",
       "    model (locally weighted linear regression). Note that confidence\n",
       "    intervals cannot currently be drawn for this kind of model.    \n",
       "robust : bool, optional\n",
       "    If ``True``, use ``statsmodels`` to estimate a robust regression. This\n",
       "    will de-weight outliers. Note that this is substantially more\n",
       "    computationally intensive than standard linear regression, so you may\n",
       "    wish to decrease the number of bootstrap resamples (``n_boot``) or set\n",
       "    ``ci`` to None.    \n",
       "logx : bool, optional\n",
       "    If ``True``, estimate a linear regression of the form y ~ log(x), but\n",
       "    plot the scatterplot and regression model in the input space. Note that\n",
       "    ``x`` must be positive for this to work.    \n",
       "{x,y}_partial : strings in ``data`` or matrices\n",
       "    Confounding variables to regress out of the ``x`` or ``y`` variables\n",
       "    before plotting.    \n",
       "truncate : bool, optional\n",
       "    If ``True``, the regression line is bounded by the data limits. If\n",
       "    ``False``, it extends to the ``x`` axis limits.\n",
       "\n",
       "{x,y}_jitter : floats, optional\n",
       "    Add uniform random noise of this size to either the ``x`` or ``y``\n",
       "    variables. The noise is added to a copy of the data after fitting the\n",
       "    regression, and only influences the look of the scatterplot. This can\n",
       "    be helpful when plotting variables that take discrete values.    \n",
       "label : string\n",
       "    Label to apply to either the scatterplot or regression line (if\n",
       "    ``scatter`` is ``False``) for use in a legend.\n",
       "color : matplotlib color\n",
       "    Color to apply to all plot elements; will be superseded by colors\n",
       "    passed in ``scatter_kws`` or ``line_kws``.\n",
       "marker : matplotlib marker code\n",
       "    Marker to use for the scatterplot glyphs.\n",
       "{scatter,line}_kws : dictionaries\n",
       "    Additional keyword arguments to pass to ``plt.scatter`` and\n",
       "    ``plt.plot``.    \n",
       "ax : matplotlib Axes, optional\n",
       "    Axes object to draw the plot onto, otherwise uses the current Axes.\n",
       "\n",
       "Returns\n",
       "-------\n",
       "ax : matplotlib Axes\n",
       "    The Axes object containing the plot.\n",
       "\n",
       "See Also\n",
       "--------\n",
       "lmplot : Combine :func:`regplot` and :class:`FacetGrid` to plot multiple\n",
       "         linear relationships in a dataset.\n",
       "jointplot : Combine :func:`regplot` and :class:`JointGrid` (when used with\n",
       "            ``kind=\"reg\"``).\n",
       "pairplot : Combine :func:`regplot` and :class:`PairGrid` (when used with\n",
       "           ``kind=\"reg\"``).\n",
       "residplot : Plot the residuals of a linear regression model.\n",
       "\n",
       "Notes\n",
       "-----\n",
       "\n",
       "The :func:`regplot` and :func:`lmplot` functions are closely related, but\n",
       "the former is an axes-level function while the latter is a figure-level\n",
       "function that combines :func:`regplot` and :class:`FacetGrid`.    \n",
       "\n",
       "\n",
       "It's also easy to combine :func:`regplot` and :class:`JointGrid` or\n",
       ":class:`PairGrid` through the :func:`jointplot` and :func:`pairplot`\n",
       "functions, although these do not directly accept all of :func:`regplot`'s\n",
       "parameters.\n",
       "\n",
       "Examples\n",
       "--------\n",
       "\n",
       ".. include:: ../docstrings/regplot.rst\n",
       "\u001b[1;31mFile:\u001b[0m      c:\\users\\techie3\\anaconda3\\lib\\site-packages\\seaborn\\regression.py\n",
       "\u001b[1;31mType:\u001b[0m      function"
      ]
     },
     "metadata": {},
     "output_type": "display_data"
    }
   ],
   "source": [
    "sns.regplot?"
   ]
  },
  {
   "cell_type": "code",
   "execution_count": 53,
   "id": "6765fe11-0ccf-4e34-96f6-3675a84f615b",
   "metadata": {},
   "outputs": [
    {
     "data": {
      "image/png": "[encoded data removed]",
      "text/plain": [
       "<Figure size 640x480 with 1 Axes>"
      ]
     },
     "metadata": {},
     "output_type": "display_data"
    }
   ],
   "source": [
    "axes = sns.regplot(x=king_county_df.Sequela,y=king_county_df.price, line_kws={\"color\":\"red\"})"
   ]
  },
  {
   "cell_type": "code",
   "execution_count": null,
   "id": "3d2bd2dc-6fa0-4b6b-8ca4-66bd9c921202",
   "metadata": {},
   "outputs": [],
   "source": []
  }
 ],
 "metadata": {
  "kernelspec": {
   "display_name": "Python [conda env:base] *",
   "language": "python",
   "name": "conda-base-py"
  },
  "language_info": {
   "codemirror_mode": {
    "name": "ipython",
    "version": 3
   },
   "file_extension": ".py",
   "mimetype": "text/x-python",
   "name": "python",
   "nbconvert_exporter": "python",
   "pygments_lexer": "ipython3",
   "version": "3.13.5"
  }
 },
 "nbformat": 4,
 "nbformat_minor": 5
}
