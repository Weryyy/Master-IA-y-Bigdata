{
 "cells": [
  {
   "cell_type": "markdown",
   "id": "24ccd45c-f156-4f17-8203-62cfd2dea1ee",
   "metadata": {},
   "source": [
    "# 8.- Cadenas"
   ]
  },
  {
   "cell_type": "markdown",
   "id": "0a48696e-f0e1-4ab7-9b69-03611bc76ff2",
   "metadata": {},
   "source": [
    "## 8.2.- Dando formato a Cadenas"
   ]
  },
  {
   "cell_type": "markdown",
   "id": "7af77bbe-9069-4c0e-a55a-566d5da7c5b4",
   "metadata": {},
   "source": [
    "### 8.2.1.- Tipos de Presentación"
   ]
  },
  {
   "cell_type": "markdown",
   "id": "2a458ccf-454b-4b93-b773-4749178e818c",
   "metadata": {},
   "source": [
    "Dale formato a 3.141592 a 3 decimales como cadena usando f'"
   ]
  },
  {
   "cell_type": "code",
   "execution_count": 2,
   "id": "c47ac784-6fe5-4a24-abdc-3d0b2c537233",
   "metadata": {},
   "outputs": [
    {
     "data": {
      "text/plain": [
       "'3.142'"
      ]
     },
     "execution_count": 2,
     "metadata": {},
     "output_type": "execute_result"
    }
   ],
   "source": [
    "f'{3.141592:0.3f}' # aqui el segundo numero despues de los dos puntos sirve para determinar el numero de decimales"
   ]
  },
  {
   "cell_type": "markdown",
   "id": "68e1738d-d9be-4d08-b4ea-b764dc3a0f41",
   "metadata": {},
   "source": [
    "\n",
    "Enteros, con el tipo de presentación d"
   ]
  },
  {
   "cell_type": "code",
   "execution_count": 5,
   "id": "93f73be0-08a4-40e6-bd6a-9a2ccd15f2e0",
   "metadata": {},
   "outputs": [
    {
     "ename": "ValueError",
     "evalue": "Invalid format specifier 'd?' for object of type 'int'",
     "output_type": "error",
     "traceback": [
      "\u001b[1;31m---------------------------------------------------------------------------\u001b[0m",
      "\u001b[1;31mValueError\u001b[0m                                Traceback (most recent call last)",
      "Cell \u001b[1;32mIn[5], line 1\u001b[0m\n\u001b[1;32m----> 1\u001b[0m \u001b[38;5;124mf\u001b[39m\u001b[38;5;124m'\u001b[39m\u001b[38;5;132;01m{\u001b[39;00m\u001b[38;5;241m150\u001b[39m\u001b[38;5;132;01m:\u001b[39;00m\u001b[38;5;124md?\u001b[39m\u001b[38;5;132;01m}\u001b[39;00m\u001b[38;5;124m'\u001b[39m\n",
      "\u001b[1;31mValueError\u001b[0m: Invalid format specifier 'd?' for object of type 'int'"
     ]
    }
   ],
   "source": [
    "f'{150:d}' # d de Decimal"
   ]
  },
  {
   "cell_type": "markdown",
   "id": "74c5bcd8-f603-4aff-8c70-e41ba6c042d0",
   "metadata": {},
   "source": [
    "Caracteres con el tipo de presentación c"
   ]
  },
  {
   "cell_type": "code",
   "execution_count": 7,
   "id": "ee39ec1f-dd90-457c-bcd1-0f6aec52f7ef",
   "metadata": {},
   "outputs": [
    {
     "data": {
      "text/plain": [
       "'F'"
      ]
     },
     "execution_count": 7,
     "metadata": {},
     "output_type": "execute_result"
    }
   ],
   "source": [
    "f'{70:c}' # Accede a la tabla ascii y returnea el que esta en la posicion del primer parametro que pongas, en este caso 70"
   ]
  },
  {
   "cell_type": "markdown",
   "id": "5c625417-0ff1-456c-ba13-53a390e8223c",
   "metadata": {},
   "source": [
    "Cadenas (strings) con el tipo de presentación s"
   ]
  },
  {
   "cell_type": "code",
   "execution_count": 12,
   "id": "174fb779-d902-4c17-a67a-13c768d26265",
   "metadata": {},
   "outputs": [
    {
     "data": {
      "text/plain": [
       "'del uno al diez que tan tonto eres: 10'"
      ]
     },
     "execution_count": 12,
     "metadata": {},
     "output_type": "execute_result"
    }
   ],
   "source": [
    "f'{\"del uno al diez que tan tonto eres: \":s}{10}' # s de String"
   ]
  },
  {
   "cell_type": "markdown",
   "id": "e55fa6e7-4bc0-4304-9b82-f26dffd0feb0",
   "metadata": {},
   "source": [
    "#### Por tu cuenta\n",
    "\n",
    "Usa el tipo c para mostrar los caracteres que pertenecen a 58,45,41"
   ]
  },
  {
   "cell_type": "code",
   "execution_count": 13,
   "id": "c30dd78d-a42f-4111-8c7e-9e40e8b6c402",
   "metadata": {},
   "outputs": [
    {
     "data": {
      "text/plain": [
       "':-)'"
      ]
     },
     "execution_count": 13,
     "metadata": {},
     "output_type": "execute_result"
    }
   ],
   "source": [
    "f'{58:c}{45:c}{41:c}'"
   ]
  },
  {
   "cell_type": "code",
   "execution_count": 17,
   "id": "5b0384cb-090f-4305-af82-5dd356e7b058",
   "metadata": {},
   "outputs": [
    {
     "data": {
      "text/plain": [
       "':-)'"
      ]
     },
     "execution_count": 17,
     "metadata": {},
     "output_type": "execute_result"
    }
   ],
   "source": [
    "x =\"\".join(f'{i:c}' for i in [58,45,41]) # \"\" = cadena vacia\n",
    "x"
   ]
  },
  {
   "cell_type": "markdown",
   "id": "a650b097-f8ff-40ca-82e2-d31edd0bbdf5",
   "metadata": {},
   "source": [
    "### 8.2.2.- Anchos y alineación"
   ]
  },
  {
   "cell_type": "markdown",
   "id": "83a9d37d-8e88-446c-b46a-8a5202b39939",
   "metadata": {},
   "source": [
    "En una cadena f' puedes especificar la alineación y la cantidad de espacios al inicio y al final"
   ]
  },
  {
   "cell_type": "code",
   "execution_count": 18,
   "id": "913a1c8c-61ea-4ff3-8ea9-f07e02c25a85",
   "metadata": {},
   "outputs": [
    {
     "data": {
      "text/plain": [
       "'[       314]'"
      ]
     },
     "execution_count": 18,
     "metadata": {},
     "output_type": "execute_result"
    }
   ],
   "source": [
    "f'[{314:10d}]' # El 10 son espacion (antes del número)"
   ]
  },
  {
   "cell_type": "code",
   "execution_count": 20,
   "id": "44a6f0c8-b83c-47ef-a535-94138e443205",
   "metadata": {},
   "outputs": [
    {
     "data": {
      "text/plain": [
       "'[Alineacion            314]'"
      ]
     },
     "execution_count": 20,
     "metadata": {},
     "output_type": "execute_result"
    }
   ],
   "source": [
    "f'[{\"Alineacion\":15s}{314:10d}]' #15 espacios // 10 espacios va a ocupar"
   ]
  },
  {
   "cell_type": "code",
   "execution_count": 21,
   "id": "0ab306c4-75ec-4586-ac09-a117fea3a899",
   "metadata": {},
   "outputs": [
    {
     "data": {
      "text/plain": [
       "'Alineacion     '"
      ]
     },
     "execution_count": 21,
     "metadata": {},
     "output_type": "execute_result"
    }
   ],
   "source": [
    "f'{\"Alineacion\":15s}'"
   ]
  },
  {
   "cell_type": "code",
   "execution_count": 23,
   "id": "4e706515-938e-4fd2-8639-4fdd1fbb0d8f",
   "metadata": {},
   "outputs": [
    {
     "data": {
      "text/plain": [
       "'  3.140000'"
      ]
     },
     "execution_count": 23,
     "metadata": {},
     "output_type": "execute_result"
    }
   ],
   "source": [
    "f'{3.14:10f}' # f de float(tipo dentro del primer argumento proporcionado)"
   ]
  },
  {
   "cell_type": "code",
   "execution_count": 27,
   "id": "36ed4215-16da-4708-9b57-4d795fbc1749",
   "metadata": {},
   "outputs": [
    {
     "data": {
      "text/plain": [
       "'[     3.140]'"
      ]
     },
     "execution_count": 27,
     "metadata": {},
     "output_type": "execute_result"
    }
   ],
   "source": [
    "f'[{3.14:10.3f}]' # 3.14 valor numerico, 10 longitud de campo, 3 nº decimales que permite el float, f tipo de dato"
   ]
  },
  {
   "cell_type": "code",
   "execution_count": null,
   "id": "dfcc37b9-cf77-41ac-af98-3e50eac54112",
   "metadata": {},
   "outputs": [],
   "source": []
  },
  {
   "cell_type": "markdown",
   "id": "4e22e800-b810-46ed-84ea-6749ed492332",
   "metadata": {},
   "source": [
    "Pero además de especificar la longitud del campo y la cantidad de decimales, también puedes alinear a la cadena con los símbolos > y <."
   ]
  },
  {
   "cell_type": "code",
   "execution_count": 29,
   "id": "b614baf4-7774-43cc-a54f-92d15e03cb7f",
   "metadata": {},
   "outputs": [
    {
     "data": {
      "text/plain": [
       "'[Alineacion  3.140000  ]'"
      ]
     },
     "execution_count": 29,
     "metadata": {},
     "output_type": "execute_result"
    }
   ],
   "source": [
    "f'[{\"Alineacion\":12}{3.14:<10f}]' # el simbolo < significa que se alinea a la izquierda"
   ]
  },
  {
   "cell_type": "code",
   "execution_count": 31,
   "id": "85ad0a07-192f-4f49-920d-49c2fee4dc0a",
   "metadata": {},
   "outputs": [
    {
     "data": {
      "text/plain": [
       "'[  Alineacion]'"
      ]
     },
     "execution_count": 31,
     "metadata": {},
     "output_type": "execute_result"
    }
   ],
   "source": [
    "f'[{\"Alineacion\":>12}]' # para textos se usa el inverso"
   ]
  },
  {
   "cell_type": "markdown",
   "id": "a7caa683-95b6-411c-9d7b-87a193001967",
   "metadata": {},
   "source": [
    "Y para centrar, tanto el texto como los valores"
   ]
  },
  {
   "cell_type": "code",
   "execution_count": 35,
   "id": "b8de6f4f-af25-44fe-95df-298937ae0171",
   "metadata": {},
   "outputs": [
    {
     "data": {
      "text/plain": [
       "'[  Daniel  ]'"
      ]
     },
     "execution_count": 35,
     "metadata": {},
     "output_type": "execute_result"
    }
   ],
   "source": [
    "f'[{\"Daniel\":^10}]'"
   ]
  },
  {
   "cell_type": "code",
   "execution_count": 36,
   "id": "4dd550df-a874-4969-b99e-49280cafc209",
   "metadata": {},
   "outputs": [
    {
     "data": {
      "text/plain": [
       "'[ 3.140000 ]'"
      ]
     },
     "execution_count": 36,
     "metadata": {},
     "output_type": "execute_result"
    }
   ],
   "source": [
    "f'[{3.14:^10f}]'"
   ]
  },
  {
   "cell_type": "code",
   "execution_count": null,
   "id": "e93a5ccb-efb8-478f-adbf-0a102d38d711",
   "metadata": {},
   "outputs": [],
   "source": []
  },
  {
   "cell_type": "markdown",
   "id": "3ba44945-c022-42a6-b133-d6372acbc34d",
   "metadata": {},
   "source": [
    "#### Por tu cuenta\n",
    "\n",
    "Muestra el nombre \"Daniel\" en 3 filas diferentes alineados a la derecha, centro e izquierda en un campo de 10 caracteres. Encierra cada fila de resultado en brackets"
   ]
  },
  {
   "cell_type": "code",
   "execution_count": 51,
   "id": "ff33c3f4-25c5-4716-a631-371cde795344",
   "metadata": {},
   "outputs": [
    {
     "name": "stdout",
     "output_type": "stream",
     "text": [
      "[Daniel              \n",
      "       Daniel       \n",
      "              Daniel]\n"
     ]
    }
   ],
   "source": [
    "print(f'[{\"Daniel\":20}\\n{\"Daniel\":^20}\\n{\"Daniel\":>20}]')  "
   ]
  },
  {
   "cell_type": "markdown",
   "id": "c896e587-4b4c-438a-9725-0e35e31b6e20",
   "metadata": {},
   "source": [
    "### 8.2.3.- Formato Númerico"
   ]
  },
  {
   "cell_type": "markdown",
   "id": "6feaf495-5336-4db5-a2bd-64c665ab5648",
   "metadata": {},
   "source": [
    "En el caso particular de cadenas de números, si requieres mostrar el signo. Puedes agregarlo en\n",
    "el f-string"
   ]
  },
  {
   "cell_type": "code",
   "execution_count": 44,
   "id": "2edf017f-00ca-4401-98b6-0ecb0ce19bd4",
   "metadata": {},
   "outputs": [
    {
     "data": {
      "text/plain": [
       "'[      +150]'"
      ]
     },
     "execution_count": 44,
     "metadata": {},
     "output_type": "execute_result"
    }
   ],
   "source": [
    "f'[{150:+10d}]' # el + le indica al programa a poner el signo"
   ]
  },
  {
   "cell_type": "code",
   "execution_count": 45,
   "id": "76f90f0d-afae-4ccd-a087-499ad7fda1cb",
   "metadata": {},
   "outputs": [
    {
     "data": {
      "text/plain": [
       "'[       150]'"
      ]
     },
     "execution_count": 45,
     "metadata": {},
     "output_type": "execute_result"
    }
   ],
   "source": [
    "f'[{150:-10d}]'"
   ]
  },
  {
   "cell_type": "markdown",
   "id": "9d42e4f7-d59a-4f77-8689-898e4e18677e",
   "metadata": {},
   "source": [
    "Para agregar ceros en los espacios en blanco."
   ]
  },
  {
   "cell_type": "code",
   "execution_count": 47,
   "id": "7f70bec3-c2ed-4116-a529-fffada5e9734",
   "metadata": {},
   "outputs": [
    {
     "data": {
      "text/plain": [
       "'[0000000150]'"
      ]
     },
     "execution_count": 47,
     "metadata": {},
     "output_type": "execute_result"
    }
   ],
   "source": [
    "f'[{150:010d}]' 3 # poniendo delante del segundo argumento un 0"
   ]
  },
  {
   "cell_type": "markdown",
   "id": "fa2db479-b131-4235-aa43-4947a5ebab45",
   "metadata": {},
   "source": [
    "Regularmente a los números positivos no se les agrega el signo +. Pero, si requieres dejar el espacio en blanco para este tipo de números, utiliza un código como el siguiente"
   ]
  },
  {
   "cell_type": "code",
   "execution_count": 48,
   "id": "20155918-329f-411d-a795-17c1a7d7d762",
   "metadata": {},
   "outputs": [
    {
     "name": "stdout",
     "output_type": "stream",
     "text": [
      "27\n",
      " 27\n"
     ]
    }
   ],
   "source": [
    "print(f'{27:d}\\n{27: d}')"
   ]
  },
  {
   "cell_type": "code",
   "execution_count": 54,
   "id": "e175f898-9300-4695-bde6-7b264cb0f9b0",
   "metadata": {},
   "outputs": [
    {
     "data": {
      "text/plain": [
       "'546,871,314,176'"
      ]
     },
     "execution_count": 54,
     "metadata": {},
     "output_type": "execute_result"
    }
   ],
   "source": [
    "f'{546871314176:,d}' # para ver el numero por comas(visual)"
   ]
  },
  {
   "cell_type": "code",
   "execution_count": 55,
   "id": "e5da6324-0483-45b7-b7eb-682dadeeaef9",
   "metadata": {},
   "outputs": [
    {
     "data": {
      "text/plain": [
       "'13,213,546,487.313'"
      ]
     },
     "execution_count": 55,
     "metadata": {},
     "output_type": "execute_result"
    }
   ],
   "source": [
    "f'{13213546487.313467:,.3f}' #para floats poner la coma y punto"
   ]
  },
  {
   "cell_type": "markdown",
   "id": "180577e9-163d-4512-b65d-cee3056ed5ed",
   "metadata": {},
   "source": [
    "#### Por tu cuenta\n",
    "\n",
    "Imprime los valores 11483.528 y -4581.4413 cada uno precedido por su signo, en campos de 10 caracteres con separadores de miles, y su punto decimal alineado a 2 puntos de precisión."
   ]
  },
  {
   "cell_type": "code",
   "execution_count": 61,
   "id": "09a0de50-d0d6-4a53-824e-fccf55f04a74",
   "metadata": {},
   "outputs": [
    {
     "name": "stdout",
     "output_type": "stream",
     "text": [
      "+11,483.53\n",
      " -4,581.44\n"
     ]
    }
   ],
   "source": [
    "print(f'{11483.528:+10,.2f}\\n{-4581.4413:+10,.2f}')"
   ]
  },
  {
   "cell_type": "markdown",
   "id": "d223ecab-5e4a-4b1b-b4a1-f365c346ce3c",
   "metadata": {},
   "source": [
    "### 8.2.5.- Concatenar Cadenas que se repiten"
   ]
  },
  {
   "cell_type": "markdown",
   "id": "f645859b-1241-4118-b850-540b65f61a84",
   "metadata": {},
   "source": [
    "Anteriormente utilizaste el símbolo + para concatenar cadenas. Además de esta operación puedes\n",
    "repetir una misma cadena"
   ]
  },
  {
   "cell_type": "code",
   "execution_count": 69,
   "id": "0841aa9d-465d-4367-be3a-c128ce558fc9",
   "metadata": {},
   "outputs": [],
   "source": [
    "s1=\"Hola\""
   ]
  },
  {
   "cell_type": "code",
   "execution_count": 70,
   "id": "f1c932bd-d425-46a6-88d2-fd88a03d4136",
   "metadata": {},
   "outputs": [],
   "source": [
    "s2=\"Mundo\""
   ]
  },
  {
   "cell_type": "code",
   "execution_count": 71,
   "id": "ae53e8fe-4c48-4603-9a6e-965c046a84ac",
   "metadata": {},
   "outputs": [
    {
     "data": {
      "text/plain": [
       "'HolaMundo'"
      ]
     },
     "execution_count": 71,
     "metadata": {},
     "output_type": "execute_result"
    }
   ],
   "source": [
    "s1+s2"
   ]
  },
  {
   "cell_type": "code",
   "execution_count": 72,
   "id": "51e78738-c381-4c5f-8d16-963312087da4",
   "metadata": {},
   "outputs": [],
   "source": [
    "s1 += \" \" + s2"
   ]
  },
  {
   "cell_type": "code",
   "execution_count": 73,
   "id": "300d2fd1-448d-415b-8345-dc4a54e49c86",
   "metadata": {},
   "outputs": [
    {
     "data": {
      "text/plain": [
       "'Hola Mundo'"
      ]
     },
     "execution_count": 73,
     "metadata": {},
     "output_type": "execute_result"
    }
   ],
   "source": [
    "s1"
   ]
  },
  {
   "cell_type": "markdown",
   "id": "82e2893c-bd47-4680-8ee2-1ae8b31d5d90",
   "metadata": {},
   "source": [
    "Si requieres repetir una cadena. "
   ]
  },
  {
   "cell_type": "code",
   "execution_count": null,
   "id": "5f8fc2a2-8dd4-4caf-afcf-66bd2d2ac439",
   "metadata": {},
   "outputs": [],
   "source": []
  },
  {
   "cell_type": "code",
   "execution_count": null,
   "id": "aa9c6e0e-3c4e-4737-99b2-e6af14286138",
   "metadata": {},
   "outputs": [],
   "source": []
  },
  {
   "cell_type": "code",
   "execution_count": null,
   "id": "5dff52f8-d80e-42ac-b858-256493776589",
   "metadata": {},
   "outputs": [],
   "source": []
  },
  {
   "cell_type": "markdown",
   "id": "219fe072-a45f-45ec-b73b-2f03c407bd4d",
   "metadata": {},
   "source": [
    "---"
   ]
  },
  {
   "cell_type": "markdown",
   "id": "46b2a44f-5db9-4063-b763-b5b8c32f0845",
   "metadata": {},
   "source": [
    "## 8.3.- Otras opciones para las cadenas"
   ]
  },
  {
   "cell_type": "markdown",
   "id": "60d85acd-aa22-4665-9cf6-347af4c84b17",
   "metadata": {},
   "source": [
    "### 8.3.1 - Quitar espacios en blanco"
   ]
  },
  {
   "cell_type": "markdown",
   "id": "4a7f5a74-cb0b-4910-b408-0f012dc8be73",
   "metadata": {},
   "source": [
    "Observa el siguiente enunciado (cadena)\n",
    "\n",
    "enunciado = '\\t \\n me gusta escuchar música alegre \\t\\t \\n'"
   ]
  },
  {
   "cell_type": "code",
   "execution_count": 74,
   "id": "9b1005fb-d548-472a-bacc-91c4e332c429",
   "metadata": {},
   "outputs": [],
   "source": [
    "enunciado = '\\t \\n me gusta escuchar música alegre \\t\\t \\n'"
   ]
  },
  {
   "cell_type": "code",
   "execution_count": 75,
   "id": "dba0c80f-fa7a-4a45-a28c-1be2f8b6c3e0",
   "metadata": {},
   "outputs": [
    {
     "data": {
      "text/plain": [
       "'\\t \\n me gusta escuchar música alegre \\t\\t \\n'"
      ]
     },
     "execution_count": 75,
     "metadata": {},
     "output_type": "execute_result"
    }
   ],
   "source": [
    "enunciado"
   ]
  },
  {
   "cell_type": "markdown",
   "id": "c8cfd7bd-2c06-4f72-9ee0-1cf687d06f99",
   "metadata": {},
   "source": [
    "Requieres eliminar todos los espacios en blanco, el método strip realiza esta tarea"
   ]
  },
  {
   "cell_type": "code",
   "execution_count": 76,
   "id": "3d983771-9fc9-45dd-8077-ff674937d7cf",
   "metadata": {},
   "outputs": [
    {
     "data": {
      "text/plain": [
       "'me gusta escuchar música alegre'"
      ]
     },
     "execution_count": 76,
     "metadata": {},
     "output_type": "execute_result"
    }
   ],
   "source": [
    "enunciado.strip()"
   ]
  },
  {
   "cell_type": "markdown",
   "id": "68f98056-6c4f-4a0e-9724-e3b3b65cde68",
   "metadata": {},
   "source": [
    "Para eliminar los espacios en blanco a la izquierda (inicio) de la cadena"
   ]
  },
  {
   "cell_type": "code",
   "execution_count": 77,
   "id": "22be046c-91d6-4f6b-bf52-010252631a86",
   "metadata": {},
   "outputs": [
    {
     "data": {
      "text/plain": [
       "'me gusta escuchar música alegre \\t\\t \\n'"
      ]
     },
     "execution_count": 77,
     "metadata": {},
     "output_type": "execute_result"
    }
   ],
   "source": [
    "enunciado.lstrip()"
   ]
  },
  {
   "cell_type": "markdown",
   "id": "d4532456-2734-4806-b25a-5b2f0dd3ccb5",
   "metadata": {},
   "source": [
    "O los espacios de la derecha (final) de la cadena."
   ]
  },
  {
   "cell_type": "code",
   "execution_count": 78,
   "id": "3d32627f-f6a8-481d-ae69-7ada732e4261",
   "metadata": {},
   "outputs": [
    {
     "data": {
      "text/plain": [
       "'\\t \\n me gusta escuchar música alegre'"
      ]
     },
     "execution_count": 78,
     "metadata": {},
     "output_type": "execute_result"
    }
   ],
   "source": [
    "enunciado.rstrip()"
   ]
  },
  {
   "cell_type": "markdown",
   "id": "f272c64d-68b0-4d29-97e1-e990f788e9c2",
   "metadata": {},
   "source": [
    "#### Por tu cuenta\n",
    "\n",
    "Usa los métodos en esta sección para limpiar la siguiente oración\n",
    "\n",
    "name = \"                          Clark Kent                                          \""
   ]
  },
  {
   "cell_type": "code",
   "execution_count": 80,
   "id": "f5b08a9c-0d14-4e8f-9620-154d810049a7",
   "metadata": {},
   "outputs": [
    {
     "data": {
      "text/plain": [
       "'Clark Kent'"
      ]
     },
     "execution_count": 80,
     "metadata": {},
     "output_type": "execute_result"
    }
   ],
   "source": [
    "name = \"            Clark Kent \"\n",
    "name.strip()"
   ]
  },
  {
   "cell_type": "markdown",
   "id": "5c1d2655-f828-4305-9920-bcefa7e95963",
   "metadata": {},
   "source": [
    "### 8.3.2 - Mayusculas y Minusculas"
   ]
  },
  {
   "cell_type": "markdown",
   "id": "32fbe5c8-a313-4485-a93d-825f28b7991f",
   "metadata": {},
   "source": [
    "Usa el método capitalize para convertir esta oración a mayusculas\n",
    "\n",
    "me gusta eschuchar música alegre"
   ]
  },
  {
   "cell_type": "code",
   "execution_count": 81,
   "id": "bca4b7f1-fd58-4240-a73f-faba7817e418",
   "metadata": {},
   "outputs": [
    {
     "data": {
      "text/plain": [
       "'Me gusta eschuchar música alegre'"
      ]
     },
     "execution_count": 81,
     "metadata": {},
     "output_type": "execute_result"
    }
   ],
   "source": [
    "\"me gusta eschuchar música alegre\".capitalize()"
   ]
  },
  {
   "cell_type": "markdown",
   "id": "cd49c72e-5a9b-4a1c-80aa-5a474f0d1dbd",
   "metadata": {},
   "source": [
    "Usa el metodo Title para ponerle mayuscula a cada letra de la oración\n",
    "\n",
    "me gusta eschuchar música alegre. bailemos"
   ]
  },
  {
   "cell_type": "code",
   "execution_count": 82,
   "id": "3b750c53-4452-4d0f-9299-c5b37b7439c6",
   "metadata": {},
   "outputs": [
    {
     "data": {
      "text/plain": [
       "'Me Gusta Eschuchar Música Alegre'"
      ]
     },
     "execution_count": 82,
     "metadata": {},
     "output_type": "execute_result"
    }
   ],
   "source": [
    "\"me gusta eschuchar música alegre\".title()"
   ]
  },
  {
   "cell_type": "markdown",
   "id": "4b9aac30-53cf-45b2-bf63-7a1a1e6ca895",
   "metadata": {},
   "source": [
    "### 8.3.3 - Operadores de Comparación"
   ]
  },
  {
   "cell_type": "markdown",
   "id": "c89b9d9d-5e14-4f91-8108-18cfa8b3a1e0",
   "metadata": {},
   "source": [
    "Además de dar formato a las cadenas, Python permite compararlas. Esto se realiza con los valores numéricos que tiene cada carácter. Aquí algunos ejemplos."
   ]
  },
  {
   "cell_type": "code",
   "execution_count": 86,
   "id": "09f11719-8d6d-4dfd-879a-f55f4960a8b3",
   "metadata": {},
   "outputs": [
    {
     "data": {
      "text/plain": [
       "False"
      ]
     },
     "execution_count": 86,
     "metadata": {},
     "output_type": "execute_result"
    }
   ],
   "source": [
    "\"Python\" == \"python\" "
   ]
  },
  {
   "cell_type": "code",
   "execution_count": 85,
   "id": "169f7f2e-3438-4bc8-b07f-f05ed8ddd203",
   "metadata": {},
   "outputs": [
    {
     "data": {
      "text/plain": [
       "True"
      ]
     },
     "execution_count": 85,
     "metadata": {},
     "output_type": "execute_result"
    }
   ],
   "source": [
    "\"Python\" < \"python\" # van antes las mayus"
   ]
  },
  {
   "cell_type": "markdown",
   "id": "7ef0310a-acbe-4491-9df7-5fadbe1d8bc6",
   "metadata": {},
   "source": [
    "### 8.3.4 - Buscar Cadenas"
   ]
  },
  {
   "cell_type": "markdown",
   "id": "8006b899-deda-4471-b6ed-a08e5237489f",
   "metadata": {},
   "source": [
    "Para contar el número de veces que aparece un trozo de cadena (substring) en una cadena más\n",
    "grande, Python cuenta con el método count. Por ejemplo\n",
    "\n",
    "Cuenta quizas en \"quizás si quizás no quizás es una posibilidad\""
   ]
  },
  {
   "cell_type": "code",
   "execution_count": 87,
   "id": "5f0028df-9be6-4a7e-8d69-f278baf7238d",
   "metadata": {},
   "outputs": [
    {
     "data": {
      "text/plain": [
       "'quizás si quizás no quizás es una posibilidad'"
      ]
     },
     "execution_count": 87,
     "metadata": {},
     "output_type": "execute_result"
    }
   ],
   "source": [
    "enunciado = \"quizás si quizás no quizás es una posibilidad\" \n",
    "enunciado"
   ]
  },
  {
   "cell_type": "code",
   "execution_count": 88,
   "id": "cb3989e0-0c8f-48d7-8001-878c7045c196",
   "metadata": {},
   "outputs": [
    {
     "data": {
      "text/plain": [
       "3"
      ]
     },
     "execution_count": 88,
     "metadata": {},
     "output_type": "execute_result"
    }
   ],
   "source": [
    "enunciado.count(\"quizás\")"
   ]
  },
  {
   "cell_type": "markdown",
   "id": "0bdb2c9f-16d7-42dc-b461-eca10e3f977d",
   "metadata": {},
   "source": [
    "Si añades un segundo argumento, éste indica el índice de inicio de la búsqueda (recuerda que los\n",
    "índices inician en 0)."
   ]
  },
  {
   "cell_type": "code",
   "execution_count": 90,
   "id": "cc71a3ce-13e3-47cc-afc2-6699198aab54",
   "metadata": {},
   "outputs": [
    {
     "data": {
      "text/plain": [
       "2"
      ]
     },
     "execution_count": 90,
     "metadata": {},
     "output_type": "execute_result"
    }
   ],
   "source": [
    "enunciado.count(\"quizás\",8) #empieza a buscar desde el 8 o ignora los anteriores hasta el octavo caracter(por ejemplo el 8, es el argumento que pongas tu)"
   ]
  },
  {
   "cell_type": "code",
   "execution_count": 92,
   "id": "d3650657-46fb-4dcc-a892-f1b3bdbd201b",
   "metadata": {},
   "outputs": [
    {
     "data": {
      "text/plain": [
       "1"
      ]
     },
     "execution_count": 92,
     "metadata": {},
     "output_type": "execute_result"
    }
   ],
   "source": [
    "enunciado.count(\"quizás\",8,18) #tambien puedes poner un rango donde buscar"
   ]
  },
  {
   "cell_type": "markdown",
   "id": "2733cb44-23b8-47f3-908a-ed5765e34809",
   "metadata": {},
   "source": [
    "El método index busca una subcadena dentro de una cadena, e indica el primer índice en donde\n",
    "aparece. "
   ]
  },
  {
   "cell_type": "code",
   "execution_count": 95,
   "id": "d7e284a9-51cf-47b7-89a8-b108b1a8306e",
   "metadata": {},
   "outputs": [
    {
     "data": {
      "text/plain": [
       "7"
      ]
     },
     "execution_count": 95,
     "metadata": {},
     "output_type": "execute_result"
    }
   ],
   "source": [
    "enunciado.index(\"si\") # te enseña el indice o posicion donde aparece"
   ]
  },
  {
   "cell_type": "markdown",
   "id": "0a3e1ef2-49f8-41f6-b18e-31d224efd220",
   "metadata": {},
   "source": [
    "El método rindex realiza la misma tarea que index, pero inicia la búsqueda desde la parte final\n",
    "de la cadena. "
   ]
  },
  {
   "cell_type": "code",
   "execution_count": 96,
   "id": "53e83d79-553c-46f7-85a7-05ec85632cb1",
   "metadata": {},
   "outputs": [
    {
     "data": {
      "text/plain": [
       "36"
      ]
     },
     "execution_count": 96,
     "metadata": {},
     "output_type": "execute_result"
    }
   ],
   "source": [
    "enunciado.rindex(\"si\") # con la r empieza desde la derecha"
   ]
  },
  {
   "cell_type": "markdown",
   "id": "6b991c26-511b-463a-85e3-4af3a8f9b623",
   "metadata": {},
   "source": [
    "Si solo necesitas conocer si en la cadena se encuentra una subcadena, es posible utilizar los operadores in o not in"
   ]
  },
  {
   "cell_type": "code",
   "execution_count": 99,
   "id": "b7ba0e3f-f173-4a49-b65c-ae72bcc4cd98",
   "metadata": {},
   "outputs": [
    {
     "data": {
      "text/plain": [
       "True"
      ]
     },
     "execution_count": 99,
     "metadata": {},
     "output_type": "execute_result"
    }
   ],
   "source": [
    "\"si\" in enunciado"
   ]
  },
  {
   "cell_type": "markdown",
   "id": "e62993de-d384-4393-8774-9dd72c3355ae",
   "metadata": {},
   "source": [
    "Los métodos startswith y endswith regresan True si la cadena inicia o termina"
   ]
  },
  {
   "cell_type": "code",
   "execution_count": 102,
   "id": "628afeaa-177e-421d-9df5-029393f733aa",
   "metadata": {},
   "outputs": [
    {
     "ename": "AttributeError",
     "evalue": "'bool' object has no attribute 'endswith'",
     "output_type": "error",
     "traceback": [
      "\u001b[1;31m---------------------------------------------------------------------------\u001b[0m",
      "\u001b[1;31mAttributeError\u001b[0m                            Traceback (most recent call last)",
      "Cell \u001b[1;32mIn[102], line 1\u001b[0m\n\u001b[1;32m----> 1\u001b[0m enunciado\u001b[38;5;241m.\u001b[39mstartswith(\u001b[38;5;124m\"\u001b[39m\u001b[38;5;124mquizás\u001b[39m\u001b[38;5;124m\"\u001b[39m)\u001b[38;5;241m.\u001b[39mendswith(\u001b[38;5;124m\"\u001b[39m\u001b[38;5;124mPosibilidad\u001b[39m\u001b[38;5;124m\"\u001b[39m)\n",
      "\u001b[1;31mAttributeError\u001b[0m: 'bool' object has no attribute 'endswith'"
     ]
    }
   ],
   "source": [
    "enunciado.startswith(\"quizás\")"
   ]
  },
  {
   "cell_type": "code",
   "execution_count": 104,
   "id": "d538f810-87c1-4cd2-b6f7-748312a475eb",
   "metadata": {},
   "outputs": [
    {
     "data": {
      "text/plain": [
       "True"
      ]
     },
     "execution_count": 104,
     "metadata": {},
     "output_type": "execute_result"
    }
   ],
   "source": [
    "enunciado.endswith(\"posibilidad\")"
   ]
  },
  {
   "cell_type": "markdown",
   "id": "a5451a68-e2f9-4639-801a-00e7268bfb5e",
   "metadata": {},
   "source": [
    "#### Por tu cuenta\n",
    "\n",
    "Crea un bucle for que ubica y muestra cada palabra que comienza con \"d\" en \"Por desenredar el enredo aque ayer enrede, hoy enredo el desenredo que desenredé ayer\""
   ]
  },
  {
   "cell_type": "code",
   "execution_count": 105,
   "id": "e17272e7-4ab3-4e27-8e51-444ef071375e",
   "metadata": {},
   "outputs": [],
   "source": [
    "cadena = \"Por desenredar el enredo aque ayer enrede, hoy enredo el desenredo que desenredé ayer\""
   ]
  },
  {
   "cell_type": "code",
   "execution_count": 115,
   "id": "981a2359-dd6d-4cf4-9be1-4b7f6d3882af",
   "metadata": {},
   "outputs": [
    {
     "name": "stdout",
     "output_type": "stream",
     "text": [
      "desenredar, desenredo, desenredé, "
     ]
    }
   ],
   "source": [
    "for palabra in \"Por desenredar el enredo aque ayer enrede, hoy enredo el desenredo que desenredé ayer\".split():\n",
    "    if palabra.startswith(\"d\"):\n",
    "        print(palabra, end=\", \")"
   ]
  },
  {
   "cell_type": "code",
   "execution_count": 127,
   "id": "a0ce2e69-d4db-41f5-9fb7-75ad7502953a",
   "metadata": {},
   "outputs": [],
   "source": [
    "#split te parte directamente las palabras de un string al parecer por espacios solo(lo que estabas intentando hacer en el ejercicio)"
   ]
  },
  {
   "cell_type": "markdown",
   "id": "291453ec-2fd7-4084-9dd3-b193700eeb3b",
   "metadata": {},
   "source": [
    "### 8.3.5 - Reemplazar"
   ]
  },
  {
   "cell_type": "markdown",
   "id": "7f3975e9-9e50-49e5-a181-407195152e8c",
   "metadata": {},
   "source": [
    "Para reemplazar cadenas se usa el metoodo replace"
   ]
  },
  {
   "cell_type": "code",
   "execution_count": 123,
   "id": "7262a9e8-984f-4242-a72d-90d436289f0c",
   "metadata": {},
   "outputs": [
    {
     "data": {
      "text/plain": [
       "'1\\n2\\n3\\n4\\n5\\n6'"
      ]
     },
     "execution_count": 123,
     "metadata": {},
     "output_type": "execute_result"
    }
   ],
   "source": [
    "valores = \"1\\n2\\n3\\n4\\n5\\n6\"\n",
    "valores"
   ]
  },
  {
   "cell_type": "code",
   "execution_count": 124,
   "id": "67dbe047-cafd-4c65-b935-993d33cdf0c3",
   "metadata": {},
   "outputs": [
    {
     "data": {
      "text/plain": [
       "'1 2 3 4 5 6'"
      ]
     },
     "execution_count": 124,
     "metadata": {},
     "output_type": "execute_result"
    }
   ],
   "source": [
    "valores.replace(\"\\n\", \" \")"
   ]
  },
  {
   "cell_type": "markdown",
   "id": "e3a52f2a-5631-41b6-b8e4-c2184ea036be",
   "metadata": {},
   "source": [
    "### 8.3.6.- Separar y Unir Cadenas"
   ]
  },
  {
   "cell_type": "markdown",
   "id": "51eb190e-54d9-4366-9f1d-323d9b7b3d1d",
   "metadata": {},
   "source": [
    "Para tokenizar una cadena puedes utilizar un delimitador personalizado como una coma o un espacio en blanco.\n",
    "\n",
    "letras='A,b,e,c,e,d,a,r,i,o'"
   ]
  },
  {
   "cell_type": "code",
   "execution_count": 129,
   "id": "f7cb8f28-1e3c-45cc-8239-81c243c864f3",
   "metadata": {},
   "outputs": [
    {
     "data": {
      "text/plain": [
       "['A', 'b', 'e', 'c', 'e', 'd', 'a', 'r', 'i', 'o']"
      ]
     },
     "execution_count": 129,
     "metadata": {},
     "output_type": "execute_result"
    }
   ],
   "source": [
    "letras='A,b,e,c,e,d,a,r,i,o'\n",
    "letras.split(\",\") # si le añades argumentos puede separarte segun tus preferencias"
   ]
  },
  {
   "cell_type": "code",
   "execution_count": 130,
   "id": "9ee7b344-599d-4740-a6fa-87178c05a173",
   "metadata": {},
   "outputs": [
    {
     "data": {
      "text/plain": [
       "\u001b[1;31mSignature:\u001b[0m \u001b[0mletras\u001b[0m\u001b[1;33m.\u001b[0m\u001b[0msplit\u001b[0m\u001b[1;33m(\u001b[0m\u001b[0msep\u001b[0m\u001b[1;33m=\u001b[0m\u001b[1;32mNone\u001b[0m\u001b[1;33m,\u001b[0m \u001b[0mmaxsplit\u001b[0m\u001b[1;33m=\u001b[0m\u001b[1;33m-\u001b[0m\u001b[1;36m1\u001b[0m\u001b[1;33m)\u001b[0m\u001b[1;33m\u001b[0m\u001b[1;33m\u001b[0m\u001b[0m\n",
       "\u001b[1;31mDocstring:\u001b[0m\n",
       "Return a list of the substrings in the string, using sep as the separator string.\n",
       "\n",
       "  sep\n",
       "    The separator used to split the string.\n",
       "\n",
       "    When set to None (the default value), will split on any whitespace\n",
       "    character (including \\n \\r \\t \\f and spaces) and will discard\n",
       "    empty strings from the result.\n",
       "  maxsplit\n",
       "    Maximum number of splits.\n",
       "    -1 (the default value) means no limit.\n",
       "\n",
       "Splitting starts at the front of the string and works to the end.\n",
       "\n",
       "Note, str.split() is mainly useful for data that has been intentionally\n",
       "delimited.  With natural text that includes punctuation, consider using\n",
       "the regular expression module.\n",
       "\u001b[1;31mType:\u001b[0m      builtin_function_or_method"
      ]
     },
     "metadata": {},
     "output_type": "display_data"
    }
   ],
   "source": [
    "letras.split?"
   ]
  },
  {
   "cell_type": "markdown",
   "id": "a1ffcfc2-51b7-4b3c-ab27-0ae658a48d43",
   "metadata": {},
   "source": [
    "Si escribes un entero en la segunda parte del argumento, este, especifica el número máximo de\n",
    "divisiones de la cadena"
   ]
  },
  {
   "cell_type": "code",
   "execution_count": 132,
   "id": "aeda73c8-fc55-490b-8e3d-a89398ddf17b",
   "metadata": {},
   "outputs": [
    {
     "data": {
      "text/plain": [
       "['A', 'b', 'e', 'c', 'e,d,a,r,i,o']"
      ]
     },
     "execution_count": 132,
     "metadata": {},
     "output_type": "execute_result"
    }
   ],
   "source": [
    "letras.split(\",\",4) # te separa solo las veces que dices en la cadena"
   ]
  },
  {
   "cell_type": "markdown",
   "id": "3abe1231-cb06-4ff3-b979-2a85e83f7fcb",
   "metadata": {},
   "source": [
    "El siguiente snippet une los elementos de una comprensión de lista."
   ]
  },
  {
   "cell_type": "code",
   "execution_count": 133,
   "id": "23332d24-a241-4119-9941-f39512852119",
   "metadata": {},
   "outputs": [
    {
     "data": {
      "text/plain": [
       "['A', 'b', 'e', 'c', 'e', 'd', 'a', 'r', 'i', 'o']"
      ]
     },
     "execution_count": 133,
     "metadata": {},
     "output_type": "execute_result"
    }
   ],
   "source": [
    "unir_palabra = ['A', 'b', 'e', 'c', 'e', 'd', 'a', 'r', 'i', 'o']\n",
    "unir_palabra"
   ]
  },
  {
   "cell_type": "code",
   "execution_count": 135,
   "id": "baffdd4f-8acb-445e-b897-bc340237e224",
   "metadata": {},
   "outputs": [
    {
     "data": {
      "text/plain": [
       "'A,b,e,c,e,d,a,r,i,o'"
      ]
     },
     "execution_count": 135,
     "metadata": {},
     "output_type": "execute_result"
    }
   ],
   "source": [
    "\",\".join(unir_palabra) #lo contrario al split, es decir, une"
   ]
  },
  {
   "cell_type": "code",
   "execution_count": 136,
   "id": "d99e9663-3541-44ba-aa7c-fe9762f478bc",
   "metadata": {},
   "outputs": [
    {
     "data": {
      "text/plain": [
       "'Abecedario'"
      ]
     },
     "execution_count": 136,
     "metadata": {},
     "output_type": "execute_result"
    }
   ],
   "source": [
    "\"\".join(unir_palabra)"
   ]
  },
  {
   "cell_type": "markdown",
   "id": "f1025619-c152-47f4-936d-4be71433e87d",
   "metadata": {},
   "source": [
    "El método splitlines regresa una lista de cadenas que representan líneas de\n",
    "texto. Como en el siguiente código."
   ]
  },
  {
   "cell_type": "code",
   "execution_count": 138,
   "id": "41e83e8f-c7c2-4e62-b418-6c326c3c71ff",
   "metadata": {},
   "outputs": [
    {
     "data": {
      "text/plain": [
       "' La madre que malo es T1 perdiendo contra unos\\nque ni saben que estaban haciendo, \\nlas otras macho '"
      ]
     },
     "execution_count": 138,
     "metadata": {},
     "output_type": "execute_result"
    }
   ],
   "source": [
    "verso =\"\"\" La madre que malo es T1 perdiendo contra unos\n",
    "que ni saben que estaban haciendo, \n",
    "las otras macho \"\"\"\n",
    "verso"
   ]
  },
  {
   "cell_type": "code",
   "execution_count": 139,
   "id": "8872d505-8fba-4f40-b787-50175067d60d",
   "metadata": {},
   "outputs": [
    {
     "data": {
      "text/plain": [
       "[' La madre que malo es T1 perdiendo contra unos',\n",
       " 'que ni saben que estaban haciendo, ',\n",
       " 'las otras macho ']"
      ]
     },
     "execution_count": 139,
     "metadata": {},
     "output_type": "execute_result"
    }
   ],
   "source": [
    "verso.splitlines()"
   ]
  },
  {
   "cell_type": "markdown",
   "id": "a2945c75-a80d-4058-9edf-b10b145dbebe",
   "metadata": {},
   "source": [
    "Con el argumento True en splitlines, se muestran los respectivos saltos\n",
    "de línea."
   ]
  },
  {
   "cell_type": "code",
   "execution_count": 141,
   "id": "44a25e16-75e8-4742-82ce-962488a9c496",
   "metadata": {},
   "outputs": [
    {
     "data": {
      "text/plain": [
       "[' La madre que malo es T1 perdiendo contra unos\\n',\n",
       " 'que ni saben que estaban haciendo, \\n',\n",
       " 'las otras macho ']"
      ]
     },
     "execution_count": 141,
     "metadata": {},
     "output_type": "execute_result"
    }
   ],
   "source": [
    "verso.splitlines(True)"
   ]
  },
  {
   "cell_type": "markdown",
   "id": "087f19a8-531e-45b3-ab4d-43130ec2ae4f",
   "metadata": {},
   "source": [
    "## 8.4.- Expresiones Regulares"
   ]
  },
  {
   "cell_type": "markdown",
   "id": "8f562309-5135-40fe-afed-cb05805c1058",
   "metadata": {},
   "source": [
    "### 8.4.1.- Modulo re y función Fullmatch"
   ]
  },
  {
   "cell_type": "markdown",
   "id": "682ce383-7c21-44bb-bc5e-93c7d25bdf17",
   "metadata": {},
   "source": [
    "Para utilizar expresiones regulares es necesario importar el módulo re.\n"
   ]
  },
  {
   "cell_type": "code",
   "execution_count": 143,
   "id": "1c23acef-55f2-409c-aff2-64097ae14c17",
   "metadata": {},
   "outputs": [
    {
     "data": {
      "text/plain": [
       "\u001b[1;31mType:\u001b[0m        module\n",
       "\u001b[1;31mString form:\u001b[0m <module 're' from 'C:\\\\Users\\\\Techie3\\\\anaconda3\\\\Lib\\\\re\\\\__init__.py'>\n",
       "\u001b[1;31mFile:\u001b[0m        c:\\users\\techie3\\anaconda3\\lib\\re\\__init__.py\n",
       "\u001b[1;31mDocstring:\u001b[0m  \n",
       "Support for regular expressions (RE).\n",
       "\n",
       "This module provides regular expression matching operations similar to\n",
       "those found in Perl.  It supports both 8-bit and Unicode strings; both\n",
       "the pattern and the strings being processed can contain null bytes and\n",
       "characters outside the US ASCII range.\n",
       "\n",
       "Regular expressions can contain both special and ordinary characters.\n",
       "Most ordinary characters, like \"A\", \"a\", or \"0\", are the simplest\n",
       "regular expressions; they simply match themselves.  You can\n",
       "concatenate ordinary characters, so last matches the string 'last'.\n",
       "\n",
       "The special characters are:\n",
       "    \".\"      Matches any character except a newline.\n",
       "    \"^\"      Matches the start of the string.\n",
       "    \"$\"      Matches the end of the string or just before the newline at\n",
       "             the end of the string.\n",
       "    \"*\"      Matches 0 or more (greedy) repetitions of the preceding RE.\n",
       "             Greedy means that it will match as many repetitions as possible.\n",
       "    \"+\"      Matches 1 or more (greedy) repetitions of the preceding RE.\n",
       "    \"?\"      Matches 0 or 1 (greedy) of the preceding RE.\n",
       "    *?,+?,?? Non-greedy versions of the previous three special characters.\n",
       "    {m,n}    Matches from m to n repetitions of the preceding RE.\n",
       "    {m,n}?   Non-greedy version of the above.\n",
       "    \"\\\\\"     Either escapes special characters or signals a special sequence.\n",
       "    []       Indicates a set of characters.\n",
       "             A \"^\" as the first character indicates a complementing set.\n",
       "    \"|\"      A|B, creates an RE that will match either A or B.\n",
       "    (...)    Matches the RE inside the parentheses.\n",
       "             The contents can be retrieved or matched later in the string.\n",
       "    (?aiLmsux) The letters set the corresponding flags defined below.\n",
       "    (?:...)  Non-grouping version of regular parentheses.\n",
       "    (?P<name>...) The substring matched by the group is accessible by name.\n",
       "    (?P=name)     Matches the text matched earlier by the group named name.\n",
       "    (?#...)  A comment; ignored.\n",
       "    (?=...)  Matches if ... matches next, but doesn't consume the string.\n",
       "    (?!...)  Matches if ... doesn't match next.\n",
       "    (?<=...) Matches if preceded by ... (must be fixed length).\n",
       "    (?<!...) Matches if not preceded by ... (must be fixed length).\n",
       "    (?(id/name)yes|no) Matches yes pattern if the group with id/name matched,\n",
       "                       the (optional) no pattern otherwise.\n",
       "\n",
       "The special sequences consist of \"\\\\\" and a character from the list\n",
       "below.  If the ordinary character is not on the list, then the\n",
       "resulting RE will match the second character.\n",
       "    \\number  Matches the contents of the group of the same number.\n",
       "    \\A       Matches only at the start of the string.\n",
       "    \\Z       Matches only at the end of the string.\n",
       "    \\b       Matches the empty string, but only at the start or end of a word.\n",
       "    \\B       Matches the empty string, but not at the start or end of a word.\n",
       "    \\d       Matches any decimal digit; equivalent to the set [0-9] in\n",
       "             bytes patterns or string patterns with the ASCII flag.\n",
       "             In string patterns without the ASCII flag, it will match the whole\n",
       "             range of Unicode digits.\n",
       "    \\D       Matches any non-digit character; equivalent to [^\\d].\n",
       "    \\s       Matches any whitespace character; equivalent to [ \\t\\n\\r\\f\\v] in\n",
       "             bytes patterns or string patterns with the ASCII flag.\n",
       "             In string patterns without the ASCII flag, it will match the whole\n",
       "             range of Unicode whitespace characters.\n",
       "    \\S       Matches any non-whitespace character; equivalent to [^\\s].\n",
       "    \\w       Matches any alphanumeric character; equivalent to [a-zA-Z0-9_]\n",
       "             in bytes patterns or string patterns with the ASCII flag.\n",
       "             In string patterns without the ASCII flag, it will match the\n",
       "             range of Unicode alphanumeric characters (letters plus digits\n",
       "             plus underscore).\n",
       "             With LOCALE, it will match the set [0-9_] plus characters defined\n",
       "             as letters for the current locale.\n",
       "    \\W       Matches the complement of \\w.\n",
       "    \\\\       Matches a literal backslash.\n",
       "\n",
       "This module exports the following functions:\n",
       "    match     Match a regular expression pattern to the beginning of a string.\n",
       "    fullmatch Match a regular expression pattern to all of a string.\n",
       "    search    Search a string for the presence of a pattern.\n",
       "    sub       Substitute occurrences of a pattern found in a string.\n",
       "    subn      Same as sub, but also return the number of substitutions made.\n",
       "    split     Split a string by the occurrences of a pattern.\n",
       "    findall   Find all occurrences of a pattern in a string.\n",
       "    finditer  Return an iterator yielding a Match object for each match.\n",
       "    compile   Compile a pattern into a Pattern object.\n",
       "    purge     Clear the regular expression cache.\n",
       "    escape    Backslash all non-alphanumerics in a string.\n",
       "\n",
       "Each function other than purge and escape can take an optional 'flags' argument\n",
       "consisting of one or more of the following module constants, joined by \"|\".\n",
       "A, L, and U are mutually exclusive.\n",
       "    A  ASCII       For string patterns, make \\w, \\W, \\b, \\B, \\d, \\D\n",
       "                   match the corresponding ASCII character categories\n",
       "                   (rather than the whole Unicode categories, which is the\n",
       "                   default).\n",
       "                   For bytes patterns, this flag is the only available\n",
       "                   behaviour and needn't be specified.\n",
       "    I  IGNORECASE  Perform case-insensitive matching.\n",
       "    L  LOCALE      Make \\w, \\W, \\b, \\B, dependent on the current locale.\n",
       "    M  MULTILINE   \"^\" matches the beginning of lines (after a newline)\n",
       "                   as well as the string.\n",
       "                   \"$\" matches the end of lines (before a newline) as well\n",
       "                   as the end of the string.\n",
       "    S  DOTALL      \".\" matches any character at all, including the newline.\n",
       "    X  VERBOSE     Ignore whitespace and comments for nicer looking RE's.\n",
       "    U  UNICODE     For compatibility only. Ignored for string patterns (it\n",
       "                   is the default), and forbidden for bytes patterns.\n",
       "\n",
       "This module also defines exception 'PatternError', aliased to 'error' for\n",
       "backward compatibility."
      ]
     },
     "metadata": {},
     "output_type": "display_data"
    }
   ],
   "source": [
    "import re?"
   ]
  },
  {
   "cell_type": "markdown",
   "id": "1efa0c73-41db-4fd0-8d5c-1f90a64b5f15",
   "metadata": {},
   "source": [
    "La función más simple para expresiones regulares es fullmatch. A continuación, se muestran\n",
    "algunos ejemplos de la forma en que se puede utilizar."
   ]
  },
  {
   "cell_type": "code",
   "execution_count": 149,
   "id": "a1b33edd-2b8b-44b5-8667-f16c3acbd313",
   "metadata": {},
   "outputs": [],
   "source": [
    "import re"
   ]
  },
  {
   "cell_type": "code",
   "execution_count": 150,
   "id": "64c002bb-8d1a-4d6b-bc5f-3227db974977",
   "metadata": {},
   "outputs": [],
   "source": [
    "codigo = \"123456789\""
   ]
  },
  {
   "cell_type": "code",
   "execution_count": 153,
   "id": "bc88dc77-a5ed-44c3-8975-8dd88f6f1f45",
   "metadata": {},
   "outputs": [
    {
     "data": {
      "text/plain": [
       "'Codigo Correcto'"
      ]
     },
     "execution_count": 153,
     "metadata": {},
     "output_type": "execute_result"
    }
   ],
   "source": [
    "\"codigo correcto\".title() if re.fullmatch(codigo,\"123456789\") else \"codigo incorrecto\".title()"
   ]
  },
  {
   "cell_type": "markdown",
   "id": "aeecf54a-9da2-4375-9125-9fbf1b25f70d",
   "metadata": {},
   "source": [
    "Las expresiones regulares, en general contienen símbolos especiales llamados meta caracteres como\n",
    "\\, @, #, $ * y signos de agrupación como [ ], { }, ( )\n",
    "En consecuencia, resulta necesario utilizar los r-strings."
   ]
  },
  {
   "cell_type": "code",
   "execution_count": 155,
   "id": "4618755b-d274-4c38-9986-547fecedee38",
   "metadata": {},
   "outputs": [
    {
     "data": {
      "text/plain": [
       "'Telefono correcto'"
      ]
     },
     "execution_count": 155,
     "metadata": {},
     "output_type": "execute_result"
    }
   ],
   "source": [
    "\"Telefono correcto\" if re.fullmatch(r'\\d{10}',\"6549876544\") else \"Telefono incorrecto\" # r'\\d{10}' poniendo esto permite que una cadena de 10 espacios generica acceda al telefono"
   ]
  },
  {
   "cell_type": "markdown",
   "id": "46134b32-45c1-4666-a9be-f4da5d3e1102",
   "metadata": {},
   "source": [
    "También es posible verificar si, por ejemplo, el nombre de las personas está bien escrito (letra mayúscula al inicio del nombre)"
   ]
  },
  {
   "cell_type": "code",
   "execution_count": 159,
   "id": "eb215151-7e46-4b5d-8d7b-37de92206f82",
   "metadata": {},
   "outputs": [
    {
     "data": {
      "text/plain": [
       "'Bien escrito'"
      ]
     },
     "execution_count": 159,
     "metadata": {},
     "output_type": "execute_result"
    }
   ],
   "source": [
    "\"Bien escrito\" if re.fullmatch('[A-Z][a-z]*', \"Godofredo\") else \"Escritura no valida\" # el asterisco significa sualquier cantidad de caracteres mientras este dentro de lo dicho anteriormente"
   ]
  },
  {
   "cell_type": "markdown",
   "id": "63d9e7dc-93a9-4de1-b89f-a654aaa30154",
   "metadata": {},
   "source": [
    "Al escribir [^a-z], estarás verificando si algún caracter no coincide con las letras minúsculas"
   ]
  },
  {
   "cell_type": "code",
   "execution_count": 162,
   "id": "d070aca5-7c9a-4559-a2c2-d005e98d3761",
   "metadata": {},
   "outputs": [
    {
     "data": {
      "text/plain": [
       "'Bien escrito'"
      ]
     },
     "execution_count": 162,
     "metadata": {},
     "output_type": "execute_result"
    }
   ],
   "source": [
    "\"Bien escrito\" if re.fullmatch('[^a-z]*', \"Godofredo\".upper()) else \"Escritura no valida\""
   ]
  },
  {
   "cell_type": "markdown",
   "id": "f2e27a7e-e3ac-4b2e-a317-b87b2a148429",
   "metadata": {},
   "source": [
    "Si requieres verificar si al menos una letra minúscula aparece en el nombre, puedes utilizar [a-z]+\n"
   ]
  },
  {
   "cell_type": "code",
   "execution_count": 165,
   "id": "7e9bc1b9-08af-44d8-a67c-900430e218fd",
   "metadata": {},
   "outputs": [
    {
     "data": {
      "text/plain": [
       "'Bien escrito'"
      ]
     },
     "execution_count": 165,
     "metadata": {},
     "output_type": "execute_result"
    }
   ],
   "source": [
    "\"Bien escrito\" if re.fullmatch('[A-Z][a-z]+', \"Godofredo\") else \"Escritura no valida\""
   ]
  },
  {
   "cell_type": "markdown",
   "id": "ef763293-52aa-469c-8ff5-7d09785173bb",
   "metadata": {},
   "source": [
    "Las siguientes expresiones regulares verifican si las expresiones contienen al menos cuatro dígitos.\n"
   ]
  },
  {
   "cell_type": "code",
   "execution_count": 167,
   "id": "a7186f93-2ec1-484f-8860-c1b8f91a71e5",
   "metadata": {},
   "outputs": [
    {
     "data": {
      "text/plain": [
       "'Correcto'"
      ]
     },
     "execution_count": 167,
     "metadata": {},
     "output_type": "execute_result"
    }
   ],
   "source": [
    "\"Correcto\" if re.fullmatch(r'\\d{4,}',\"3467\") else \"Incorrecto\" # si son 4 o mas caracteres"
   ]
  },
  {
   "cell_type": "code",
   "execution_count": 169,
   "id": "2ca900a9-4c41-412e-bb77-b422d2f61e21",
   "metadata": {},
   "outputs": [
    {
     "data": {
      "text/plain": [
       "'Correcto'"
      ]
     },
     "execution_count": 169,
     "metadata": {},
     "output_type": "execute_result"
    }
   ],
   "source": []
  },
  {
   "cell_type": "markdown",
   "id": "e3603fcb-5a77-4539-acb3-ebd48c75fe4b",
   "metadata": {},
   "source": [
    "Ahora, las expresiones regulares siguientes, verifican si las expresiones contienen entre 8 y 10 dígitos.\n"
   ]
  },
  {
   "cell_type": "code",
   "execution_count": null,
   "id": "939949e3-14ed-4899-908b-417423b6386d",
   "metadata": {},
   "outputs": [],
   "source": [
    "\"Correcto\" if re.fullmatch(r'\\d{8,10}',\"444683467\") else \"Incorrecto\" # puedes añadir un rango, si es menor de 8 sera incorrecto, lo mismo va para si super 10 caracteres "
   ]
  },
  {
   "cell_type": "markdown",
   "id": "5a5858a3-e26f-422d-aa9e-577982ecb4d3",
   "metadata": {},
   "source": [
    "#### Por tu cuenta\n",
    "\n",
    "Crea y prueba una expresión regular que cuadra con una dirección de calle que consiste de un número con uno o más digitos seguido de 2 palabras de una o más caracteres. Por ejemplo 372 Callejón Rojo"
   ]
  },
  {
   "cell_type": "code",
   "execution_count": 175,
   "id": "b62855ae-c6b4-4f00-a01e-4c74978d66cd",
   "metadata": {},
   "outputs": [],
   "source": [
    "calle = r'\\d{3}'"
   ]
  },
  {
   "cell_type": "code",
   "execution_count": 192,
   "id": "673b963e-1f48-46d9-8705-91e0451874ea",
   "metadata": {},
   "outputs": [
    {
     "data": {
      "text/plain": [
       "'Correcto'"
      ]
     },
     "execution_count": 192,
     "metadata": {},
     "output_type": "execute_result"
    }
   ],
   "source": [
    "\"Correcto\" if re.fullmatch(r'\\d{3,} [A-Z][a-z]* [A-Z][a-z]*',\"372 Callejon Rojo\") else \"Incorrecto\""
   ]
  },
  {
   "cell_type": "code",
   "execution_count": 253,
   "id": "03857c48-302a-40f8-96ce-a285610a4da4",
   "metadata": {},
   "outputs": [],
   "source": [
    "#recordar seguir la tabla ascii mayus antes que minus"
   ]
  },
  {
   "cell_type": "markdown",
   "id": "726003f7-826e-4fec-bd54-3e7af5601eb3",
   "metadata": {},
   "source": [
    "### 8.4.2.- Reemplazar subcadenas y separar cadenas"
   ]
  },
  {
   "cell_type": "markdown",
   "id": "b522f2ad-98e9-47fa-bdb3-251290cf113a",
   "metadata": {},
   "source": [
    "Otras dos funcionalidades del módulo re, son sub y split. Observa estos ejemplos\n"
   ]
  },
  {
   "cell_type": "code",
   "execution_count": 194,
   "id": "b4a35f95-9017-460c-bf0f-4631e9846a9f",
   "metadata": {},
   "outputs": [
    {
     "data": {
      "text/plain": [
       "'Salto 1 , Salto 2, Salto 3'"
      ]
     },
     "execution_count": 194,
     "metadata": {},
     "output_type": "execute_result"
    }
   ],
   "source": [
    "re.sub(r'\\n',',','Salto 1 \\n Salto 2\\n Salto 3') # sub se puede usar para remplazar, no se puede usar replace porque no usa estructura generica"
   ]
  },
  {
   "cell_type": "markdown",
   "id": "8bdd39dc-f40d-4db8-8abd-e19dcc1a1dce",
   "metadata": {},
   "source": [
    "Al final, obtienes una cadena nueva. También puedes declarar un número máximo de reemplazos.\n"
   ]
  },
  {
   "cell_type": "code",
   "execution_count": 196,
   "id": "b959976f-5ca9-43b5-afc4-8b1821a36417",
   "metadata": {},
   "outputs": [
    {
     "data": {
      "text/plain": [
       "'Salto 1 , Salto 2\\n Salto 3'"
      ]
     },
     "execution_count": 196,
     "metadata": {},
     "output_type": "execute_result"
    }
   ],
   "source": [
    "re.sub(r'\\n',',','Salto 1 \\n Salto 2\\n Salto 3', count = 1)"
   ]
  },
  {
   "cell_type": "code",
   "execution_count": 195,
   "id": "caedce77-bd54-4dd9-8d8a-2845745bb415",
   "metadata": {},
   "outputs": [
    {
     "data": {
      "text/plain": [
       "\u001b[1;31mSignature:\u001b[0m \u001b[0mre\u001b[0m\u001b[1;33m.\u001b[0m\u001b[0msub\u001b[0m\u001b[1;33m(\u001b[0m\u001b[0mpattern\u001b[0m\u001b[1;33m,\u001b[0m \u001b[0mrepl\u001b[0m\u001b[1;33m,\u001b[0m \u001b[0mstring\u001b[0m\u001b[1;33m,\u001b[0m \u001b[0mcount\u001b[0m\u001b[1;33m=\u001b[0m\u001b[1;36m0\u001b[0m\u001b[1;33m,\u001b[0m \u001b[0mflags\u001b[0m\u001b[1;33m=\u001b[0m\u001b[1;36m0\u001b[0m\u001b[1;33m)\u001b[0m\u001b[1;33m\u001b[0m\u001b[1;33m\u001b[0m\u001b[0m\n",
       "\u001b[1;31mDocstring:\u001b[0m\n",
       "Return the string obtained by replacing the leftmost\n",
       "non-overlapping occurrences of the pattern in string by the\n",
       "replacement repl.  repl can be either a string or a callable;\n",
       "if a string, backslash escapes in it are processed.  If it is\n",
       "a callable, it's passed the Match object and must return\n",
       "a replacement string to be used.\n",
       "\u001b[1;31mFile:\u001b[0m      c:\\users\\techie3\\anaconda3\\lib\\re\\__init__.py\n",
       "\u001b[1;31mType:\u001b[0m      function"
      ]
     },
     "metadata": {},
     "output_type": "display_data"
    }
   ],
   "source": [
    "re.sub?"
   ]
  },
  {
   "cell_type": "markdown",
   "id": "6781fde7-db46-446f-8ec5-6fcc18f472c3",
   "metadata": {},
   "source": [
    "La función split puede tokenizar una cadena utilizando una expresión regular al especificar un\n",
    "delimitador y regresar una cadena. Haremos una separación utilizando como delimitador, una\n",
    "coma, o una coma seguida por espacios en blanco"
   ]
  },
  {
   "cell_type": "code",
   "execution_count": 198,
   "id": "583388b5-4389-4065-b19b-27a09e6d8fb3",
   "metadata": {},
   "outputs": [
    {
     "data": {
      "text/plain": [
       "['s', 'e', 'p', 'a', 'r', 'a', 'd', 'o']"
      ]
     },
     "execution_count": 198,
     "metadata": {},
     "output_type": "execute_result"
    }
   ],
   "source": [
    "re.split(r',\\s*','s,e,p,a,r,a,d,o')#string generico de cualquier tamaño s*"
   ]
  },
  {
   "cell_type": "code",
   "execution_count": 199,
   "id": "26b63003-3903-4c9f-b8e2-7c6d20b68001",
   "metadata": {},
   "outputs": [
    {
     "data": {
      "text/plain": [
       "\u001b[1;31mSignature:\u001b[0m \u001b[0mre\u001b[0m\u001b[1;33m.\u001b[0m\u001b[0msplit\u001b[0m\u001b[1;33m(\u001b[0m\u001b[0mpattern\u001b[0m\u001b[1;33m,\u001b[0m \u001b[0mstring\u001b[0m\u001b[1;33m,\u001b[0m \u001b[0mmaxsplit\u001b[0m\u001b[1;33m=\u001b[0m\u001b[1;36m0\u001b[0m\u001b[1;33m,\u001b[0m \u001b[0mflags\u001b[0m\u001b[1;33m=\u001b[0m\u001b[1;36m0\u001b[0m\u001b[1;33m)\u001b[0m\u001b[1;33m\u001b[0m\u001b[1;33m\u001b[0m\u001b[0m\n",
       "\u001b[1;31mDocstring:\u001b[0m\n",
       "Split the source string by the occurrences of the pattern,\n",
       "returning a list containing the resulting substrings.  If\n",
       "capturing parentheses are used in pattern, then the text of all\n",
       "groups in the pattern are also returned as part of the resulting\n",
       "list.  If maxsplit is nonzero, at most maxsplit splits occur,\n",
       "and the remainder of the string is returned as the final element\n",
       "of the list.\n",
       "\u001b[1;31mFile:\u001b[0m      c:\\users\\techie3\\anaconda3\\lib\\re\\__init__.py\n",
       "\u001b[1;31mType:\u001b[0m      function"
      ]
     },
     "metadata": {},
     "output_type": "display_data"
    }
   ],
   "source": [
    "re.split?"
   ]
  },
  {
   "cell_type": "markdown",
   "id": "fb773ccf-284d-46de-a385-15b7c6763d5e",
   "metadata": {},
   "source": [
    "Como en el caso de sub, puedes declarar un máximo de divisiones\n"
   ]
  },
  {
   "cell_type": "code",
   "execution_count": 200,
   "id": "ea242f4e-03e6-4307-87c9-df77ad9f430c",
   "metadata": {},
   "outputs": [
    {
     "data": {
      "text/plain": [
       "['s', 'e', 'p,a,r,a,d,o']"
      ]
     },
     "execution_count": 200,
     "metadata": {},
     "output_type": "execute_result"
    }
   ],
   "source": [
    "re.split(r',\\s*','s,e,p,a,r,a,d,o', maxsplit = 2)"
   ]
  },
  {
   "cell_type": "markdown",
   "id": "7c92a399-74ac-4cff-9e1b-2d6d88a7d7c4",
   "metadata": {},
   "source": [
    "#### Por tu cuenta\n",
    "\n",
    "Reemplaza cada ocurrencia de uno o mas caracteres de siguiente linea con un coma y un espacio\n",
    "\n",
    "\"W\\nX\\n\\nY\\n\\n\\nZ\""
   ]
  },
  {
   "cell_type": "code",
   "execution_count": 201,
   "id": "0fe73725-bb88-4eeb-b19e-7faf80223d99",
   "metadata": {},
   "outputs": [],
   "source": [
    "cadena = \"W\\nX\\n\\nY\\n\\n\\nZ\""
   ]
  },
  {
   "cell_type": "code",
   "execution_count": 213,
   "id": "e4b140fe-11e1-41f9-ba38-98bd59dfd02e",
   "metadata": {},
   "outputs": [
    {
     "data": {
      "text/plain": [
       "'W, X, , Y, , , Z'"
      ]
     },
     "execution_count": 213,
     "metadata": {},
     "output_type": "execute_result"
    }
   ],
   "source": [
    "re.sub(r'\\n',\", \", cadena)"
   ]
  },
  {
   "cell_type": "markdown",
   "id": "953fc61f-beef-4236-b9c3-d532838f2b77",
   "metadata": {},
   "source": [
    "### 8.4.3.- Otros métodos de búsqueda: accesar matches"
   ]
  },
  {
   "cell_type": "markdown",
   "id": "19c77f5b-e1b4-43d9-afe9-579a39cfc4b6",
   "metadata": {},
   "source": [
    "Python tiene otras funciones de búsqueda. La función search busca en una cadena la primera \n"
   ]
  },
  {
   "cell_type": "code",
   "execution_count": 215,
   "id": "661e6eeb-c0a1-46e3-a424-4e3636e64b4e",
   "metadata": {},
   "outputs": [],
   "source": [
    "busca = re.search(\"texto\" , \"Esto es un texto de prueba\")"
   ]
  },
  {
   "cell_type": "code",
   "execution_count": 216,
   "id": "50699156-a5ef-4292-a66f-b5f0f327afcb",
   "metadata": {},
   "outputs": [
    {
     "data": {
      "text/plain": [
       "'texto'"
      ]
     },
     "execution_count": 216,
     "metadata": {},
     "output_type": "execute_result"
    }
   ],
   "source": [
    "busca.group() if busca else \"no se encontró\""
   ]
  },
  {
   "cell_type": "markdown",
   "id": "a30e12bd-e68d-419a-9eb7-d3982209a41c",
   "metadata": {},
   "source": [
    "En este ejemplo, la función busca la subcadena 'texto' en la cadena 'Esto es solo texto\n",
    "de prueba'."
   ]
  },
  {
   "cell_type": "code",
   "execution_count": 218,
   "id": "943387d8-5728-4287-bd37-c9c7a6faa762",
   "metadata": {},
   "outputs": [],
   "source": [
    "busca = re.search(\"MEGIDO\" , \"Megido Rimuru Tempest\", flags = re.IGNORECASE)# IGNORECASE tiene metido dentro las comparaciones de a y A en la tabla ascii"
   ]
  },
  {
   "cell_type": "code",
   "execution_count": 220,
   "id": "e8d0227c-0869-4470-ba83-569bf48640e5",
   "metadata": {},
   "outputs": [],
   "source": [
    "busca2 = re.search(\"MEGIDO\" , \"Megido Rimuru Tempest\", flags = re.IGNORECASE)"
   ]
  },
  {
   "cell_type": "code",
   "execution_count": 221,
   "id": "d37abd98-21ed-4ecb-80b6-fa45f9c027b6",
   "metadata": {},
   "outputs": [
    {
     "data": {
      "text/plain": [
       "'Megido'"
      ]
     },
     "execution_count": 221,
     "metadata": {},
     "output_type": "execute_result"
    }
   ],
   "source": [
    "busca2.group() if busca2 else \"no se encontro\""
   ]
  },
  {
   "cell_type": "code",
   "execution_count": null,
   "id": "c6fff2d0-c403-49d8-877c-f707be417690",
   "metadata": {},
   "outputs": [],
   "source": []
  },
  {
   "cell_type": "markdown",
   "id": "5aa4761d-aa2c-47d1-87ec-b8d9df62065c",
   "metadata": {},
   "source": [
    "El meta caracter ^ al principio de una cadena regular, es un ancla que indica a Python buscar la\n",
    "expresión que coincide solo con el inicio de la cadena. "
   ]
  },
  {
   "cell_type": "code",
   "execution_count": 226,
   "id": "f4951654-4b48-4ac8-a0bf-d462c873bdc3",
   "metadata": {},
   "outputs": [
    {
     "data": {
      "text/plain": [
       "'no se encontro'"
      ]
     },
     "execution_count": 226,
     "metadata": {},
     "output_type": "execute_result"
    }
   ],
   "source": [
    "busca3 = re.search(\"^megido\",\"Rimuru Tempest Megido\")\n",
    "busca3.group() if busca3 else \"no se encontro\""
   ]
  },
  {
   "cell_type": "markdown",
   "id": "b5b9f2ca-fb2c-4545-97ab-a0c6299f4da1",
   "metadata": {},
   "source": [
    "Para finalizar esta sección, utilizaremos un par de funciones de re, findall, que encuentra todas las subcadenas en una cadena y finditer que realiza la misma tarea que findall"
   ]
  },
  {
   "cell_type": "code",
   "execution_count": 228,
   "id": "6d225b39-55f9-49b3-aa5f-88f11062a1fb",
   "metadata": {},
   "outputs": [
    {
     "data": {
      "text/plain": [
       "['948-16-87-34', '601-73-98-23']"
      ]
     },
     "execution_count": 228,
     "metadata": {},
     "output_type": "execute_result"
    }
   ],
   "source": [
    "usuario = \"Francisco García, Tel_casa:948-16-87-34, Tel_movil:601-73-98-23\" \n",
    "re.findall(r'\\d{3}-\\d{2}-\\d{2}-\\d{2}', usuario)"
   ]
  },
  {
   "cell_type": "code",
   "execution_count": null,
   "id": "510fcfb4-91d3-436d-9741-ae9783b9aa3e",
   "metadata": {},
   "outputs": [],
   "source": []
  },
  {
   "cell_type": "markdown",
   "id": "bd7676f3-700a-4ee8-9ad0-3a4caec01556",
   "metadata": {},
   "source": [
    "Con finditer.\n"
   ]
  },
  {
   "cell_type": "code",
   "execution_count": 229,
   "id": "f948e8e4-d7e3-483e-ab6f-618d0072e337",
   "metadata": {},
   "outputs": [
    {
     "data": {
      "text/plain": [
       "<callable_iterator at 0x1b1917766e0>"
      ]
     },
     "execution_count": 229,
     "metadata": {},
     "output_type": "execute_result"
    }
   ],
   "source": [
    "re.finditer(r'\\d{3}-\\d{2}-\\d{2}-\\d{2}', usuario)"
   ]
  },
  {
   "cell_type": "markdown",
   "id": "93cb864c-54a2-40e0-87b6-37f087eaab8f",
   "metadata": {},
   "source": [
    "#### Por tu cuenta\n",
    "\n",
    "Suponte que tienes la cadena\n",
    "\n",
    "\"14 + 8\"\n",
    "\n",
    "Usa una expresión regular para romper la cadena en 3 grupos representando los 2 operandos y el operador, luego muestra los grupos"
   ]
  },
  {
   "cell_type": "code",
   "execution_count": 239,
   "id": "dba642aa-1a8e-42dc-8e9b-e676d750e912",
   "metadata": {},
   "outputs": [
    {
     "data": {
      "text/plain": [
       "('14', '+', '8')"
      ]
     },
     "execution_count": 239,
     "metadata": {},
     "output_type": "execute_result"
    }
   ],
   "source": [
    "cadena = \"14 + 8\"\n",
    "cadena_busqueda = re.search(r'(\\d+) ([-+*/]) (\\d+)', cadena)\n",
    "cadena_busqueda.groups()"
   ]
  },
  {
   "cell_type": "code",
   "execution_count": 248,
   "id": "7af051df-f062-4359-84ae-4fba75e646d6",
   "metadata": {},
   "outputs": [],
   "source": [
    "#El código utiliza expresiones regulares para extraer componentes de una cadena que contiene una expresión matemática. Paso a paso:\n",
    "#\n",
    "#1. `cadena = \"14 + 8\"` - Esta línea crea una variable de tipo string que contiene una expresión matemática simple.\n",
    "\n",
    "#2. `cadena_busqueda = re.search(r'(\\d+) ([-+*/]) (\\d+)', cadena)` - Esta línea:\n",
    " #  - Usa la función `re.search()` para buscar un patrón en la cadena\n",
    "  # - El patrón `r'(\\d+) ([-+*/]) (\\d+)'` busca:\n",
    "   #  - `(\\d+)`: Uno o más dígitos (primer grupo de captura)\n",
    "    # - ` `: Un espacio\n",
    "     #- `([-+*/])`: Un operador matemático (suma, resta, multiplicación o división) (segundo grupo de captura)\n",
    "     # ` `: Otro espacio\n",
    "     #`(\\d+)`: Uno o más dígitos (tercer grupo de captura)\n",
    "\n",
    "#3. `cadena_busqueda.groups()` - Esto devuelve una tupla con todos los grupos capturados por la expresión regular:\n",
    " #  - Primer grupo: \"14\" (el primer número)\n",
    "  # - Segundo grupo: \"+\" (el operador)\n",
    "   #- Tercer grupo: \"8\" (el segundo número"
   ]
  },
  {
   "cell_type": "code",
   "execution_count": 240,
   "id": "8551c5f9-4924-4946-a78a-42442b77efb0",
   "metadata": {},
   "outputs": [
    {
     "data": {
      "text/plain": [
       "('14', '+', '8')"
      ]
     },
     "execution_count": 240,
     "metadata": {},
     "output_type": "execute_result"
    }
   ],
   "source": [
    "cadena_busqueda.groups(1)"
   ]
  },
  {
   "cell_type": "code",
   "execution_count": 241,
   "id": "4656f059-e287-4a59-b88c-4976d9d6fbe3",
   "metadata": {},
   "outputs": [
    {
     "data": {
      "text/plain": [
       "('14', '+', '8')"
      ]
     },
     "execution_count": 241,
     "metadata": {},
     "output_type": "execute_result"
    }
   ],
   "source": [
    "cadena_busqueda.groups(2)"
   ]
  },
  {
   "cell_type": "code",
   "execution_count": 242,
   "id": "2d8c9961-a04a-4e1f-9ad4-d8e3af2f416a",
   "metadata": {},
   "outputs": [
    {
     "data": {
      "text/plain": [
       "('14', '+', '8')"
      ]
     },
     "execution_count": 242,
     "metadata": {},
     "output_type": "execute_result"
    }
   ],
   "source": [
    "cadena_busqueda.groups(3)"
   ]
  },
  {
   "cell_type": "code",
   "execution_count": null,
   "id": "59334d74-9620-499b-983f-ee07a5ba1252",
   "metadata": {},
   "outputs": [],
   "source": []
  },
  {
   "cell_type": "markdown",
   "id": "c59a9db3-8ca0-4864-8885-c124d5350429",
   "metadata": {},
   "source": [
    "## 8.5.- Pandas y Expresiones Regulares"
   ]
  },
  {
   "cell_type": "markdown",
   "id": "ef74700e-6891-4cd9-80f2-da28f7157bd3",
   "metadata": {},
   "source": [
    "El siguiente código crea una Series de Pandas con los RFC de dos usuarios. Intencionalmente\n",
    "uno de ellos tiene un error. El objetivo es ver la forma en que Python lo identifica este error."
   ]
  },
  {
   "cell_type": "code",
   "execution_count": 244,
   "id": "dafaeca3-a87f-41f9-b629-406d92bdbbef",
   "metadata": {},
   "outputs": [],
   "source": [
    "import pandas as pd"
   ]
  },
  {
   "cell_type": "code",
   "execution_count": 245,
   "id": "9a18d9cb-5074-465a-9ffc-532141cece0c",
   "metadata": {},
   "outputs": [],
   "source": [
    "rfc = pd.Series({\"DNI1\":\"345Q\",\"DNI2\": \"3434255Q\"})"
   ]
  },
  {
   "cell_type": "code",
   "execution_count": 246,
   "id": "55590407-216d-454c-8ba7-fb3794a59dfa",
   "metadata": {},
   "outputs": [
    {
     "data": {
      "text/plain": [
       "DNI1        345Q\n",
       "DNI2    3434255Q\n",
       "dtype: object"
      ]
     },
     "execution_count": 246,
     "metadata": {},
     "output_type": "execute_result"
    }
   ],
   "source": [
    "rfc"
   ]
  },
  {
   "cell_type": "markdown",
   "id": "1614f57a-232d-4400-83a9-547ed7a8a3d2",
   "metadata": {},
   "source": [
    "Para definir la expresión regular y determinar las coincidencias.\n"
   ]
  },
  {
   "cell_type": "code",
   "execution_count": 249,
   "id": "c809784b-cd3d-4c18-8cbb-9dfab3f973d2",
   "metadata": {},
   "outputs": [
    {
     "data": {
      "text/plain": [
       "DNI1    False\n",
       "DNI2     True\n",
       "dtype: bool"
      ]
     },
     "execution_count": 249,
     "metadata": {},
     "output_type": "execute_result"
    }
   ],
   "source": [
    "rfc.str.match(r'\\d{7}\\w{1}') #\\w{1} coincide con exactamente 1 carácter alfanumérico (letra, número o guion bajo)\n"
   ]
  },
  {
   "cell_type": "markdown",
   "id": "000f1d91-c284-4771-aeb6-0b24d55455b1",
   "metadata": {},
   "source": [
    "Ahora crearemos una cadena que contiene los nombres de tres países, su código ISO 3 y el prefijo\n",
    "telefónico."
   ]
  },
  {
   "cell_type": "code",
   "execution_count": 250,
   "id": "3d71cb47-8597-4976-b606-e4a63b1a9b55",
   "metadata": {},
   "outputs": [],
   "source": [
    "codigos_ISO = pd.Series([\"Mexico, MEX 52\" , \"Colombia, COL 57\"])"
   ]
  },
  {
   "cell_type": "code",
   "execution_count": 251,
   "id": "3e00ae2f-0c40-44ec-936e-2b87b498848c",
   "metadata": {},
   "outputs": [
    {
     "data": {
      "text/plain": [
       "0    True\n",
       "1    True\n",
       "dtype: bool"
      ]
     },
     "execution_count": 251,
     "metadata": {},
     "output_type": "execute_result"
    }
   ],
   "source": [
    "codigos_ISO.str.contains(r'[A-Z]{3}')"
   ]
  },
  {
   "cell_type": "code",
   "execution_count": 262,
   "id": "943c6314-84c5-41a2-a87c-71e183e44fc3",
   "metadata": {
    "scrolled": true
   },
   "outputs": [
    {
     "data": {
      "text/plain": [
       "\u001b[1;31mSignature:\u001b[0m\n",
       "\u001b[0mcodigos_ISO\u001b[0m\u001b[1;33m.\u001b[0m\u001b[0mstr\u001b[0m\u001b[1;33m.\u001b[0m\u001b[0mcontains\u001b[0m\u001b[1;33m(\u001b[0m\u001b[1;33m\n",
       "\u001b[0m    \u001b[0mpat\u001b[0m\u001b[1;33m,\u001b[0m\u001b[1;33m\n",
       "\u001b[0m    \u001b[0mcase\u001b[0m\u001b[1;33m:\u001b[0m \u001b[1;34m'bool'\u001b[0m \u001b[1;33m=\u001b[0m \u001b[1;32mTrue\u001b[0m\u001b[1;33m,\u001b[0m\u001b[1;33m\n",
       "\u001b[0m    \u001b[0mflags\u001b[0m\u001b[1;33m:\u001b[0m \u001b[1;34m'int'\u001b[0m \u001b[1;33m=\u001b[0m \u001b[1;36m0\u001b[0m\u001b[1;33m,\u001b[0m\u001b[1;33m\n",
       "\u001b[0m    \u001b[0mna\u001b[0m\u001b[1;33m=\u001b[0m\u001b[1;32mNone\u001b[0m\u001b[1;33m,\u001b[0m\u001b[1;33m\n",
       "\u001b[0m    \u001b[0mregex\u001b[0m\u001b[1;33m:\u001b[0m \u001b[1;34m'bool'\u001b[0m \u001b[1;33m=\u001b[0m \u001b[1;32mTrue\u001b[0m\u001b[1;33m,\u001b[0m\u001b[1;33m\n",
       "\u001b[0m\u001b[1;33m)\u001b[0m\u001b[1;33m\u001b[0m\u001b[1;33m\u001b[0m\u001b[0m\n",
       "\u001b[1;31mDocstring:\u001b[0m\n",
       "Test if pattern or regex is contained within a string of a Series or Index.\n",
       "\n",
       "Return boolean Series or Index based on whether a given pattern or regex is\n",
       "contained within a string of a Series or Index.\n",
       "\n",
       "Parameters\n",
       "----------\n",
       "pat : str\n",
       "    Character sequence or regular expression.\n",
       "case : bool, default True\n",
       "    If True, case sensitive.\n",
       "flags : int, default 0 (no flags)\n",
       "    Flags to pass through to the re module, e.g. re.IGNORECASE.\n",
       "na : scalar, optional\n",
       "    Fill value for missing values. The default depends on dtype of the\n",
       "    array. For object-dtype, ``numpy.nan`` is used. For ``StringDtype``,\n",
       "    ``pandas.NA`` is used.\n",
       "regex : bool, default True\n",
       "    If True, assumes the pat is a regular expression.\n",
       "\n",
       "    If False, treats the pat as a literal string.\n",
       "\n",
       "Returns\n",
       "-------\n",
       "Series or Index of boolean values\n",
       "    A Series or Index of boolean values indicating whether the\n",
       "    given pattern is contained within the string of each element\n",
       "    of the Series or Index.\n",
       "\n",
       "See Also\n",
       "--------\n",
       "match : Analogous, but stricter, relying on re.match instead of re.search.\n",
       "Series.str.startswith : Test if the start of each string element matches a\n",
       "    pattern.\n",
       "Series.str.endswith : Same as startswith, but tests the end of string.\n",
       "\n",
       "Examples\n",
       "--------\n",
       "Returning a Series of booleans using only a literal pattern.\n",
       "\n",
       ">>> s1 = pd.Series(['Mouse', 'dog', 'house and parrot', '23', np.nan])\n",
       ">>> s1.str.contains('og', regex=False)\n",
       "0    False\n",
       "1     True\n",
       "2    False\n",
       "3    False\n",
       "4      NaN\n",
       "dtype: object\n",
       "\n",
       "Returning an Index of booleans using only a literal pattern.\n",
       "\n",
       ">>> ind = pd.Index(['Mouse', 'dog', 'house and parrot', '23.0', np.nan])\n",
       ">>> ind.str.contains('23', regex=False)\n",
       "Index([False, False, False, True, nan], dtype='object')\n",
       "\n",
       "Specifying case sensitivity using `case`.\n",
       "\n",
       ">>> s1.str.contains('oG', case=True, regex=True)\n",
       "0    False\n",
       "1    False\n",
       "2    False\n",
       "3    False\n",
       "4      NaN\n",
       "dtype: object\n",
       "\n",
       "Specifying `na` to be `False` instead of `NaN` replaces NaN values\n",
       "with `False`. If Series or Index does not contain NaN values\n",
       "the resultant dtype will be `bool`, otherwise, an `object` dtype.\n",
       "\n",
       ">>> s1.str.contains('og', na=False, regex=True)\n",
       "0    False\n",
       "1     True\n",
       "2    False\n",
       "3    False\n",
       "4    False\n",
       "dtype: bool\n",
       "\n",
       "Returning 'house' or 'dog' when either expression occurs in a string.\n",
       "\n",
       ">>> s1.str.contains('house|dog', regex=True)\n",
       "0    False\n",
       "1     True\n",
       "2     True\n",
       "3    False\n",
       "4      NaN\n",
       "dtype: object\n",
       "\n",
       "Ignoring case sensitivity using `flags` with regex.\n",
       "\n",
       ">>> import re\n",
       ">>> s1.str.contains('PARROT', flags=re.IGNORECASE, regex=True)\n",
       "0    False\n",
       "1    False\n",
       "2     True\n",
       "3    False\n",
       "4      NaN\n",
       "dtype: object\n",
       "\n",
       "Returning any digit using regular expression.\n",
       "\n",
       ">>> s1.str.contains('\\\\d', regex=True)\n",
       "0    False\n",
       "1    False\n",
       "2    False\n",
       "3     True\n",
       "4      NaN\n",
       "dtype: object\n",
       "\n",
       "Ensure `pat` is a not a literal pattern when `regex` is set to True.\n",
       "Note in the following example one might expect only `s2[1]` and `s2[3]` to\n",
       "return `True`. However, '.0' as a regex matches any character\n",
       "followed by a 0.\n",
       "\n",
       ">>> s2 = pd.Series(['40', '40.0', '41', '41.0', '35'])\n",
       ">>> s2.str.contains('.0', regex=True)\n",
       "0     True\n",
       "1     True\n",
       "2    False\n",
       "3     True\n",
       "4    False\n",
       "dtype: bool\n",
       "\u001b[1;31mFile:\u001b[0m      c:\\users\\techie3\\anaconda3\\lib\\site-packages\\pandas\\core\\strings\\accessor.py\n",
       "\u001b[1;31mType:\u001b[0m      method"
      ]
     },
     "metadata": {},
     "output_type": "display_data"
    }
   ],
   "source": [
    "codigos_ISO.str.contains?"
   ]
  },
  {
   "cell_type": "markdown",
   "id": "b2381b9d-fd19-4150-8812-790ff42398a3",
   "metadata": {},
   "source": [
    "#### Por tu cuenta\n",
    "\n",
    "Arma un programa que tome 3 numeros telefonicos de 10 digitos y te los devuelva en el formato (###) ###-#### "
   ]
  },
  {
   "cell_type": "code",
   "execution_count": 256,
   "id": "57ff0d28-4506-40f5-94d9-952faa9e3db5",
   "metadata": {},
   "outputs": [
    {
     "data": {
      "text/plain": [
       "0    1111111111\n",
       "1    2222222222\n",
       "2    3333333333\n",
       "dtype: object"
      ]
     },
     "execution_count": 256,
     "metadata": {},
     "output_type": "execute_result"
    }
   ],
   "source": [
    "numeros_telf = pd.Series([\"(111)111-1111\",\"222.222.2222\",\"333 333 3333\"])\n",
    "numeros_telf"
   ]
  },
  {
   "cell_type": "code",
   "execution_count": 266,
   "id": "507590c8-cc9b-4b04-a05e-dcf584f1fd0a",
   "metadata": {},
   "outputs": [
    {
     "data": {
      "text/plain": [
       "0    (111) 111-1111\n",
       "1    (222) 222-2222\n",
       "2    (333) 333-3333\n",
       "dtype: object"
      ]
     },
     "execution_count": 266,
     "metadata": {},
     "output_type": "execute_result"
    }
   ],
   "source": [
    "formateados = numeros_telf.str.replace(r\"\\D\",\"\", regex=True).str.replace(r\"(\\d{3})(\\d{3})(\\d{4})\", r\"(\\1) \\2-\\3\", regex = True)\n",
    "formateados"
   ]
  },
  {
   "cell_type": "code",
   "execution_count": null,
   "id": "b2c2d9a7-b340-493e-9f4e-c847c629bc33",
   "metadata": {},
   "outputs": [],
   "source": [
    "# \\D coge todos los valores que no son digitos\n",
    "# \\d , regex=True pilla como patron lo que pille con ese \\d\n",
    "\n",
    "# la r'' establece un filtro y el regex hace que ese filtro sea la nueva norma"
   ]
  }
 ],
 "metadata": {
  "kernelspec": {
   "display_name": "Python [conda env:base] *",
   "language": "python",
   "name": "conda-base-py"
  },
  "language_info": {
   "codemirror_mode": {
    "name": "ipython",
    "version": 3
   },
   "file_extension": ".py",
   "mimetype": "text/x-python",
   "name": "python",
   "nbconvert_exporter": "python",
   "pygments_lexer": "ipython3",
   "version": "3.13.5"
  }
 },
 "nbformat": 4,
 "nbformat_minor": 5
}
