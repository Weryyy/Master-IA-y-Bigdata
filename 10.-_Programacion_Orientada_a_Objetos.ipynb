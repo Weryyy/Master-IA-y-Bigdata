{
 "cells": [
  {
   "cell_type": "markdown",
   "id": "301c0d4d-8cca-497b-a778-d78262aff151",
   "metadata": {},
   "source": [
    "# 10.- Programación Orientada a Objetos"
   ]
  },
  {
   "cell_type": "markdown",
   "id": "d1fc48e0-5111-4cd8-8b36-d48e8229ed32",
   "metadata": {},
   "source": [
    "##### programacion procedural: Variables y funciones\n",
    "###### programacion orientada a objetos (POO): Atributos y metodos\n",
    "--------------------------------------------------------------------\n",
    "###### Componentes POO: Encapsulacion, Herencia, Abstraccion y polimorfismo\n",
    "\n",
    "###### - Encapsulacion: Ocultar atributos y metodos\n",
    "###### - Herencia: Reutilizar codigo entre clases\n",
    "\n",
    "###### - abstraccion: simplificar mostrando lo esencial\n",
    "\n",
    "###### - Polimorfismo: Un metodom, multiples comportamientos"
   ]
  },
  {
   "cell_type": "markdown",
   "id": "ccb9c437-96be-4ed0-9d2a-15237fa3c108",
   "metadata": {},
   "source": [
    "## 10.2.- Metodos y Clases"
   ]
  },
  {
   "cell_type": "markdown",
   "id": "6de2362b-82ba-44ab-b7ed-61b7daf0ed83",
   "metadata": {},
   "source": [
    "Vamos a crear una clase \"Mascota\" con los atributos tipo (pequeño), raza (chihuahaua), y tarea (guardian)\n",
    "\n",
    "Imprime los atributos raza y tarea"
   ]
  },
  {
   "cell_type": "code",
   "execution_count": 1,
   "id": "7a3db4a6-3e13-4a7b-8aef-d116e7c4a75a",
   "metadata": {},
   "outputs": [],
   "source": [
    "class Mascota:\n",
    "    #atributos\n",
    "    tipo = \"pequeño\"\n",
    "    raza = \"chihuahua\"\n",
    "    tarea =\"guaridan\""
   ]
  },
  {
   "cell_type": "code",
   "execution_count": 3,
   "id": "3c88d1b6-c2f3-4f0f-b47d-5cdb24ddeb31",
   "metadata": {},
   "outputs": [],
   "source": [
    "perro = Mascota()"
   ]
  },
  {
   "cell_type": "code",
   "execution_count": 4,
   "id": "f4aae85c-0906-481e-b335-1e281aa8622e",
   "metadata": {},
   "outputs": [
    {
     "data": {
      "text/plain": [
       "<__main__.Mascota at 0x1ca74e2de80>"
      ]
     },
     "execution_count": 4,
     "metadata": {},
     "output_type": "execute_result"
    }
   ],
   "source": [
    "perro"
   ]
  },
  {
   "cell_type": "code",
   "execution_count": 6,
   "id": "d9fd7073-a2b5-4a3c-abe3-4dd2e3800ed6",
   "metadata": {},
   "outputs": [
    {
     "data": {
      "text/plain": [
       "'chihuahua'"
      ]
     },
     "execution_count": 6,
     "metadata": {},
     "output_type": "execute_result"
    }
   ],
   "source": [
    "perro.raza"
   ]
  },
  {
   "cell_type": "code",
   "execution_count": 7,
   "id": "73d437ee-f3d9-4de5-a066-1abf6b357323",
   "metadata": {},
   "outputs": [
    {
     "data": {
      "text/plain": [
       "'guaridan'"
      ]
     },
     "execution_count": 7,
     "metadata": {},
     "output_type": "execute_result"
    }
   ],
   "source": [
    "perro.tarea"
   ]
  },
  {
   "cell_type": "markdown",
   "id": "91f895d9-1fc3-42b6-beb1-e749b8ee4f31",
   "metadata": {},
   "source": [
    "Cambia el atributo tarea por amigo, imprimelo"
   ]
  },
  {
   "cell_type": "code",
   "execution_count": 11,
   "id": "83464d55-1eb2-4392-bdef-92c4393367be",
   "metadata": {},
   "outputs": [],
   "source": [
    "setattr(perro,\"tarea\",\"amigo\")"
   ]
  },
  {
   "cell_type": "code",
   "execution_count": 12,
   "id": "3f84c39b-7f81-41a3-b55b-1f345c81f106",
   "metadata": {},
   "outputs": [
    {
     "data": {
      "text/plain": [
       "'amigo'"
      ]
     },
     "execution_count": 12,
     "metadata": {},
     "output_type": "execute_result"
    }
   ],
   "source": [
    "perro.tarea"
   ]
  },
  {
   "cell_type": "code",
   "execution_count": null,
   "id": "a73029e9-fccd-4115-b7fd-fcd19f8a48cc",
   "metadata": {},
   "outputs": [],
   "source": []
  },
  {
   "cell_type": "markdown",
   "id": "f2748954-7a2e-45c7-90cf-80d93442e371",
   "metadata": {},
   "source": [
    "Borra el atributo de tarea, intenta imprimirlo"
   ]
  },
  {
   "cell_type": "code",
   "execution_count": 13,
   "id": "26bb282e-461d-4093-9e33-3b2de4ee07cb",
   "metadata": {},
   "outputs": [],
   "source": [
    "delattr(perro,\"tarea\")"
   ]
  },
  {
   "cell_type": "code",
   "execution_count": 14,
   "id": "7348a313-4b2e-45db-b10e-6ca96acbfa52",
   "metadata": {},
   "outputs": [
    {
     "data": {
      "text/plain": [
       "'guaridan'"
      ]
     },
     "execution_count": 14,
     "metadata": {},
     "output_type": "execute_result"
    }
   ],
   "source": [
    "perro.tarea"
   ]
  },
  {
   "cell_type": "code",
   "execution_count": null,
   "id": "8b7927b1-3fb5-4d03-8aa9-f2348a32ce80",
   "metadata": {},
   "outputs": [],
   "source": []
  },
  {
   "cell_type": "markdown",
   "id": "b0882dd9-6743-465a-9e46-4cd1a2c49d9e",
   "metadata": {},
   "source": [
    "Vamos a hacer ahora un registro de aspirante a un puesto, creamos una clase \"Registro\""
   ]
  },
  {
   "cell_type": "code",
   "execution_count": 15,
   "id": "8143fd46-f4a5-4956-acaa-4ecc573a03a6",
   "metadata": {},
   "outputs": [],
   "source": [
    "class Registro:\n",
    "    pass"
   ]
  },
  {
   "cell_type": "code",
   "execution_count": null,
   "id": "203be262-0f94-49e6-bc86-f19b2d1d5d78",
   "metadata": {},
   "outputs": [],
   "source": []
  },
  {
   "cell_type": "markdown",
   "id": "2e2c857f-b577-4e1e-a154-b36a9834ccd8",
   "metadata": {},
   "source": [
    "Y ahora crearemos los objetos Eva, Laura y LUis, les daremos atributos de Edad, Experiencia y Edo civil"
   ]
  },
  {
   "cell_type": "code",
   "execution_count": 16,
   "id": "e2ba259d-ec62-4b9f-9ba6-2b10e81409de",
   "metadata": {},
   "outputs": [],
   "source": [
    "#ejemplo de abstraccion\n",
    "eva = Registro()"
   ]
  },
  {
   "cell_type": "code",
   "execution_count": 17,
   "id": "4cd689f8-f0a4-4016-a490-e63ccac98f0d",
   "metadata": {},
   "outputs": [],
   "source": [
    "eva.edad = 30"
   ]
  },
  {
   "cell_type": "code",
   "execution_count": 18,
   "id": "03b7525a-6b70-4cba-8361-4655205429a5",
   "metadata": {},
   "outputs": [],
   "source": [
    "eva.experiencia = 6"
   ]
  },
  {
   "cell_type": "code",
   "execution_count": 19,
   "id": "9f258e57-429d-402a-9635-3cb76a05f4a7",
   "metadata": {},
   "outputs": [],
   "source": [
    "eva.est_civil = \"soltera\""
   ]
  },
  {
   "cell_type": "code",
   "execution_count": 20,
   "id": "4f2e5af7-2a12-4f7c-9ce4-1f9a27f6c6a3",
   "metadata": {},
   "outputs": [
    {
     "data": {
      "text/plain": [
       "6"
      ]
     },
     "execution_count": 20,
     "metadata": {},
     "output_type": "execute_result"
    }
   ],
   "source": [
    "eva.experiencia"
   ]
  },
  {
   "cell_type": "code",
   "execution_count": 24,
   "id": "d176490d-0397-4274-ae03-eb27a8cb566e",
   "metadata": {},
   "outputs": [],
   "source": [
    "luis = Registro()\n",
    "laura = Registro()\n",
    "luis.edad = 45\n",
    "luis.experiencia = 10\n",
    "luis.est_civil = \"soltero\"\n",
    "\n",
    "laura.edad = 32\n",
    "laura.experiencia = 4\n",
    "laura.est_civil = \"casada\""
   ]
  },
  {
   "cell_type": "code",
   "execution_count": 23,
   "id": "b141d4bb-2360-43a4-bbda-24a0311b28ed",
   "metadata": {},
   "outputs": [
    {
     "data": {
      "text/plain": [
       "__main__.Registro"
      ]
     },
     "execution_count": 23,
     "metadata": {},
     "output_type": "execute_result"
    }
   ],
   "source": []
  },
  {
   "cell_type": "code",
   "execution_count": null,
   "id": "d4ad0905-01c3-44c2-9556-12dd32bb2dff",
   "metadata": {},
   "outputs": [],
   "source": []
  },
  {
   "cell_type": "markdown",
   "id": "ca1e9b0f-2cff-45af-bae7-3a8b2eed747e",
   "metadata": {},
   "source": [
    "Imprimamos 1 atributo por persona"
   ]
  },
  {
   "cell_type": "code",
   "execution_count": 26,
   "id": "a7863dc2-f073-423d-afc2-acf8839f86ee",
   "metadata": {},
   "outputs": [
    {
     "data": {
      "text/plain": [
       "45"
      ]
     },
     "execution_count": 26,
     "metadata": {},
     "output_type": "execute_result"
    }
   ],
   "source": [
    "luis.edad\n",
    "\n"
   ]
  },
  {
   "cell_type": "code",
   "execution_count": 27,
   "id": "63c01432-c4db-4db7-9a2a-a26cc2eed467",
   "metadata": {},
   "outputs": [
    {
     "data": {
      "text/plain": [
       "4"
      ]
     },
     "execution_count": 27,
     "metadata": {},
     "output_type": "execute_result"
    }
   ],
   "source": [
    "laura.experiencia"
   ]
  },
  {
   "cell_type": "code",
   "execution_count": 28,
   "id": "b5c19808-174c-4d74-b513-11328b406043",
   "metadata": {},
   "outputs": [
    {
     "data": {
      "text/plain": [
       "'soltera'"
      ]
     },
     "execution_count": 28,
     "metadata": {},
     "output_type": "execute_result"
    }
   ],
   "source": [
    "eva.est_civil"
   ]
  },
  {
   "cell_type": "markdown",
   "id": "1e50df73-61f0-47d0-bed0-420d0667038c",
   "metadata": {},
   "source": [
    "Ahora creemos la clase \"Oferta\", que tendrá una función aplicada a ella llamda Descuento - sus valores iniciales seran un costo de 1200 y un descuento del 0.15"
   ]
  },
  {
   "cell_type": "code",
   "execution_count": 29,
   "id": "3c31bcef-0591-495b-843e-c634c26e772b",
   "metadata": {},
   "outputs": [],
   "source": [
    "#ejemplo de metodos que se laman a si mismos self\n",
    "class oferta: \n",
    "    def descuento(self): # se refiere al mismo objeto\n",
    "        self.costo = 1200\n",
    "        self.desc = 0.15"
   ]
  },
  {
   "cell_type": "code",
   "execution_count": null,
   "id": "289d02c4-e74c-40de-840c-1b488f9689c6",
   "metadata": {},
   "outputs": [],
   "source": [
    "#__init__ = como un start"
   ]
  },
  {
   "cell_type": "markdown",
   "id": "9ece6e2d-5b06-468d-ad11-09aa153848ca",
   "metadata": {},
   "source": [
    "Ahora bamos a construir un objeto llamado rebaja"
   ]
  },
  {
   "cell_type": "code",
   "execution_count": 30,
   "id": "772e4182-afc6-49f4-9a49-740d5c0e3723",
   "metadata": {},
   "outputs": [],
   "source": [
    "rebaja = oferta()"
   ]
  },
  {
   "cell_type": "code",
   "execution_count": 31,
   "id": "3c577c1e-3a97-427f-83fd-58aff54c4028",
   "metadata": {},
   "outputs": [],
   "source": [
    "rebaja.descuento()"
   ]
  },
  {
   "cell_type": "code",
   "execution_count": null,
   "id": "1bd14af2-3dab-4a0b-8f05-cfd719026992",
   "metadata": {},
   "outputs": [],
   "source": []
  },
  {
   "cell_type": "code",
   "execution_count": null,
   "id": "28781fac-cfaa-42d5-a1c4-51983c55f4a7",
   "metadata": {},
   "outputs": [],
   "source": []
  },
  {
   "cell_type": "markdown",
   "id": "141adf2c-b553-410b-8bab-f2156f247c83",
   "metadata": {},
   "source": [
    "Y ahora imprimamos el resultado de multiplicar costo por rebaja"
   ]
  },
  {
   "cell_type": "code",
   "execution_count": 32,
   "id": "367562a1-d720-4a66-85c3-ce3d42e6d1af",
   "metadata": {},
   "outputs": [
    {
     "name": "stdout",
     "output_type": "stream",
     "text": [
      "180.0\n"
     ]
    }
   ],
   "source": [
    "print(rebaja.costo*rebaja.desc)"
   ]
  },
  {
   "cell_type": "code",
   "execution_count": null,
   "id": "a344ddb5-87e5-4e8f-8a65-f34b51bd2390",
   "metadata": {},
   "outputs": [],
   "source": []
  },
  {
   "cell_type": "markdown",
   "id": "5eeb42af-4c52-4c34-9c3b-1aade04d6890",
   "metadata": {},
   "source": [
    "## 10.3.- (Encapsulación)La clase \"Cuenta\""
   ]
  },
  {
   "cell_type": "markdown",
   "id": "08f77a21-f430-482d-908a-2b82fdcac649",
   "metadata": {},
   "source": [
    "Ahora vamos a crear una clase que simule una cuenta de banco\n",
    "\n",
    "La clase tendrá 2 funciones - la inicial para marcar el nombre y ahorro, y la de deposito para irle sumando dinero a la cuenta"
   ]
  },
  {
   "cell_type": "code",
   "execution_count": 58,
   "id": "5a9ff1e0-2664-4e59-8415-89444f6786b8",
   "metadata": {},
   "outputs": [],
   "source": [
    "from decimal import Decimal"
   ]
  },
  {
   "cell_type": "code",
   "execution_count": 38,
   "id": "cacc2b0e-2bf0-4d0c-bbde-e44bf5fc588c",
   "metadata": {},
   "outputs": [],
   "source": [
    "class Cuenta:\n",
    "    def __init__(self, nombre, ahorro): #significa que cuando definas cuenta tendras que poner nombre y ahorro, como si en la clase pusieras los parentesis y ahi los trabajas\n",
    "        if ahorro<Decimal(\"0.00\"):\n",
    "            raise ValueError(\"El capital inicial debe ser mayor a 0\")\n",
    "        \n",
    "        #encapsulacion\n",
    "        self.nombre = nombre # caso publico // todo codigo tiene acceso\n",
    "        #self._nombre # esto sigifica que esta protegido // deberia usarse solo dentro de la clase y subclases\n",
    "        #self.__nombre # privado // solo es accesible desde la propia clase\n",
    "        self.ahorro = ahorro\n",
    "\n",
    "    def deposito(self, cantidad):\n",
    "        if cantidad<Decimal(\"0.00\"):\n",
    "            raise ValueError(\"la cantidad debe ser positiva\")\n",
    "        self.ahorro += cantidad\n",
    "            \n",
    "            \n",
    "            # __init__ palabra reservada de python, se ejecuta una vez por objeto\n",
    "                                        #self = atributo interno para referirse a si mismo"
   ]
  },
  {
   "cell_type": "code",
   "execution_count": null,
   "id": "19e6aba8-b776-437b-ae7d-ed513c355abb",
   "metadata": {},
   "outputs": [],
   "source": []
  },
  {
   "cell_type": "markdown",
   "id": "ca99f4c6-9064-44ef-8742-d0b248ca5dac",
   "metadata": {},
   "source": [
    "Vamos creando una cuenta 1 para juan con 2000 pesos"
   ]
  },
  {
   "cell_type": "code",
   "execution_count": 39,
   "id": "f9a3cdb1-a068-475c-8e72-16c526ba5a26",
   "metadata": {},
   "outputs": [],
   "source": [
    "cuenta1 = Cuenta(\"Juan\",2000)"
   ]
  },
  {
   "cell_type": "markdown",
   "id": "c791ae2b-b8df-4499-b9e8-0ee92cfb6876",
   "metadata": {},
   "source": [
    "Imprime tus resultados"
   ]
  },
  {
   "cell_type": "code",
   "execution_count": 41,
   "id": "0c3e6017-1842-4761-83e5-25751d1c1973",
   "metadata": {},
   "outputs": [
    {
     "data": {
      "text/plain": [
       "'Juan'"
      ]
     },
     "execution_count": 41,
     "metadata": {},
     "output_type": "execute_result"
    }
   ],
   "source": [
    "cuenta1.nombre"
   ]
  },
  {
   "cell_type": "code",
   "execution_count": 42,
   "id": "db6fd425-28e6-4d4b-8e89-1bcc4ef03361",
   "metadata": {},
   "outputs": [
    {
     "data": {
      "text/plain": [
       "2000"
      ]
     },
     "execution_count": 42,
     "metadata": {},
     "output_type": "execute_result"
    }
   ],
   "source": [
    "cuenta1.ahorro"
   ]
  },
  {
   "cell_type": "code",
   "execution_count": null,
   "id": "691b3a34-0e3a-43c3-928e-d3726c13e7c7",
   "metadata": {},
   "outputs": [],
   "source": []
  },
  {
   "cell_type": "markdown",
   "id": "fe829ffa-fd59-4295-aee1-079670d5f18d",
   "metadata": {},
   "source": [
    "Ahora hagamos un depostio de 500"
   ]
  },
  {
   "cell_type": "code",
   "execution_count": 43,
   "id": "0bc77a85-b47c-47e1-aeb6-0ef1443b1d18",
   "metadata": {},
   "outputs": [],
   "source": [
    "cuenta1.deposito(500)"
   ]
  },
  {
   "cell_type": "code",
   "execution_count": null,
   "id": "5de5adda-ba59-40e9-a206-d14086ca6deb",
   "metadata": {},
   "outputs": [],
   "source": []
  },
  {
   "cell_type": "markdown",
   "id": "23d3ebd2-af37-42db-b5f9-d1e8b41cbbf7",
   "metadata": {},
   "source": [
    "Que pasa si queremos hacer un deposito negativo?"
   ]
  },
  {
   "cell_type": "code",
   "execution_count": 44,
   "id": "19ec39b3-2f11-4d85-8695-8d26624ad4f7",
   "metadata": {},
   "outputs": [
    {
     "ename": "ValueError",
     "evalue": "la cantidad debe ser positiva",
     "output_type": "error",
     "traceback": [
      "\u001b[1;31m---------------------------------------------------------------------------\u001b[0m",
      "\u001b[1;31mValueError\u001b[0m                                Traceback (most recent call last)",
      "Cell \u001b[1;32mIn[44], line 1\u001b[0m\n\u001b[1;32m----> 1\u001b[0m cuenta1\u001b[38;5;241m.\u001b[39mdeposito(\u001b[38;5;241m-\u001b[39m\u001b[38;5;241m500\u001b[39m)\n",
      "Cell \u001b[1;32mIn[38], line 14\u001b[0m, in \u001b[0;36mCuenta.deposito\u001b[1;34m(self, cantidad)\u001b[0m\n\u001b[0;32m     12\u001b[0m \u001b[38;5;28;01mdef\u001b[39;00m\u001b[38;5;250m \u001b[39m\u001b[38;5;21mdeposito\u001b[39m(\u001b[38;5;28mself\u001b[39m, cantidad):\n\u001b[0;32m     13\u001b[0m     \u001b[38;5;28;01mif\u001b[39;00m cantidad\u001b[38;5;241m<\u001b[39mDecimal(\u001b[38;5;124m\"\u001b[39m\u001b[38;5;124m0.00\u001b[39m\u001b[38;5;124m\"\u001b[39m):\n\u001b[1;32m---> 14\u001b[0m         \u001b[38;5;28;01mraise\u001b[39;00m \u001b[38;5;167;01mValueError\u001b[39;00m(\u001b[38;5;124m\"\u001b[39m\u001b[38;5;124mla cantidad debe ser positiva\u001b[39m\u001b[38;5;124m\"\u001b[39m)\n\u001b[0;32m     15\u001b[0m     \u001b[38;5;28mself\u001b[39m\u001b[38;5;241m.\u001b[39mahorro \u001b[38;5;241m+\u001b[39m\u001b[38;5;241m=\u001b[39m cantidad\n",
      "\u001b[1;31mValueError\u001b[0m: la cantidad debe ser positiva"
     ]
    }
   ],
   "source": [
    "cuenta1.deposito(-500)"
   ]
  },
  {
   "cell_type": "markdown",
   "id": "08cc0b28-878a-488e-bba1-09b766ee99be",
   "metadata": {},
   "source": [
    "## 10.5.- (Herencia)La clase Personal"
   ]
  },
  {
   "cell_type": "markdown",
   "id": "ff3cd80e-1c97-4d9e-8264-f4d7732d59be",
   "metadata": {},
   "source": [
    "Ahora vamos a simular el personal que labora en una fabrica\n",
    "\n",
    "Creemos la clase Personal, con un afunción que define el nombre, profesión y cargo, y otra función llama detalle que devuelve la oración \"\" es un \"\" y tiene el cargo de \"\""
   ]
  },
  {
   "cell_type": "code",
   "execution_count": 63,
   "id": "f1739209-3b9b-4925-af9b-f6e21edba7da",
   "metadata": {},
   "outputs": [],
   "source": [
    "class personal:\n",
    "    def __init__(self, nombre,profesion,cargo):\n",
    "        self.nombre = nombre\n",
    "        self.profesion = profesion\n",
    "        self.cargo = cargo\n",
    "\n",
    "    def detalle(self):\n",
    "        return \"{} es un {} y tiene el cargo de {}\".format(self.nombre, self.profesion, self.cargo)"
   ]
  },
  {
   "cell_type": "markdown",
   "id": "2ebd7952-cd1a-4ec6-8351-ebedb0ba64ba",
   "metadata": {},
   "source": [
    "Ahora se muestran estas 2 clases, llamadas pers_nuevo y pers_advo, y heredan la estructura d ela primera"
   ]
  },
  {
   "cell_type": "code",
   "execution_count": 69,
   "id": "0f3169aa-444b-461c-a9aa-fd49057ab977",
   "metadata": {},
   "outputs": [],
   "source": [
    "class pers_nuevo(personal): #asi heredas // reciclas codigo\n",
    "    def contrato(self,contrata):\n",
    "        return \"{} tiene contrato {}\".format(self.nombre, contrata)\n",
    "    "
   ]
  },
  {
   "cell_type": "code",
   "execution_count": 70,
   "id": "b6b26076-a069-4482-9cba-afe5391121f3",
   "metadata": {},
   "outputs": [],
   "source": [
    "class pers_advo(personal): #asi heredas // reciclas codigo\n",
    "    def contrato(self,contrato):\n",
    "        return \"{} tiene contrato {}\".format(self.nombre, self.contrato)\n",
    "    "
   ]
  },
  {
   "cell_type": "markdown",
   "id": "4a97aee6-4445-4e04-b400-48d6a8646fd3",
   "metadata": {},
   "source": [
    "Ahora vamos a crear un constructor apara diseñar un bojeto de clase pers_nuevo, que tendrá los atributos de Personal y también el metodo detalle"
   ]
  },
  {
   "cell_type": "code",
   "execution_count": 71,
   "id": "9a266767-0657-4df4-bf7b-efd69f7e2e7f",
   "metadata": {},
   "outputs": [],
   "source": [
    "ingeniero = pers_nuevo(\"godofredo\",\"Ingeniero de datos\", \"supervision\")"
   ]
  },
  {
   "cell_type": "code",
   "execution_count": 72,
   "id": "e5431849-de13-41b6-9e3e-2531b583d349",
   "metadata": {},
   "outputs": [
    {
     "data": {
      "text/plain": [
       "'godofredo es un Ingeniero de datos y tiene el cargo de supervision'"
      ]
     },
     "execution_count": 72,
     "metadata": {},
     "output_type": "execute_result"
    }
   ],
   "source": [
    "ingeniero.detalle()"
   ]
  },
  {
   "cell_type": "code",
   "execution_count": 73,
   "id": "f0263048-5a5e-4f5e-a0fa-16591c391870",
   "metadata": {},
   "outputs": [
    {
     "data": {
      "text/plain": [
       "'godofredo tiene contrato Temporal'"
      ]
     },
     "execution_count": 73,
     "metadata": {},
     "output_type": "execute_result"
    }
   ],
   "source": [
    "ingeniero.contrato(\"Temporal\")"
   ]
  },
  {
   "cell_type": "code",
   "execution_count": null,
   "id": "4828a9bf-e9cb-4441-a432-3df9f917698a",
   "metadata": {},
   "outputs": [],
   "source": []
  },
  {
   "cell_type": "code",
   "execution_count": null,
   "id": "6e1cb384-ffad-4ff9-9e79-596a85195000",
   "metadata": {},
   "outputs": [],
   "source": []
  },
  {
   "cell_type": "markdown",
   "id": "b64c3024-e72b-4681-a182-10c417c841ab",
   "metadata": {},
   "source": [
    "También puedes solicitar del objeto ingeniero, con los atributos de las otras clases"
   ]
  },
  {
   "cell_type": "code",
   "execution_count": 74,
   "id": "6c518aba-c175-4ba7-bcb9-5b097b75c048",
   "metadata": {},
   "outputs": [
    {
     "data": {
      "text/plain": [
       "'godofredo es un Ingeniero de datos y tiene el cargo de supervision'"
      ]
     },
     "execution_count": 74,
     "metadata": {},
     "output_type": "execute_result"
    }
   ],
   "source": [
    "ingeniero.detalle()"
   ]
  },
  {
   "cell_type": "markdown",
   "id": "5caa1784-0aaf-4d29-9c06-606cfb03a00c",
   "metadata": {},
   "source": [
    "## (Poliformismo)Ahora con la clase Cuenta\n",
    "\n",
    "Importemos decimal\n",
    "\n",
    "y luego definamos cuenta, con de la siguiente manera"
   ]
  },
  {
   "cell_type": "code",
   "execution_count": 86,
   "id": "6bb17119-9db9-4286-89a6-91e60ba6c89a",
   "metadata": {},
   "outputs": [],
   "source": [
    "class Cuenta:\n",
    "    def __init__(self, nombre, capital): \n",
    "        if capital<Decimal(\"0.00\"):\n",
    "            raise ValueError(\"El capital inicial debe ser mayor a 0\")\n",
    "        \n",
    "        self.nombre = nombre \n",
    "        self.capital = capital\n",
    "\n",
    "    def info(self):\n",
    "        return \"{} tiene su cuenta{}\".format(self.nombre,self.capital)"
   ]
  },
  {
   "cell_type": "markdown",
   "id": "a4cc372b-26dc-43b3-84b3-a0b45dd9d2f9",
   "metadata": {},
   "source": [
    "Y ahora vamos a darle 2 subclases, la de ahorro y la de gasto. EN la de ahorro nos aseguraremos de devolver la frase \"\" tiene ahora en su cuenta \"\""
   ]
  },
  {
   "cell_type": "code",
   "execution_count": 87,
   "id": "b15db194-47a6-46d1-9292-2128372f367c",
   "metadata": {},
   "outputs": [],
   "source": [
    "class ahorro(Cuenta):\n",
    "    def cantidad(self, deposito): \n",
    "        if deposito < 0:\n",
    "            raise ValueError(\"El capital inicial debe ser mayor a 0\")\n",
    "        self.capital += deposito\n",
    "        return \"{} tiene ahora en su cuenta {}\".format(self.nombre,self.capital)"
   ]
  },
  {
   "cell_type": "markdown",
   "id": "78f1351e-af32-4e2f-b6c7-eed08a0aee95",
   "metadata": {},
   "source": [
    "Y en la de gasto vamos a retirar dinero, hay que asegurarse de que se puede hacer el retiro, y que devuelve una frase \"\" tiene ahora en su cuenta \"\""
   ]
  },
  {
   "cell_type": "code",
   "execution_count": 109,
   "id": "244cbf00-764d-410f-bca8-b47b0dd84bb5",
   "metadata": {},
   "outputs": [],
   "source": [
    "class Gasto(Cuenta):\n",
    "    def cantidad(self, retiro):\n",
    "\n",
    "        if retiro < 0:\n",
    "            raise ValueError(\"El capital inicial debe ser mayor a 0\")\n",
    "        if retiro > capital:\n",
    "            raise ValueError(\"El capital inicial debe ser mayor a 0\")\n",
    "        self.cantidad += deposito\n",
    "        return \"{} tiene ahora en su cuenta {}\".format(self.nombre,self.cantidad)"
   ]
  },
  {
   "cell_type": "markdown",
   "id": "712cc1c0-da68-4790-84c1-8f9d039231c2",
   "metadata": {},
   "source": [
    "Ahora, vamos adefinir 2 objetos cuenta1 en ahorro y cuenta2 en gasto"
   ]
  },
  {
   "cell_type": "code",
   "execution_count": 103,
   "id": "29f95292-2f33-46df-a114-6ab3e01b2d17",
   "metadata": {},
   "outputs": [],
   "source": [
    "cuenta1 = ahorro(\"Juan\",2000)"
   ]
  },
  {
   "cell_type": "code",
   "execution_count": 104,
   "id": "9c30f409-dcbc-4e9e-a9bb-2ccc88b81ee6",
   "metadata": {},
   "outputs": [
    {
     "data": {
      "text/plain": [
       "'Juan tiene su cuenta2000'"
      ]
     },
     "execution_count": 104,
     "metadata": {},
     "output_type": "execute_result"
    }
   ],
   "source": [
    "cuenta1.info()"
   ]
  },
  {
   "cell_type": "code",
   "execution_count": 105,
   "id": "b959fb15-4e9a-4eab-97b7-a8469e2978a9",
   "metadata": {},
   "outputs": [
    {
     "data": {
      "text/plain": [
       "'Juan tiene ahora en su cuenta 4500'"
      ]
     },
     "execution_count": 105,
     "metadata": {},
     "output_type": "execute_result"
    }
   ],
   "source": [
    "cuenta1.cantidad(2500)"
   ]
  },
  {
   "cell_type": "code",
   "execution_count": 106,
   "id": "44914d74-d0a5-45ac-a578-06801c764ca2",
   "metadata": {},
   "outputs": [],
   "source": [
    "cuenta2 = Gasto(\"diego\",10)"
   ]
  },
  {
   "cell_type": "code",
   "execution_count": 107,
   "id": "2c50caaf-af21-47a8-bc02-babac15b6489",
   "metadata": {},
   "outputs": [
    {
     "data": {
      "text/plain": [
       "'diego tiene su cuenta10'"
      ]
     },
     "execution_count": 107,
     "metadata": {},
     "output_type": "execute_result"
    }
   ],
   "source": [
    "cuenta2.info()"
   ]
  },
  {
   "cell_type": "code",
   "execution_count": 110,
   "id": "d067d7e7-7601-4514-9e62-eb4c5d17cbd1",
   "metadata": {},
   "outputs": [
    {
     "ename": "NameError",
     "evalue": "name 'capital' is not defined",
     "output_type": "error",
     "traceback": [
      "\u001b[1;31m---------------------------------------------------------------------------\u001b[0m",
      "\u001b[1;31mNameError\u001b[0m                                 Traceback (most recent call last)",
      "Cell \u001b[1;32mIn[110], line 1\u001b[0m\n\u001b[1;32m----> 1\u001b[0m cuenta2\u001b[38;5;241m.\u001b[39mcantidad(\u001b[38;5;241m1500\u001b[39m)\n",
      "Cell \u001b[1;32mIn[102], line 6\u001b[0m, in \u001b[0;36mGasto.cantidad\u001b[1;34m(self, retiro)\u001b[0m\n\u001b[0;32m      4\u001b[0m \u001b[38;5;28;01mif\u001b[39;00m retiro \u001b[38;5;241m<\u001b[39m \u001b[38;5;241m0\u001b[39m:\n\u001b[0;32m      5\u001b[0m     \u001b[38;5;28;01mraise\u001b[39;00m \u001b[38;5;167;01mValueError\u001b[39;00m(\u001b[38;5;124m\"\u001b[39m\u001b[38;5;124mEl capital inicial debe ser mayor a 0\u001b[39m\u001b[38;5;124m\"\u001b[39m)\n\u001b[1;32m----> 6\u001b[0m \u001b[38;5;28;01mif\u001b[39;00m retiro \u001b[38;5;241m>\u001b[39m capital:\n\u001b[0;32m      7\u001b[0m     \u001b[38;5;28;01mraise\u001b[39;00m \u001b[38;5;167;01mValueError\u001b[39;00m(\u001b[38;5;124m\"\u001b[39m\u001b[38;5;124mEl capital inicial debe ser mayor a 0\u001b[39m\u001b[38;5;124m\"\u001b[39m)\n\u001b[0;32m      8\u001b[0m \u001b[38;5;28mself\u001b[39m\u001b[38;5;241m.\u001b[39mcantidad \u001b[38;5;241m+\u001b[39m\u001b[38;5;241m=\u001b[39m deposito\n",
      "\u001b[1;31mNameError\u001b[0m: name 'capital' is not defined"
     ]
    }
   ],
   "source": [
    "cuenta2.cantidad(1500)"
   ]
  },
  {
   "cell_type": "code",
   "execution_count": null,
   "id": "921757e9-e3a6-4ec5-baf7-f5b1a24e1d21",
   "metadata": {},
   "outputs": [],
   "source": []
  },
  {
   "cell_type": "markdown",
   "id": "ba8a6a34-72ab-47f1-b88b-5d3a60bb2502",
   "metadata": {},
   "source": [
    "Ahora el usuario retira 5000"
   ]
  },
  {
   "cell_type": "markdown",
   "id": "ece98648-e7ce-4337-bb6c-24027e2b4d31",
   "metadata": {},
   "source": [
    "## 10.6.- Métodos de Clase"
   ]
  },
  {
   "cell_type": "code",
   "execution_count": null,
   "id": "14156792-cd44-44e7-a721-fd58409b660b",
   "metadata": {},
   "outputs": [],
   "source": []
  },
  {
   "cell_type": "code",
   "execution_count": null,
   "id": "4ecb4225-71f2-46c5-b968-1eccdc65c0a3",
   "metadata": {},
   "outputs": [],
   "source": []
  },
  {
   "cell_type": "code",
   "execution_count": null,
   "id": "7b0a2d27-a716-4856-a3a8-5a8ba7530ccd",
   "metadata": {},
   "outputs": [],
   "source": []
  },
  {
   "cell_type": "markdown",
   "id": "2c9c608f-7697-4da2-90a0-51ae3a640f6f",
   "metadata": {},
   "source": [
    "## 10.7.- Polimorfismo"
   ]
  },
  {
   "cell_type": "markdown",
   "id": "0b3389d2-20a8-4ff3-8303-865ad06049d9",
   "metadata": {},
   "source": [
    "Creemos 2 clases, un llamada matematicas y otra idioma - vamos a darles numeros de cretidos diferentes"
   ]
  },
  {
   "cell_type": "code",
   "execution_count": 111,
   "id": "702162f3-270e-4325-95b5-be52d5287e79",
   "metadata": {},
   "outputs": [],
   "source": [
    "class Matematicas:\n",
    "    num_creditos = 8\n",
    "    def creditos(self):\n",
    "        print(\"Matematicas tiene 8 creditos\")"
   ]
  },
  {
   "cell_type": "code",
   "execution_count": 112,
   "id": "d0211e1f-9348-4050-bd20-702632dbbcdc",
   "metadata": {},
   "outputs": [],
   "source": [
    "class Idioma:\n",
    "    num_creditos = 3\n",
    "    def creditos(self):\n",
    "        print(\"Idioma tiene 3 creditos\")"
   ]
  },
  {
   "cell_type": "code",
   "execution_count": null,
   "id": "e83b3434-8349-476e-ab3f-90747fedf12a",
   "metadata": {},
   "outputs": [],
   "source": []
  },
  {
   "cell_type": "markdown",
   "id": "c8830e50-0453-486f-95ae-789cec6717e1",
   "metadata": {},
   "source": [
    "Ahor vamos a crear un objeto llamado asignatura y que sea de clase Matematicas, cuantos creditos tiene?"
   ]
  },
  {
   "cell_type": "code",
   "execution_count": 113,
   "id": "769cd57b-cf15-4f19-b84c-3e7e2935ddc0",
   "metadata": {},
   "outputs": [],
   "source": [
    "asignatura = Matematicas()"
   ]
  },
  {
   "cell_type": "code",
   "execution_count": 114,
   "id": "4f942729-11dd-4c10-aadd-235931410d34",
   "metadata": {},
   "outputs": [
    {
     "name": "stdout",
     "output_type": "stream",
     "text": [
      "Matematicas tiene 8 creditos\n"
     ]
    }
   ],
   "source": [
    "asignatura.creditos()"
   ]
  },
  {
   "cell_type": "code",
   "execution_count": 116,
   "id": "51aeb6af-d25d-4a16-9e5d-181d29c78060",
   "metadata": {},
   "outputs": [
    {
     "data": {
      "text/plain": [
       "8"
      ]
     },
     "execution_count": 116,
     "metadata": {},
     "output_type": "execute_result"
    }
   ],
   "source": [
    "asignatura.num_creditos"
   ]
  },
  {
   "cell_type": "code",
   "execution_count": 117,
   "id": "3cefcd6f-49bf-45c9-8255-d7d89a4fe6c0",
   "metadata": {},
   "outputs": [],
   "source": [
    "asignatura2 = Idioma()"
   ]
  },
  {
   "cell_type": "code",
   "execution_count": 118,
   "id": "fe549c76-150c-454f-b3a1-03c84185da7b",
   "metadata": {},
   "outputs": [
    {
     "name": "stdout",
     "output_type": "stream",
     "text": [
      "Idioma tiene 3 creditos\n"
     ]
    }
   ],
   "source": [
    "asignatura2.creditos()"
   ]
  },
  {
   "cell_type": "code",
   "execution_count": 119,
   "id": "ba2bf792-33f3-4e4b-8ad5-512b85243009",
   "metadata": {},
   "outputs": [
    {
     "data": {
      "text/plain": [
       "3"
      ]
     },
     "execution_count": 119,
     "metadata": {},
     "output_type": "execute_result"
    }
   ],
   "source": [
    "asignatura2.num_creditos"
   ]
  },
  {
   "cell_type": "markdown",
   "id": "5d7b3e9e-920a-4565-b58f-69cce4305851",
   "metadata": {},
   "source": [
    "Sigue el polimorfismo por método\n",
    "\n",
    "Crearemos diferentes paises, todos con el método moneda"
   ]
  },
  {
   "cell_type": "code",
   "execution_count": 122,
   "id": "735a8f76-6408-4f4e-a568-6c200491652b",
   "metadata": {},
   "outputs": [],
   "source": [
    "class Pais:\n",
    "    def moneda(self):\n",
    "        print(\"Cada pais tiene su propia moneda\")\n",
    "class España(Pais):\n",
    "    def moneda(self):\n",
    "        print(\"Euros\")\n",
    "class japon(Pais):\n",
    "    def moneda(self):\n",
    "        print(\"yen\")\n",
    "class EEUU(Pais):\n",
    "    def moneda(self):\n",
    "        print(\"dollar\")\n",
    "\n",
    "    "
   ]
  },
  {
   "cell_type": "markdown",
   "id": "f92d2df3-ca6a-4267-97a4-bdcdbf392a5f",
   "metadata": {},
   "source": [
    "Muestra los resultados"
   ]
  },
  {
   "cell_type": "code",
   "execution_count": 123,
   "id": "41ec3fdb-6519-438d-929d-627f4e53dc98",
   "metadata": {},
   "outputs": [],
   "source": [
    "divisa = Pais()"
   ]
  },
  {
   "cell_type": "code",
   "execution_count": 124,
   "id": "1b917be9-5072-4cc9-b679-c89dd939ebe4",
   "metadata": {},
   "outputs": [
    {
     "name": "stdout",
     "output_type": "stream",
     "text": [
      "Cada pais tiene su propia moneda\n"
     ]
    }
   ],
   "source": [
    "divisa.moneda()"
   ]
  },
  {
   "cell_type": "code",
   "execution_count": 125,
   "id": "e1a437cc-3811-429a-808b-80f951b3e596",
   "metadata": {},
   "outputs": [],
   "source": [
    "españita = España()"
   ]
  },
  {
   "cell_type": "code",
   "execution_count": 126,
   "id": "5048a16c-3a9f-4fa1-bacf-d75b17e1839d",
   "metadata": {},
   "outputs": [
    {
     "name": "stdout",
     "output_type": "stream",
     "text": [
      "Euros\n"
     ]
    }
   ],
   "source": [
    "españita.moneda()"
   ]
  },
  {
   "cell_type": "code",
   "execution_count": null,
   "id": "7d6293ad-ad7d-4437-b281-b7d170b78961",
   "metadata": {},
   "outputs": [],
   "source": []
  },
  {
   "cell_type": "markdown",
   "id": "5e651efa-d034-44ec-980d-8425d46c37d2",
   "metadata": {},
   "source": [
    "Y checa la moneda de nicaragua"
   ]
  }
 ],
 "metadata": {
  "kernelspec": {
   "display_name": "Python [conda env:base] *",
   "language": "python",
   "name": "conda-base-py"
  },
  "language_info": {
   "codemirror_mode": {
    "name": "ipython",
    "version": 3
   },
   "file_extension": ".py",
   "mimetype": "text/x-python",
   "name": "python",
   "nbconvert_exporter": "python",
   "pygments_lexer": "ipython3",
   "version": "3.13.5"
  }
 },
 "nbformat": 4,
 "nbformat_minor": 5
}
